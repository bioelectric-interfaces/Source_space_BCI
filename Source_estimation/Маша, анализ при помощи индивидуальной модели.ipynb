{
 "cells": [
  {
   "cell_type": "code",
   "execution_count": 3,
   "metadata": {},
   "outputs": [],
   "source": [
    "import os.path as op\n",
    "import mne\n",
    "import numpy as np\n",
    "from mne.datasets import fetch_fsaverage\n",
    "from mne.minimum_norm import make_inverse_operator, apply_inverse,apply_inverse_raw, apply_inverse_epochs\n",
    "import numpy as np"
   ]
  },
  {
   "cell_type": "code",
   "execution_count": 4,
   "metadata": {},
   "outputs": [
    {
     "name": "stdout",
     "output_type": "stream",
     "text": [
      "Opening raw data file SG02/SG02_motor_clean.fif...\n",
      "    Range : 0 ... 93249 =      0.000 ...   372.996 secs\n",
      "Ready.\n",
      "Reading 0 ... 93249  =      0.000 ...   372.996 secs...\n"
     ]
    },
    {
     "name": "stderr",
     "output_type": "stream",
     "text": [
      "<ipython-input-4-cdfe3435136a>:1: RuntimeWarning: This filename (SG02/SG02_motor_clean.fif) does not conform to MNE naming conventions. All raw files should end with raw.fif, raw_sss.fif, raw_tsss.fif, _meg.fif, _eeg.fif, _ieeg.fif, raw.fif.gz, raw_sss.fif.gz, raw_tsss.fif.gz, _meg.fif.gz, _eeg.fif.gz or _ieeg.fif.gz\n",
      "  raw=mne.io.read_raw_fif('SG02/'+'SG02_motor_clean.fif',preload=True)\n"
     ]
    }
   ],
   "source": [
    "\n",
    "raw=mne.io.read_raw_fif('SG02/'+'SG02_motor_clean.fif',preload=True)\n",
    "stim_initial= np.genfromtxt('SG02/SG02_motor_clean_marks.csv', delimiter=',')\n"
   ]
  },
  {
   "cell_type": "code",
   "execution_count": 5,
   "metadata": {},
   "outputs": [
    {
     "name": "stdout",
     "output_type": "stream",
     "text": [
      "0 files missing from root.txt in C:\\Users\\CBI\\mne_data\\MNE-fsaverage-data\n",
      "0 files missing from bem.txt in C:\\Users\\CBI\\mne_data\\MNE-fsaverage-data\\fsaverage\n"
     ]
    }
   ],
   "source": [
    "fs_dir = fetch_fsaverage(verbose=True)\n",
    "subjects_dir = op.dirname(fs_dir)\n",
    "subject='fsaverage'"
   ]
  },
  {
   "cell_type": "code",
   "execution_count": null,
   "metadata": {},
   "outputs": [],
   "source": []
  },
  {
   "cell_type": "code",
   "execution_count": 6,
   "metadata": {},
   "outputs": [],
   "source": [
    "def all_about_forward(raw,subjects_dir,subject='fsaverage'):\n",
    "    \n",
    "\n",
    "    subject = 'fsaverage'\n",
    "    trans = 'fsaverage'  # MNE has a built-in fsaverage transformation\n",
    "    src = op.join(fs_dir, 'bem', 'fsaverage-ico-5-src.fif')\n",
    "    bem = op.join(fs_dir, 'bem', 'fsaverage-5120-5120-5120-bem-sol.fif')\n",
    "    \n",
    "    montage = mne.channels.make_standard_montage('standard_1005')\n",
    "    \n",
    "    dic={}\n",
    "\n",
    "    for i in range(len(raw.ch_names)):\n",
    "\n",
    "        kek=raw.ch_names[i].replace('.','').upper()\n",
    "        kek=kek.replace('Z','z')\n",
    "        kek=kek.replace('FP1','Fp1')\n",
    "        kek=kek.replace('FP2','Fp2')\n",
    "        kek=kek.replace('FPz','Fpz')\n",
    "        dic[raw.ch_names[i]]=kek\n",
    "    \n",
    "    \n",
    "    raw.rename_channels(mapping=dic)\n",
    "    raw.set_montage(montage)\n",
    "    raw.set_eeg_reference(projection=True)\n",
    "    events, _ = mne.events_from_annotations(raw, event_id=dict(T1=2, T2=3))\n",
    "\n",
    "    cov = mne.compute_raw_covariance(raw)\n",
    "\n",
    "    fwd = mne.make_forward_solution(raw.info, trans=trans, src=src,\n",
    "                                    bem=bem, eeg=True, mindist=5.0, n_jobs=1)\n",
    "    #print(fwd)\n",
    "\n",
    "    # Use fwd to compute the sensitivity map for illustration purposes\n",
    "    \n",
    "    cov = mne.compute_raw_covariance(raw)\n",
    "\n",
    "    \n",
    "    \n",
    "    return raw,cov,fwd"
   ]
  },
  {
   "cell_type": "code",
   "execution_count": 7,
   "metadata": {},
   "outputs": [],
   "source": [
    "\n",
    "fs_dir='SG02_anatomy/SG02'\n",
    "subject = 'SG02'\n",
    "trans = None  # MNE has a built-in fsaverage transformation\n",
    "src = op.join(fs_dir, 'bem', 'SG02-ico5-src.fif')\n",
    "bem = op.join(fs_dir, 'bem', 'SG02-bem.fif')"
   ]
  },
  {
   "cell_type": "code",
   "execution_count": 8,
   "metadata": {
    "scrolled": true
   },
   "outputs": [],
   "source": [
    "montage = mne.channels.make_standard_montage('standard_1005')\n"
   ]
  },
  {
   "cell_type": "code",
   "execution_count": 10,
   "metadata": {},
   "outputs": [
    {
     "name": "stderr",
     "output_type": "stream",
     "text": [
      "<ipython-input-10-983d1cadfdab>:2: RuntimeWarning: An average reference projection was already added. The data has been left untouched.\n",
      "  raw.set_eeg_reference(projection=True)\n"
     ]
    },
    {
     "data": {
      "text/html": [
       "\n",
       "\n",
       "<table class=\"table table-hover\">\n",
       "    <tr>\n",
       "        <th>Measurement date</th>\n",
       "        <td>January 01, 1970  00:35:47 GMT</td>\n",
       "        \n",
       "    </tr>\n",
       "    <tr>\n",
       "        <th>Experimenter</th>\n",
       "<td>Unknown</td>\n",
       "    </tr>\n",
       "        <th>Participant</th>\n",
       "<td>Unknown</td>\n",
       "    </tr>\n",
       "    <tr>\n",
       "        <th>Digitized points</th>\n",
       "        <td>33 points</td>\n",
       "    </tr>\n",
       "    <tr>\n",
       "        <th>Good channels</th>\n",
       "        <td>0 magnetometer, 0 gradiometer,\n",
       "            and 30 EEG channels</td>\n",
       "    </tr>\n",
       "    <tr>\n",
       "        <th>Bad channels</th>\n",
       "        <td></td>\n",
       "        \n",
       "    </tr>\n",
       "    <tr>\n",
       "        <th>EOG channels</th>\n",
       "        <td>Not available</td>\n",
       "    </tr>\n",
       "    <tr>\n",
       "        <th>ECG channels</th>\n",
       "        <td>Not available</td>\n",
       "    <tr>\n",
       "        <th>Sampling frequency</th>\n",
       "        <td>250.00 Hz</td>\n",
       "    </tr>\n",
       "    <tr>\n",
       "        <th>Highpass</th>\n",
       "        <td>1.00 Hz</td>\n",
       "    </tr>\n",
       "     <tr>\n",
       "        <th>Lowpass</th>\n",
       "        <td>40.00 Hz</td>\n",
       "    </tr>\n",
       "\n",
       "    <tr>\n",
       "        <th>Filenames</th>\n",
       "        <td>SG02_motor_clean.fif</td>\n",
       "    </tr>\n",
       "    <tr>\n",
       "        <th>Duration</th>\n",
       "        <td>00:06:12 (HH:MM:SS)</td>\n",
       "    </tr>\n",
       "</table>\n"
      ],
      "text/plain": [
       "<Raw | SG02_motor_clean.fif, 30 x 93250 (373.0 s), ~21.4 MB, data loaded>"
      ]
     },
     "execution_count": 10,
     "metadata": {},
     "output_type": "execute_result"
    }
   ],
   "source": [
    "raw.set_montage(montage)\n",
    "raw.set_eeg_reference(projection=True)\n"
   ]
  },
  {
   "cell_type": "code",
   "execution_count": 11,
   "metadata": {},
   "outputs": [],
   "source": [
    "cov_data = np.identity(30)\n",
    "\n",
    "cov = mne.Covariance(\n",
    "        cov_data, raw.info.ch_names, raw.info[\"bads\"], raw.info[\"projs\"], nfree=1\n",
    ")\n",
    "\n"
   ]
  },
  {
   "cell_type": "code",
   "execution_count": 12,
   "metadata": {},
   "outputs": [
    {
     "name": "stdout",
     "output_type": "stream",
     "text": [
      "Source space          : SG02_anatomy/SG02\\bem\\SG02-ico5-src.fif\n",
      "MRI -> head transform : identity\n",
      "Measurement data      : instance of Info\n",
      "Conductor model   : SG02_anatomy/SG02\\bem\\SG02-bem.fif\n",
      "Accurate field computations\n",
      "Do computations in head coordinates\n",
      "Free source orientations\n",
      "\n",
      "Reading SG02_anatomy/SG02\\bem\\SG02-ico5-src.fif...\n",
      "Read 2 source spaces a total of 20484 active source locations\n",
      "\n",
      "Coordinate transformation: MRI (surface RAS) -> head\n",
      "     1.000000  0.000000  0.000000       0.00 mm\n",
      "     0.000000  1.000000  0.000000       0.00 mm\n",
      "     0.000000  0.000000  1.000000       0.00 mm\n",
      "     0.000000  0.000000  0.000000       1.00\n",
      "\n",
      "Read  30 EEG channels from info\n",
      "Head coordinate coil definitions created.\n",
      "Source spaces are now in head coordinates.\n",
      "\n",
      "Setting up the BEM model using SG02_anatomy/SG02\\bem\\SG02-bem.fif...\n",
      "\n",
      "Loading surfaces...\n",
      "\n",
      "Loading the solution matrix...\n",
      "\n",
      "Three-layer model surfaces loaded.\n",
      "Loaded linear_collocation BEM solution from C:\\Users\\CBI\\Desktop\\Untitled Folder\\SG02_anatomy\\SG02\\bem\\SG02-bem.fif\n",
      "Employing the head->MRI coordinate transform with the BEM model.\n",
      "BEM model SG02-bem.fif is now set up\n",
      "\n",
      "Source spaces are in head coordinates.\n",
      "Checking that the sources are inside the surface and at least    5.0 mm away (will take a few...)\n",
      "    Skipping interior check for 2050 sources that fit inside a sphere of radius   40.2 mm\n",
      "    Skipping solid angle check for 0 points using Qhull\n",
      "    2 source space point omitted because of the    5.0-mm distance limit.\n",
      "    Computing patch statistics...\n",
      "    Patch information added...\n",
      "    Skipping interior check for 1978 sources that fit inside a sphere of radius   40.2 mm\n",
      "    Skipping solid angle check for 0 points using Qhull\n",
      "    9 source space point omitted because of the    5.0-mm distance limit.\n",
      "    Computing patch statistics...\n",
      "    Patch information added...\n",
      "\n",
      "Setting up for EEG...\n",
      "Computing EEG at 20473 source locations (free orientations)...\n",
      "\n",
      "Finished.\n"
     ]
    }
   ],
   "source": [
    "fwd = mne.make_forward_solution(raw.info, trans=trans, src=src, bem=bem, eeg=True, mindist=5.0, n_jobs=1)"
   ]
  },
  {
   "cell_type": "code",
   "execution_count": 13,
   "metadata": {},
   "outputs": [
    {
     "name": "stdout",
     "output_type": "stream",
     "text": [
      "Computing inverse operator with 30 channels.\n",
      "    30 out of 30 channels remain after picking\n",
      "Selected 30 channels\n",
      "Creating the depth weighting matrix...\n",
      "    30 EEG channels\n",
      "    limit = 20474/20473 = 5.484700\n",
      "    scale = 65199.4 exp = 0.8\n",
      "    Picked elements from a free-orientation depth-weighting prior into the fixed-orientation one\n",
      "    Average patch normals will be employed in the rotation to the local surface coordinates....\n",
      "    Converting to surface-based source orientations...\n",
      "    [done]\n",
      "Whitening the forward solution.\n",
      "    Created an SSP operator (subspace dimension = 1)\n",
      "Computing rank from covariance with rank=None\n",
      "    Using tolerance 6.7e-05 (2.2e-16 eps * 30 dim * 1e+10  max singular value)\n",
      "    Estimated rank (eeg): 29\n",
      "    EEG: rank 29 computed from 30 data channels with 1 projector\n",
      "    Setting small EEG eigenvalues to zero (without PCA)\n",
      "Creating the source covariance matrix\n",
      "Adjusting source covariance matrix.\n",
      "Computing SVD of whitened and weighted lead field matrix.\n",
      "    largest singular value = 3.20792\n",
      "    scaling factor to adjust the trace = 1.01084e+09 (nchan = 30 nzero = 1)\n"
     ]
    }
   ],
   "source": [
    "inv = make_inverse_operator(raw.info, fwd, cov, loose=0., depth=0.8,\n",
    "                            verbose=True)"
   ]
  },
  {
   "cell_type": "code",
   "execution_count": 14,
   "metadata": {},
   "outputs": [],
   "source": [
    "raw_example=raw.copy().crop(0,20)"
   ]
  },
  {
   "cell_type": "code",
   "execution_count": 15,
   "metadata": {},
   "outputs": [],
   "source": [
    "def events_matrix_from_list(stim_initial):\n",
    "    events_matrix=[]\n",
    "    for i in range(1,len(stim_initial)):\n",
    "        if stim_initial[i]!=stim_initial[i-1]:\n",
    "            events_matrix.append([i,0,str(int(stim_initial[i]))])\n",
    "        \n",
    "    events_matrix=np.array(events_matrix)\n",
    "    \n",
    "    return events_matrix.astype(int)"
   ]
  },
  {
   "cell_type": "code",
   "execution_count": 16,
   "metadata": {},
   "outputs": [
    {
     "name": "stdout",
     "output_type": "stream",
     "text": [
      "Not setting metadata\n",
      "Not setting metadata\n",
      "80 matching events found\n",
      "No baseline correction applied\n",
      "Created an SSP operator (subspace dimension = 1)\n",
      "1 projection items activated\n",
      "Loading data for 80 events and 1501 original time points ...\n",
      "1 bad epochs dropped\n"
     ]
    }
   ],
   "source": [
    "tmin, tmax = 0., 6.\n",
    "events_matrix=events_matrix_from_list(stim_initial)\n",
    "event_id=[2,3,4,5,6,7]\n",
    "\n",
    "#real epochs of eeg data\n",
    "epochs = mne.Epochs(raw, events_matrix, event_id, tmin, tmax, proj=True,\n",
    "                baseline=None, preload=True)"
   ]
  },
  {
   "cell_type": "code",
   "execution_count": 17,
   "metadata": {},
   "outputs": [
    {
     "ename": "SyntaxError",
     "evalue": "invalid syntax (<ipython-input-17-fa02d1c2072c>, line 1)",
     "output_type": "error",
     "traceback": [
      "\u001b[1;36m  File \u001b[1;32m\"<ipython-input-17-fa02d1c2072c>\"\u001b[1;36m, line \u001b[1;32m1\u001b[0m\n\u001b[1;33m    'Rest':2 , 'Left leg':4 ,  'Right leg':5, 'Left hand':6,'Right hand':7}\u001b[0m\n\u001b[1;37m             ^\u001b[0m\n\u001b[1;31mSyntaxError\u001b[0m\u001b[1;31m:\u001b[0m invalid syntax\n"
     ]
    }
   ],
   "source": [
    "'Rest':2 , 'Left leg':4 ,  'Right leg':5, 'Left hand':6,'Right hand':7}"
   ]
  },
  {
   "cell_type": "code",
   "execution_count": 18,
   "metadata": {},
   "outputs": [],
   "source": [
    "import matplotlib.pyplot as plt"
   ]
  },
  {
   "cell_type": "code",
   "execution_count": 19,
   "metadata": {},
   "outputs": [
    {
     "name": "stdout",
     "output_type": "stream",
     "text": [
      "Setting up band-pass filter from 7 - 13 Hz\n",
      "\n",
      "FIR filter parameters\n",
      "---------------------\n",
      "Designing a one-pass, zero-phase, non-causal bandpass filter:\n",
      "- Windowed time-domain design (firwin) method\n",
      "- Hamming window with 0.0194 passband ripple and 53 dB stopband attenuation\n",
      "- Lower passband edge: 7.00\n",
      "- Lower transition bandwidth: 2.00 Hz (-6 dB cutoff frequency: 6.00 Hz)\n",
      "- Upper passband edge: 13.00 Hz\n",
      "- Upper transition bandwidth: 3.25 Hz (-6 dB cutoff frequency: 14.62 Hz)\n",
      "- Filter length: 413 samples (1.652 sec)\n",
      "\n"
     ]
    },
    {
     "data": {
      "text/html": [
       "\n",
       "<table class=\"table table-hover\">\n",
       "    <tr>\n",
       "        <th>Number of events</th>\n",
       "        <td>8</td>\n",
       "    </tr>\n",
       "    <tr>\n",
       "        <th>Events</th>\n",
       "        <td>2: 8<br></td>\n",
       "    </tr>\n",
       "    <tr>\n",
       "        <th>Time range</th>\n",
       "        <td>0.000 – 6.000 sec</td>\n",
       "    </tr>\n",
       "    <tr>\n",
       "        <th>Baseline</th>\n",
       "        <td>off</td>\n",
       "    </tr>\n",
       "</table>\n"
      ],
      "text/plain": [
       "<Epochs |  8 events (all good), 0 - 6 sec, baseline off, ~2.8 MB, data loaded,\n",
       " '2': 8>"
      ]
     },
     "execution_count": 19,
     "metadata": {},
     "output_type": "execute_result"
    }
   ],
   "source": [
    "epochs_rest=epochs['2'].copy()\n",
    "epochs_rest.filter(7,13)"
   ]
  },
  {
   "cell_type": "code",
   "execution_count": 20,
   "metadata": {},
   "outputs": [
    {
     "name": "stdout",
     "output_type": "stream",
     "text": [
      "Preparing the inverse operator for use...\n",
      "    Scaled noise and source covariance from nave = 1 to nave = 1\n",
      "    Created the regularized inverter\n",
      "    Created an SSP operator (subspace dimension = 1)\n",
      "    Created the whitener using a noise covariance matrix with rank 29 (1 small eigenvalues omitted)\n",
      "Picked 30 channels from the data\n",
      "Computing inverse...\n",
      "    Eigenleads need to be weighted ...\n",
      "Processing epoch : 1 / 8\n",
      "Processing epoch : 2 / 8\n",
      "Processing epoch : 3 / 8\n",
      "Processing epoch : 4 / 8\n",
      "Processing epoch : 5 / 8\n",
      "Processing epoch : 6 / 8\n",
      "Processing epoch : 7 / 8\n",
      "Processing epoch : 8 / 8\n",
      "[done]\n",
      "Using pyvista 3d backend.\n",
      "\n",
      "Using control points [1.49877447e-11 1.74831489e-11 4.61577268e-11]\n"
     ]
    },
    {
     "ename": "FileNotFoundError",
     "evalue": "File does not exist: C:\\Users\\CBI\\mne_data\\MNE-fsaverage-data\\SG02\\surf\\lh.inflated",
     "output_type": "error",
     "traceback": [
      "\u001b[1;31m---------------------------------------------------------------------------\u001b[0m",
      "\u001b[1;31mFileNotFoundError\u001b[0m                         Traceback (most recent call last)",
      "\u001b[1;32m<ipython-input-20-feb8879f13b0>\u001b[0m in \u001b[0;36m<module>\u001b[1;34m\u001b[0m\n\u001b[0;32m      7\u001b[0m \u001b[1;33m\u001b[0m\u001b[0m\n\u001b[0;32m      8\u001b[0m \u001b[0mstc\u001b[0m \u001b[1;33m=\u001b[0m \u001b[0mapply_inverse_epochs\u001b[0m\u001b[1;33m(\u001b[0m\u001b[0mepochs_rest\u001b[0m\u001b[1;33m,\u001b[0m \u001b[0minv\u001b[0m\u001b[1;33m,\u001b[0m \u001b[0mlambda2\u001b[0m\u001b[1;33m,\u001b[0m \u001b[1;34m'MNE'\u001b[0m\u001b[1;33m,\u001b[0m \u001b[0mverbose\u001b[0m\u001b[1;33m=\u001b[0m\u001b[1;32mTrue\u001b[0m\u001b[1;33m)\u001b[0m\u001b[1;33m[\u001b[0m\u001b[1;36m0\u001b[0m\u001b[1;33m]\u001b[0m\u001b[1;33m\u001b[0m\u001b[1;33m\u001b[0m\u001b[0m\n\u001b[1;32m----> 9\u001b[1;33m \u001b[0mbrain\u001b[0m \u001b[1;33m=\u001b[0m \u001b[0mstc\u001b[0m\u001b[1;33m.\u001b[0m\u001b[0mplot\u001b[0m\u001b[1;33m(\u001b[0m\u001b[0mfigure\u001b[0m\u001b[1;33m=\u001b[0m\u001b[1;36m1\u001b[0m\u001b[1;33m,\u001b[0m \u001b[0minitial_time\u001b[0m\u001b[1;33m=\u001b[0m\u001b[1;36m0.08\u001b[0m\u001b[1;33m,\u001b[0m \u001b[0mhemi\u001b[0m\u001b[1;33m=\u001b[0m\u001b[1;34m'both'\u001b[0m\u001b[1;33m,\u001b[0m \u001b[0msubjects_dir\u001b[0m\u001b[1;33m=\u001b[0m\u001b[0msubjects_dir\u001b[0m\u001b[1;33m,\u001b[0m \u001b[0mcolorbar\u001b[0m\u001b[1;33m=\u001b[0m\u001b[1;32mFalse\u001b[0m\u001b[1;33m)\u001b[0m\u001b[1;33m\u001b[0m\u001b[1;33m\u001b[0m\u001b[0m\n\u001b[0m\u001b[0;32m     10\u001b[0m \u001b[0mbrain\u001b[0m\u001b[1;33m.\u001b[0m\u001b[0madd_text\u001b[0m\u001b[1;33m(\u001b[0m\u001b[1;36m0.1\u001b[0m\u001b[1;33m,\u001b[0m \u001b[1;36m0.9\u001b[0m\u001b[1;33m,\u001b[0m \u001b[1;34m'MNE'\u001b[0m\u001b[1;33m,\u001b[0m \u001b[1;34m'title'\u001b[0m\u001b[1;33m,\u001b[0m \u001b[0mfont_size\u001b[0m\u001b[1;33m=\u001b[0m\u001b[1;36m14\u001b[0m\u001b[1;33m)\u001b[0m\u001b[1;33m\u001b[0m\u001b[1;33m\u001b[0m\u001b[0m\n",
      "\u001b[1;32m~\\anaconda3\\envs\\source_space\\lib\\site-packages\\mne\\source_estimate.py\u001b[0m in \u001b[0;36mplot\u001b[1;34m(self, subject, surface, hemi, colormap, time_label, smoothing_steps, transparent, alpha, time_viewer, subjects_dir, figure, views, colorbar, clim, cortex, size, background, foreground, initial_time, time_unit, backend, spacing, title, show_traces, src, volume_options, view_layout, add_data_kwargs, brain_kwargs, verbose)\u001b[0m\n\u001b[0;32m    649\u001b[0m              \u001b[0msrc\u001b[0m\u001b[1;33m=\u001b[0m\u001b[1;32mNone\u001b[0m\u001b[1;33m,\u001b[0m \u001b[0mvolume_options\u001b[0m\u001b[1;33m=\u001b[0m\u001b[1;36m1.\u001b[0m\u001b[1;33m,\u001b[0m \u001b[0mview_layout\u001b[0m\u001b[1;33m=\u001b[0m\u001b[1;34m'vertical'\u001b[0m\u001b[1;33m,\u001b[0m\u001b[1;33m\u001b[0m\u001b[1;33m\u001b[0m\u001b[0m\n\u001b[0;32m    650\u001b[0m              add_data_kwargs=None, brain_kwargs=None, verbose=None):\n\u001b[1;32m--> 651\u001b[1;33m         brain = plot_source_estimates(\n\u001b[0m\u001b[0;32m    652\u001b[0m             \u001b[0mself\u001b[0m\u001b[1;33m,\u001b[0m \u001b[0msubject\u001b[0m\u001b[1;33m,\u001b[0m \u001b[0msurface\u001b[0m\u001b[1;33m=\u001b[0m\u001b[0msurface\u001b[0m\u001b[1;33m,\u001b[0m \u001b[0mhemi\u001b[0m\u001b[1;33m=\u001b[0m\u001b[0mhemi\u001b[0m\u001b[1;33m,\u001b[0m \u001b[0mcolormap\u001b[0m\u001b[1;33m=\u001b[0m\u001b[0mcolormap\u001b[0m\u001b[1;33m,\u001b[0m\u001b[1;33m\u001b[0m\u001b[1;33m\u001b[0m\u001b[0m\n\u001b[0;32m    653\u001b[0m             \u001b[0mtime_label\u001b[0m\u001b[1;33m=\u001b[0m\u001b[0mtime_label\u001b[0m\u001b[1;33m,\u001b[0m \u001b[0msmoothing_steps\u001b[0m\u001b[1;33m=\u001b[0m\u001b[0msmoothing_steps\u001b[0m\u001b[1;33m,\u001b[0m\u001b[1;33m\u001b[0m\u001b[1;33m\u001b[0m\u001b[0m\n",
      "\u001b[1;32m<decorator-gen-153>\u001b[0m in \u001b[0;36mplot_source_estimates\u001b[1;34m(stc, subject, surface, hemi, colormap, time_label, smoothing_steps, transparent, alpha, time_viewer, subjects_dir, figure, views, colorbar, clim, cortex, size, background, foreground, initial_time, time_unit, backend, spacing, title, show_traces, src, volume_options, view_layout, add_data_kwargs, brain_kwargs, verbose)\u001b[0m\n",
      "\u001b[1;32m~\\anaconda3\\envs\\source_space\\lib\\site-packages\\mne\\viz\\_3d.py\u001b[0m in \u001b[0;36mplot_source_estimates\u001b[1;34m(stc, subject, surface, hemi, colormap, time_label, smoothing_steps, transparent, alpha, time_viewer, subjects_dir, figure, views, colorbar, clim, cortex, size, background, foreground, initial_time, time_unit, backend, spacing, title, show_traces, src, volume_options, view_layout, add_data_kwargs, brain_kwargs, verbose)\u001b[0m\n\u001b[0;32m   1778\u001b[0m     \u001b[1;32melse\u001b[0m\u001b[1;33m:\u001b[0m\u001b[1;33m\u001b[0m\u001b[1;33m\u001b[0m\u001b[0m\n\u001b[0;32m   1779\u001b[0m         \u001b[1;32mwith\u001b[0m \u001b[0muse_3d_backend\u001b[0m\u001b[1;33m(\u001b[0m\u001b[0mbackend\u001b[0m\u001b[1;33m)\u001b[0m\u001b[1;33m:\u001b[0m\u001b[1;33m\u001b[0m\u001b[1;33m\u001b[0m\u001b[0m\n\u001b[1;32m-> 1780\u001b[1;33m             return _plot_stc(\n\u001b[0m\u001b[0;32m   1781\u001b[0m                 \u001b[0mstc\u001b[0m\u001b[1;33m,\u001b[0m \u001b[0moverlay_alpha\u001b[0m\u001b[1;33m=\u001b[0m\u001b[0malpha\u001b[0m\u001b[1;33m,\u001b[0m \u001b[0mbrain_alpha\u001b[0m\u001b[1;33m=\u001b[0m\u001b[0malpha\u001b[0m\u001b[1;33m,\u001b[0m\u001b[1;33m\u001b[0m\u001b[1;33m\u001b[0m\u001b[0m\n\u001b[0;32m   1782\u001b[0m                 \u001b[0mvector_alpha\u001b[0m\u001b[1;33m=\u001b[0m\u001b[0malpha\u001b[0m\u001b[1;33m,\u001b[0m \u001b[0mcortex\u001b[0m\u001b[1;33m=\u001b[0m\u001b[0mcortex\u001b[0m\u001b[1;33m,\u001b[0m \u001b[0mforeground\u001b[0m\u001b[1;33m=\u001b[0m\u001b[0mforeground\u001b[0m\u001b[1;33m,\u001b[0m\u001b[1;33m\u001b[0m\u001b[1;33m\u001b[0m\u001b[0m\n",
      "\u001b[1;32m~\\anaconda3\\envs\\source_space\\lib\\site-packages\\mne\\viz\\_3d.py\u001b[0m in \u001b[0;36m_plot_stc\u001b[1;34m(stc, subject, surface, hemi, colormap, time_label, smoothing_steps, subjects_dir, views, clim, figure, initial_time, time_unit, background, time_viewer, colorbar, transparent, brain_alpha, overlay_alpha, vector_alpha, cortex, foreground, size, scale_factor, show_traces, src, volume_options, view_layout, add_data_kwargs, brain_kwargs)\u001b[0m\n\u001b[0;32m   1860\u001b[0m                              'mayavi backend')\n\u001b[0;32m   1861\u001b[0m     \u001b[1;32mwith\u001b[0m \u001b[0mwarnings\u001b[0m\u001b[1;33m.\u001b[0m\u001b[0mcatch_warnings\u001b[0m\u001b[1;33m(\u001b[0m\u001b[0mrecord\u001b[0m\u001b[1;33m=\u001b[0m\u001b[1;32mTrue\u001b[0m\u001b[1;33m)\u001b[0m\u001b[1;33m:\u001b[0m  \u001b[1;31m# traits warnings\u001b[0m\u001b[1;33m\u001b[0m\u001b[1;33m\u001b[0m\u001b[0m\n\u001b[1;32m-> 1862\u001b[1;33m         \u001b[0mbrain\u001b[0m \u001b[1;33m=\u001b[0m \u001b[0mBrain\u001b[0m\u001b[1;33m(\u001b[0m\u001b[1;33m**\u001b[0m\u001b[0mkwargs\u001b[0m\u001b[1;33m)\u001b[0m\u001b[1;33m\u001b[0m\u001b[1;33m\u001b[0m\u001b[0m\n\u001b[0m\u001b[0;32m   1863\u001b[0m     \u001b[1;32mdel\u001b[0m \u001b[0mkwargs\u001b[0m\u001b[1;33m\u001b[0m\u001b[1;33m\u001b[0m\u001b[0m\n\u001b[0;32m   1864\u001b[0m \u001b[1;33m\u001b[0m\u001b[0m\n",
      "\u001b[1;32m~\\anaconda3\\envs\\source_space\\lib\\site-packages\\mne\\viz\\_brain\\_brain.py\u001b[0m in \u001b[0;36m__init__\u001b[1;34m(self, subject_id, hemi, surf, title, cortex, alpha, size, background, foreground, figure, subjects_dir, views, offset, show_toolbar, offscreen, interaction, units, view_layout, silhouette, theme, show)\u001b[0m\n\u001b[0;32m    491\u001b[0m                            units=self._units, x_dir=self._rigid[0, :3])\n\u001b[0;32m    492\u001b[0m             \u001b[1;31m# Load in the geometry and curvature\u001b[0m\u001b[1;33m\u001b[0m\u001b[1;33m\u001b[0m\u001b[1;33m\u001b[0m\u001b[0m\n\u001b[1;32m--> 493\u001b[1;33m             \u001b[0mgeo\u001b[0m\u001b[1;33m.\u001b[0m\u001b[0mload_geometry\u001b[0m\u001b[1;33m(\u001b[0m\u001b[1;33m)\u001b[0m\u001b[1;33m\u001b[0m\u001b[1;33m\u001b[0m\u001b[0m\n\u001b[0m\u001b[0;32m    494\u001b[0m             \u001b[0mgeo\u001b[0m\u001b[1;33m.\u001b[0m\u001b[0mload_curvature\u001b[0m\u001b[1;33m(\u001b[0m\u001b[1;33m)\u001b[0m\u001b[1;33m\u001b[0m\u001b[1;33m\u001b[0m\u001b[0m\n\u001b[0;32m    495\u001b[0m             \u001b[0mself\u001b[0m\u001b[1;33m.\u001b[0m\u001b[0mgeo\u001b[0m\u001b[1;33m[\u001b[0m\u001b[0mh\u001b[0m\u001b[1;33m]\u001b[0m \u001b[1;33m=\u001b[0m \u001b[0mgeo\u001b[0m\u001b[1;33m\u001b[0m\u001b[1;33m\u001b[0m\u001b[0m\n",
      "\u001b[1;32m~\\anaconda3\\envs\\source_space\\lib\\site-packages\\mne\\viz\\_brain\\surface.py\u001b[0m in \u001b[0;36mload_geometry\u001b[1;34m(self)\u001b[0m\n\u001b[0;32m    119\u001b[0m             \u001b[0mcoords\u001b[0m\u001b[1;33m[\u001b[0m\u001b[1;33m:\u001b[0m\u001b[1;33m,\u001b[0m \u001b[1;36m1\u001b[0m\u001b[1;33m]\u001b[0m \u001b[1;33m*=\u001b[0m \u001b[1;33m-\u001b[0m\u001b[1;36m1\u001b[0m\u001b[1;33m\u001b[0m\u001b[1;33m\u001b[0m\u001b[0m\n\u001b[0;32m    120\u001b[0m         \u001b[1;32melse\u001b[0m\u001b[1;33m:\u001b[0m\u001b[1;33m\u001b[0m\u001b[1;33m\u001b[0m\u001b[0m\n\u001b[1;32m--> 121\u001b[1;33m             coords, faces = read_surface(\n\u001b[0m\u001b[0;32m    122\u001b[0m                 path.join(self.data_path, 'surf',\n\u001b[0;32m    123\u001b[0m                           '%s.%s' % (self.hemi, self.surf)))\n",
      "\u001b[1;32m<decorator-gen-48>\u001b[0m in \u001b[0;36mread_surface\u001b[1;34m(fname, read_metadata, return_dict, file_format, verbose)\u001b[0m\n",
      "\u001b[1;32m~\\anaconda3\\envs\\source_space\\lib\\site-packages\\mne\\surface.py\u001b[0m in \u001b[0;36mread_surface\u001b[1;34m(fname, read_metadata, return_dict, file_format, verbose)\u001b[0m\n\u001b[0;32m    716\u001b[0m     \u001b[0mread_tri\u001b[0m\u001b[1;33m\u001b[0m\u001b[1;33m\u001b[0m\u001b[0m\n\u001b[0;32m    717\u001b[0m     \"\"\"\n\u001b[1;32m--> 718\u001b[1;33m     \u001b[0mfname\u001b[0m \u001b[1;33m=\u001b[0m \u001b[0m_check_fname\u001b[0m\u001b[1;33m(\u001b[0m\u001b[0mfname\u001b[0m\u001b[1;33m,\u001b[0m \u001b[1;34m'read'\u001b[0m\u001b[1;33m,\u001b[0m \u001b[1;32mTrue\u001b[0m\u001b[1;33m)\u001b[0m\u001b[1;33m\u001b[0m\u001b[1;33m\u001b[0m\u001b[0m\n\u001b[0m\u001b[0;32m    719\u001b[0m     \u001b[0m_check_option\u001b[0m\u001b[1;33m(\u001b[0m\u001b[1;34m'file_format'\u001b[0m\u001b[1;33m,\u001b[0m \u001b[0mfile_format\u001b[0m\u001b[1;33m,\u001b[0m \u001b[1;33m[\u001b[0m\u001b[1;34m'auto'\u001b[0m\u001b[1;33m,\u001b[0m \u001b[1;34m'freesurfer'\u001b[0m\u001b[1;33m,\u001b[0m \u001b[1;34m'obj'\u001b[0m\u001b[1;33m]\u001b[0m\u001b[1;33m)\u001b[0m\u001b[1;33m\u001b[0m\u001b[1;33m\u001b[0m\u001b[0m\n\u001b[0;32m    720\u001b[0m \u001b[1;33m\u001b[0m\u001b[0m\n",
      "\u001b[1;32m~\\anaconda3\\envs\\source_space\\lib\\site-packages\\mne\\utils\\check.py\u001b[0m in \u001b[0;36m_check_fname\u001b[1;34m(fname, overwrite, must_exist, name, need_dir)\u001b[0m\n\u001b[0;32m    176\u001b[0m                     f'{name} does not have read permissions: {fname}')\n\u001b[0;32m    177\u001b[0m     \u001b[1;32melif\u001b[0m \u001b[0mmust_exist\u001b[0m\u001b[1;33m:\u001b[0m\u001b[1;33m\u001b[0m\u001b[1;33m\u001b[0m\u001b[0m\n\u001b[1;32m--> 178\u001b[1;33m         \u001b[1;32mraise\u001b[0m \u001b[0mFileNotFoundError\u001b[0m\u001b[1;33m(\u001b[0m\u001b[1;34mf'{name} does not exist: {fname}'\u001b[0m\u001b[1;33m)\u001b[0m\u001b[1;33m\u001b[0m\u001b[1;33m\u001b[0m\u001b[0m\n\u001b[0m\u001b[0;32m    179\u001b[0m     \u001b[1;32mreturn\u001b[0m \u001b[0mstr\u001b[0m\u001b[1;33m(\u001b[0m\u001b[0mop\u001b[0m\u001b[1;33m.\u001b[0m\u001b[0mabspath\u001b[0m\u001b[1;33m(\u001b[0m\u001b[0mfname\u001b[0m\u001b[1;33m)\u001b[0m\u001b[1;33m)\u001b[0m\u001b[1;33m\u001b[0m\u001b[1;33m\u001b[0m\u001b[0m\n\u001b[0;32m    180\u001b[0m \u001b[1;33m\u001b[0m\u001b[0m\n",
      "\u001b[1;31mFileNotFoundError\u001b[0m: File does not exist: C:\\Users\\CBI\\mne_data\\MNE-fsaverage-data\\SG02\\surf\\lh.inflated"
     ]
    }
   ],
   "source": [
    "snr = 3.0\n",
    "lambda2 = 1.0 / snr ** 2\n",
    "kwargs = dict(initial_time=0.08, hemi='both', subjects_dir=subjects_dir,\n",
    "              size=(600, 600))\n",
    "\n",
    "#stc = abs(apply_inverse_raw(raw_example, inv, lambda2, 'MNE', verbose=True))\n",
    "\n",
    "stc = apply_inverse_epochs(epochs_rest, inv, lambda2, 'MNE', verbose=True)[0]\n",
    "brain = stc.plot(figure=1, initial_time=0.08, hemi='both', subjects_dir=subjects_dir, colorbar=False)\n",
    "brain.add_text(0.1, 0.9, 'MNE', 'title', font_size=14)\n"
   ]
  },
  {
   "cell_type": "code",
   "execution_count": 24,
   "metadata": {},
   "outputs": [
    {
     "data": {
      "text/plain": [
       "<SourceEstimate | 20473 vertices, subject : SG02, tmin : 0.0 (ms), tmax : 6000.0 (ms), tstep : 4.0 (ms), data shape : (20473, 1501), ~234.6 MB>"
      ]
     },
     "execution_count": 24,
     "metadata": {},
     "output_type": "execute_result"
    }
   ],
   "source": [
    "stc"
   ]
  },
  {
   "cell_type": "code",
   "execution_count": 25,
   "metadata": {},
   "outputs": [
    {
     "name": "stdout",
     "output_type": "stream",
     "text": [
      "Setting up band-pass filter from 7 - 13 Hz\n",
      "\n",
      "FIR filter parameters\n",
      "---------------------\n",
      "Designing a one-pass, zero-phase, non-causal bandpass filter:\n",
      "- Windowed time-domain design (firwin) method\n",
      "- Hamming window with 0.0194 passband ripple and 53 dB stopband attenuation\n",
      "- Lower passband edge: 7.00\n",
      "- Lower transition bandwidth: 2.00 Hz (-6 dB cutoff frequency: 6.00 Hz)\n",
      "- Upper passband edge: 13.00 Hz\n",
      "- Upper transition bandwidth: 3.25 Hz (-6 dB cutoff frequency: 14.62 Hz)\n",
      "- Filter length: 413 samples (1.652 sec)\n",
      "\n"
     ]
    },
    {
     "data": {
      "text/html": [
       "\n",
       "<table class=\"table table-hover\">\n",
       "    <tr>\n",
       "        <th>Number of events</th>\n",
       "        <td>8</td>\n",
       "    </tr>\n",
       "    <tr>\n",
       "        <th>Events</th>\n",
       "        <td>7: 8<br></td>\n",
       "    </tr>\n",
       "    <tr>\n",
       "        <th>Time range</th>\n",
       "        <td>0.000 – 6.000 sec</td>\n",
       "    </tr>\n",
       "    <tr>\n",
       "        <th>Baseline</th>\n",
       "        <td>off</td>\n",
       "    </tr>\n",
       "</table>\n"
      ],
      "text/plain": [
       "<Epochs |  8 events (all good), 0 - 6 sec, baseline off, ~2.8 MB, data loaded,\n",
       " '7': 8>"
      ]
     },
     "execution_count": 25,
     "metadata": {},
     "output_type": "execute_result"
    }
   ],
   "source": [
    "epochs_right_hand=epochs['7'].copy()\n",
    "epochs_right_hand.filter(7,13)"
   ]
  },
  {
   "cell_type": "code",
   "execution_count": 26,
   "metadata": {},
   "outputs": [
    {
     "name": "stdout",
     "output_type": "stream",
     "text": [
      "Preparing the inverse operator for use...\n",
      "    Scaled noise and source covariance from nave = 1 to nave = 1\n",
      "    Created the regularized inverter\n",
      "    Created an SSP operator (subspace dimension = 1)\n",
      "    Created the whitener using a noise covariance matrix with rank 29 (1 small eigenvalues omitted)\n",
      "Picked 30 channels from the data\n",
      "Computing inverse...\n",
      "    Eigenleads need to be weighted ...\n",
      "Processing epoch : 1 / 8\n",
      "Processing epoch : 2 / 8\n",
      "Processing epoch : 3 / 8\n",
      "Processing epoch : 4 / 8\n",
      "Processing epoch : 5 / 8\n",
      "Processing epoch : 6 / 8\n",
      "Processing epoch : 7 / 8\n",
      "Processing epoch : 8 / 8\n",
      "[done]\n",
      "Using control points [1.09599279e-11 1.25474867e-11 2.74344593e-11]\n"
     ]
    },
    {
     "ename": "FileNotFoundError",
     "evalue": "File does not exist: C:\\Users\\CBI\\mne_data\\MNE-fsaverage-data\\SG02\\surf\\lh.inflated",
     "output_type": "error",
     "traceback": [
      "\u001b[1;31m---------------------------------------------------------------------------\u001b[0m",
      "\u001b[1;31mFileNotFoundError\u001b[0m                         Traceback (most recent call last)",
      "\u001b[1;32m<ipython-input-26-1303a7bc53bc>\u001b[0m in \u001b[0;36m<module>\u001b[1;34m\u001b[0m\n\u001b[0;32m      1\u001b[0m \u001b[0mstc\u001b[0m \u001b[1;33m=\u001b[0m \u001b[0mapply_inverse_epochs\u001b[0m\u001b[1;33m(\u001b[0m\u001b[0mepochs_right_hand\u001b[0m\u001b[1;33m,\u001b[0m \u001b[0minv\u001b[0m\u001b[1;33m,\u001b[0m \u001b[0mlambda2\u001b[0m\u001b[1;33m,\u001b[0m \u001b[1;34m'MNE'\u001b[0m\u001b[1;33m,\u001b[0m \u001b[0mverbose\u001b[0m\u001b[1;33m=\u001b[0m\u001b[1;32mTrue\u001b[0m\u001b[1;33m)\u001b[0m\u001b[1;33m[\u001b[0m\u001b[1;36m1\u001b[0m\u001b[1;33m]\u001b[0m\u001b[1;33m\u001b[0m\u001b[1;33m\u001b[0m\u001b[0m\n\u001b[1;32m----> 2\u001b[1;33m \u001b[0mbrain\u001b[0m \u001b[1;33m=\u001b[0m \u001b[0mstc\u001b[0m\u001b[1;33m.\u001b[0m\u001b[0mplot\u001b[0m\u001b[1;33m(\u001b[0m\u001b[0mfigure\u001b[0m\u001b[1;33m=\u001b[0m\u001b[1;36m1\u001b[0m\u001b[1;33m,\u001b[0m \u001b[0minitial_time\u001b[0m\u001b[1;33m=\u001b[0m\u001b[1;36m0.08\u001b[0m\u001b[1;33m,\u001b[0m \u001b[0mhemi\u001b[0m\u001b[1;33m=\u001b[0m\u001b[1;34m'both'\u001b[0m\u001b[1;33m,\u001b[0m \u001b[0msubjects_dir\u001b[0m\u001b[1;33m=\u001b[0m\u001b[0msubjects_dir\u001b[0m\u001b[1;33m,\u001b[0m \u001b[0mcolorbar\u001b[0m\u001b[1;33m=\u001b[0m\u001b[1;32mFalse\u001b[0m\u001b[1;33m)\u001b[0m\u001b[1;33m\u001b[0m\u001b[1;33m\u001b[0m\u001b[0m\n\u001b[0m\u001b[0;32m      3\u001b[0m \u001b[0mbrain\u001b[0m\u001b[1;33m.\u001b[0m\u001b[0madd_text\u001b[0m\u001b[1;33m(\u001b[0m\u001b[1;36m0.1\u001b[0m\u001b[1;33m,\u001b[0m \u001b[1;36m0.9\u001b[0m\u001b[1;33m,\u001b[0m \u001b[1;34m'MNE'\u001b[0m\u001b[1;33m,\u001b[0m \u001b[1;34m'title'\u001b[0m\u001b[1;33m,\u001b[0m \u001b[0mfont_size\u001b[0m\u001b[1;33m=\u001b[0m\u001b[1;36m14\u001b[0m\u001b[1;33m)\u001b[0m\u001b[1;33m\u001b[0m\u001b[1;33m\u001b[0m\u001b[0m\n\u001b[0;32m      4\u001b[0m \u001b[1;33m\u001b[0m\u001b[0m\n",
      "\u001b[1;32m~\\anaconda3\\envs\\source_space\\lib\\site-packages\\mne\\source_estimate.py\u001b[0m in \u001b[0;36mplot\u001b[1;34m(self, subject, surface, hemi, colormap, time_label, smoothing_steps, transparent, alpha, time_viewer, subjects_dir, figure, views, colorbar, clim, cortex, size, background, foreground, initial_time, time_unit, backend, spacing, title, show_traces, src, volume_options, view_layout, add_data_kwargs, brain_kwargs, verbose)\u001b[0m\n\u001b[0;32m    649\u001b[0m              \u001b[0msrc\u001b[0m\u001b[1;33m=\u001b[0m\u001b[1;32mNone\u001b[0m\u001b[1;33m,\u001b[0m \u001b[0mvolume_options\u001b[0m\u001b[1;33m=\u001b[0m\u001b[1;36m1.\u001b[0m\u001b[1;33m,\u001b[0m \u001b[0mview_layout\u001b[0m\u001b[1;33m=\u001b[0m\u001b[1;34m'vertical'\u001b[0m\u001b[1;33m,\u001b[0m\u001b[1;33m\u001b[0m\u001b[1;33m\u001b[0m\u001b[0m\n\u001b[0;32m    650\u001b[0m              add_data_kwargs=None, brain_kwargs=None, verbose=None):\n\u001b[1;32m--> 651\u001b[1;33m         brain = plot_source_estimates(\n\u001b[0m\u001b[0;32m    652\u001b[0m             \u001b[0mself\u001b[0m\u001b[1;33m,\u001b[0m \u001b[0msubject\u001b[0m\u001b[1;33m,\u001b[0m \u001b[0msurface\u001b[0m\u001b[1;33m=\u001b[0m\u001b[0msurface\u001b[0m\u001b[1;33m,\u001b[0m \u001b[0mhemi\u001b[0m\u001b[1;33m=\u001b[0m\u001b[0mhemi\u001b[0m\u001b[1;33m,\u001b[0m \u001b[0mcolormap\u001b[0m\u001b[1;33m=\u001b[0m\u001b[0mcolormap\u001b[0m\u001b[1;33m,\u001b[0m\u001b[1;33m\u001b[0m\u001b[1;33m\u001b[0m\u001b[0m\n\u001b[0;32m    653\u001b[0m             \u001b[0mtime_label\u001b[0m\u001b[1;33m=\u001b[0m\u001b[0mtime_label\u001b[0m\u001b[1;33m,\u001b[0m \u001b[0msmoothing_steps\u001b[0m\u001b[1;33m=\u001b[0m\u001b[0msmoothing_steps\u001b[0m\u001b[1;33m,\u001b[0m\u001b[1;33m\u001b[0m\u001b[1;33m\u001b[0m\u001b[0m\n",
      "\u001b[1;32m<decorator-gen-153>\u001b[0m in \u001b[0;36mplot_source_estimates\u001b[1;34m(stc, subject, surface, hemi, colormap, time_label, smoothing_steps, transparent, alpha, time_viewer, subjects_dir, figure, views, colorbar, clim, cortex, size, background, foreground, initial_time, time_unit, backend, spacing, title, show_traces, src, volume_options, view_layout, add_data_kwargs, brain_kwargs, verbose)\u001b[0m\n",
      "\u001b[1;32m~\\anaconda3\\envs\\source_space\\lib\\site-packages\\mne\\viz\\_3d.py\u001b[0m in \u001b[0;36mplot_source_estimates\u001b[1;34m(stc, subject, surface, hemi, colormap, time_label, smoothing_steps, transparent, alpha, time_viewer, subjects_dir, figure, views, colorbar, clim, cortex, size, background, foreground, initial_time, time_unit, backend, spacing, title, show_traces, src, volume_options, view_layout, add_data_kwargs, brain_kwargs, verbose)\u001b[0m\n\u001b[0;32m   1778\u001b[0m     \u001b[1;32melse\u001b[0m\u001b[1;33m:\u001b[0m\u001b[1;33m\u001b[0m\u001b[1;33m\u001b[0m\u001b[0m\n\u001b[0;32m   1779\u001b[0m         \u001b[1;32mwith\u001b[0m \u001b[0muse_3d_backend\u001b[0m\u001b[1;33m(\u001b[0m\u001b[0mbackend\u001b[0m\u001b[1;33m)\u001b[0m\u001b[1;33m:\u001b[0m\u001b[1;33m\u001b[0m\u001b[1;33m\u001b[0m\u001b[0m\n\u001b[1;32m-> 1780\u001b[1;33m             return _plot_stc(\n\u001b[0m\u001b[0;32m   1781\u001b[0m                 \u001b[0mstc\u001b[0m\u001b[1;33m,\u001b[0m \u001b[0moverlay_alpha\u001b[0m\u001b[1;33m=\u001b[0m\u001b[0malpha\u001b[0m\u001b[1;33m,\u001b[0m \u001b[0mbrain_alpha\u001b[0m\u001b[1;33m=\u001b[0m\u001b[0malpha\u001b[0m\u001b[1;33m,\u001b[0m\u001b[1;33m\u001b[0m\u001b[1;33m\u001b[0m\u001b[0m\n\u001b[0;32m   1782\u001b[0m                 \u001b[0mvector_alpha\u001b[0m\u001b[1;33m=\u001b[0m\u001b[0malpha\u001b[0m\u001b[1;33m,\u001b[0m \u001b[0mcortex\u001b[0m\u001b[1;33m=\u001b[0m\u001b[0mcortex\u001b[0m\u001b[1;33m,\u001b[0m \u001b[0mforeground\u001b[0m\u001b[1;33m=\u001b[0m\u001b[0mforeground\u001b[0m\u001b[1;33m,\u001b[0m\u001b[1;33m\u001b[0m\u001b[1;33m\u001b[0m\u001b[0m\n",
      "\u001b[1;32m~\\anaconda3\\envs\\source_space\\lib\\site-packages\\mne\\viz\\_3d.py\u001b[0m in \u001b[0;36m_plot_stc\u001b[1;34m(stc, subject, surface, hemi, colormap, time_label, smoothing_steps, subjects_dir, views, clim, figure, initial_time, time_unit, background, time_viewer, colorbar, transparent, brain_alpha, overlay_alpha, vector_alpha, cortex, foreground, size, scale_factor, show_traces, src, volume_options, view_layout, add_data_kwargs, brain_kwargs)\u001b[0m\n\u001b[0;32m   1860\u001b[0m                              'mayavi backend')\n\u001b[0;32m   1861\u001b[0m     \u001b[1;32mwith\u001b[0m \u001b[0mwarnings\u001b[0m\u001b[1;33m.\u001b[0m\u001b[0mcatch_warnings\u001b[0m\u001b[1;33m(\u001b[0m\u001b[0mrecord\u001b[0m\u001b[1;33m=\u001b[0m\u001b[1;32mTrue\u001b[0m\u001b[1;33m)\u001b[0m\u001b[1;33m:\u001b[0m  \u001b[1;31m# traits warnings\u001b[0m\u001b[1;33m\u001b[0m\u001b[1;33m\u001b[0m\u001b[0m\n\u001b[1;32m-> 1862\u001b[1;33m         \u001b[0mbrain\u001b[0m \u001b[1;33m=\u001b[0m \u001b[0mBrain\u001b[0m\u001b[1;33m(\u001b[0m\u001b[1;33m**\u001b[0m\u001b[0mkwargs\u001b[0m\u001b[1;33m)\u001b[0m\u001b[1;33m\u001b[0m\u001b[1;33m\u001b[0m\u001b[0m\n\u001b[0m\u001b[0;32m   1863\u001b[0m     \u001b[1;32mdel\u001b[0m \u001b[0mkwargs\u001b[0m\u001b[1;33m\u001b[0m\u001b[1;33m\u001b[0m\u001b[0m\n\u001b[0;32m   1864\u001b[0m \u001b[1;33m\u001b[0m\u001b[0m\n",
      "\u001b[1;32m~\\anaconda3\\envs\\source_space\\lib\\site-packages\\mne\\viz\\_brain\\_brain.py\u001b[0m in \u001b[0;36m__init__\u001b[1;34m(self, subject_id, hemi, surf, title, cortex, alpha, size, background, foreground, figure, subjects_dir, views, offset, show_toolbar, offscreen, interaction, units, view_layout, silhouette, theme, show)\u001b[0m\n\u001b[0;32m    491\u001b[0m                            units=self._units, x_dir=self._rigid[0, :3])\n\u001b[0;32m    492\u001b[0m             \u001b[1;31m# Load in the geometry and curvature\u001b[0m\u001b[1;33m\u001b[0m\u001b[1;33m\u001b[0m\u001b[1;33m\u001b[0m\u001b[0m\n\u001b[1;32m--> 493\u001b[1;33m             \u001b[0mgeo\u001b[0m\u001b[1;33m.\u001b[0m\u001b[0mload_geometry\u001b[0m\u001b[1;33m(\u001b[0m\u001b[1;33m)\u001b[0m\u001b[1;33m\u001b[0m\u001b[1;33m\u001b[0m\u001b[0m\n\u001b[0m\u001b[0;32m    494\u001b[0m             \u001b[0mgeo\u001b[0m\u001b[1;33m.\u001b[0m\u001b[0mload_curvature\u001b[0m\u001b[1;33m(\u001b[0m\u001b[1;33m)\u001b[0m\u001b[1;33m\u001b[0m\u001b[1;33m\u001b[0m\u001b[0m\n\u001b[0;32m    495\u001b[0m             \u001b[0mself\u001b[0m\u001b[1;33m.\u001b[0m\u001b[0mgeo\u001b[0m\u001b[1;33m[\u001b[0m\u001b[0mh\u001b[0m\u001b[1;33m]\u001b[0m \u001b[1;33m=\u001b[0m \u001b[0mgeo\u001b[0m\u001b[1;33m\u001b[0m\u001b[1;33m\u001b[0m\u001b[0m\n",
      "\u001b[1;32m~\\anaconda3\\envs\\source_space\\lib\\site-packages\\mne\\viz\\_brain\\surface.py\u001b[0m in \u001b[0;36mload_geometry\u001b[1;34m(self)\u001b[0m\n\u001b[0;32m    119\u001b[0m             \u001b[0mcoords\u001b[0m\u001b[1;33m[\u001b[0m\u001b[1;33m:\u001b[0m\u001b[1;33m,\u001b[0m \u001b[1;36m1\u001b[0m\u001b[1;33m]\u001b[0m \u001b[1;33m*=\u001b[0m \u001b[1;33m-\u001b[0m\u001b[1;36m1\u001b[0m\u001b[1;33m\u001b[0m\u001b[1;33m\u001b[0m\u001b[0m\n\u001b[0;32m    120\u001b[0m         \u001b[1;32melse\u001b[0m\u001b[1;33m:\u001b[0m\u001b[1;33m\u001b[0m\u001b[1;33m\u001b[0m\u001b[0m\n\u001b[1;32m--> 121\u001b[1;33m             coords, faces = read_surface(\n\u001b[0m\u001b[0;32m    122\u001b[0m                 path.join(self.data_path, 'surf',\n\u001b[0;32m    123\u001b[0m                           '%s.%s' % (self.hemi, self.surf)))\n",
      "\u001b[1;32m<decorator-gen-48>\u001b[0m in \u001b[0;36mread_surface\u001b[1;34m(fname, read_metadata, return_dict, file_format, verbose)\u001b[0m\n",
      "\u001b[1;32m~\\anaconda3\\envs\\source_space\\lib\\site-packages\\mne\\surface.py\u001b[0m in \u001b[0;36mread_surface\u001b[1;34m(fname, read_metadata, return_dict, file_format, verbose)\u001b[0m\n\u001b[0;32m    716\u001b[0m     \u001b[0mread_tri\u001b[0m\u001b[1;33m\u001b[0m\u001b[1;33m\u001b[0m\u001b[0m\n\u001b[0;32m    717\u001b[0m     \"\"\"\n\u001b[1;32m--> 718\u001b[1;33m     \u001b[0mfname\u001b[0m \u001b[1;33m=\u001b[0m \u001b[0m_check_fname\u001b[0m\u001b[1;33m(\u001b[0m\u001b[0mfname\u001b[0m\u001b[1;33m,\u001b[0m \u001b[1;34m'read'\u001b[0m\u001b[1;33m,\u001b[0m \u001b[1;32mTrue\u001b[0m\u001b[1;33m)\u001b[0m\u001b[1;33m\u001b[0m\u001b[1;33m\u001b[0m\u001b[0m\n\u001b[0m\u001b[0;32m    719\u001b[0m     \u001b[0m_check_option\u001b[0m\u001b[1;33m(\u001b[0m\u001b[1;34m'file_format'\u001b[0m\u001b[1;33m,\u001b[0m \u001b[0mfile_format\u001b[0m\u001b[1;33m,\u001b[0m \u001b[1;33m[\u001b[0m\u001b[1;34m'auto'\u001b[0m\u001b[1;33m,\u001b[0m \u001b[1;34m'freesurfer'\u001b[0m\u001b[1;33m,\u001b[0m \u001b[1;34m'obj'\u001b[0m\u001b[1;33m]\u001b[0m\u001b[1;33m)\u001b[0m\u001b[1;33m\u001b[0m\u001b[1;33m\u001b[0m\u001b[0m\n\u001b[0;32m    720\u001b[0m \u001b[1;33m\u001b[0m\u001b[0m\n",
      "\u001b[1;32m~\\anaconda3\\envs\\source_space\\lib\\site-packages\\mne\\utils\\check.py\u001b[0m in \u001b[0;36m_check_fname\u001b[1;34m(fname, overwrite, must_exist, name, need_dir)\u001b[0m\n\u001b[0;32m    176\u001b[0m                     f'{name} does not have read permissions: {fname}')\n\u001b[0;32m    177\u001b[0m     \u001b[1;32melif\u001b[0m \u001b[0mmust_exist\u001b[0m\u001b[1;33m:\u001b[0m\u001b[1;33m\u001b[0m\u001b[1;33m\u001b[0m\u001b[0m\n\u001b[1;32m--> 178\u001b[1;33m         \u001b[1;32mraise\u001b[0m \u001b[0mFileNotFoundError\u001b[0m\u001b[1;33m(\u001b[0m\u001b[1;34mf'{name} does not exist: {fname}'\u001b[0m\u001b[1;33m)\u001b[0m\u001b[1;33m\u001b[0m\u001b[1;33m\u001b[0m\u001b[0m\n\u001b[0m\u001b[0;32m    179\u001b[0m     \u001b[1;32mreturn\u001b[0m \u001b[0mstr\u001b[0m\u001b[1;33m(\u001b[0m\u001b[0mop\u001b[0m\u001b[1;33m.\u001b[0m\u001b[0mabspath\u001b[0m\u001b[1;33m(\u001b[0m\u001b[0mfname\u001b[0m\u001b[1;33m)\u001b[0m\u001b[1;33m)\u001b[0m\u001b[1;33m\u001b[0m\u001b[1;33m\u001b[0m\u001b[0m\n\u001b[0;32m    180\u001b[0m \u001b[1;33m\u001b[0m\u001b[0m\n",
      "\u001b[1;31mFileNotFoundError\u001b[0m: File does not exist: C:\\Users\\CBI\\mne_data\\MNE-fsaverage-data\\SG02\\surf\\lh.inflated"
     ]
    }
   ],
   "source": [
    "stc = apply_inverse_epochs(epochs_right_hand, inv, lambda2, 'MNE', verbose=True)[1]\n",
    "brain = stc.plot(figure=1, initial_time=0.08, hemi='both', subjects_dir=subjects_dir, colorbar=False)\n",
    "brain.add_text(0.1, 0.9, 'MNE', 'title', font_size=14)\n",
    "\n"
   ]
  },
  {
   "cell_type": "code",
   "execution_count": null,
   "metadata": {},
   "outputs": [],
   "source": []
  },
  {
   "cell_type": "code",
   "execution_count": null,
   "metadata": {},
   "outputs": [],
   "source": []
  },
  {
   "cell_type": "code",
   "execution_count": 27,
   "metadata": {},
   "outputs": [
    {
     "name": "stdout",
     "output_type": "stream",
     "text": [
      "Setting up band-pass filter from 7 - 13 Hz\n",
      "\n",
      "FIR filter parameters\n",
      "---------------------\n",
      "Designing a one-pass, zero-phase, non-causal bandpass filter:\n",
      "- Windowed time-domain design (firwin) method\n",
      "- Hamming window with 0.0194 passband ripple and 53 dB stopband attenuation\n",
      "- Lower passband edge: 7.00\n",
      "- Lower transition bandwidth: 2.00 Hz (-6 dB cutoff frequency: 6.00 Hz)\n",
      "- Upper passband edge: 13.00 Hz\n",
      "- Upper transition bandwidth: 3.25 Hz (-6 dB cutoff frequency: 14.62 Hz)\n",
      "- Filter length: 413 samples (1.652 sec)\n",
      "\n"
     ]
    },
    {
     "data": {
      "text/html": [
       "\n",
       "<table class=\"table table-hover\">\n",
       "    <tr>\n",
       "        <th>Number of events</th>\n",
       "        <td>8</td>\n",
       "    </tr>\n",
       "    <tr>\n",
       "        <th>Events</th>\n",
       "        <td>6: 8<br></td>\n",
       "    </tr>\n",
       "    <tr>\n",
       "        <th>Time range</th>\n",
       "        <td>0.000 – 6.000 sec</td>\n",
       "    </tr>\n",
       "    <tr>\n",
       "        <th>Baseline</th>\n",
       "        <td>off</td>\n",
       "    </tr>\n",
       "</table>\n"
      ],
      "text/plain": [
       "<Epochs |  8 events (all good), 0 - 6 sec, baseline off, ~2.8 MB, data loaded,\n",
       " '6': 8>"
      ]
     },
     "execution_count": 27,
     "metadata": {},
     "output_type": "execute_result"
    }
   ],
   "source": [
    "epochs_left_hand=epochs['6'].copy()\n",
    "epochs_left_hand.filter(7,13)"
   ]
  },
  {
   "cell_type": "code",
   "execution_count": 87,
   "metadata": {},
   "outputs": [
    {
     "data": {
      "text/plain": [
       "0.1111111111111111"
      ]
     },
     "execution_count": 87,
     "metadata": {},
     "output_type": "execute_result"
    }
   ],
   "source": [
    "lambda2"
   ]
  },
  {
   "cell_type": "code",
   "execution_count": 90,
   "metadata": {},
   "outputs": [
    {
     "name": "stdout",
     "output_type": "stream",
     "text": [
      "Preparing the inverse operator for use...\n",
      "    Scaled noise and source covariance from nave = 1 to nave = 1\n",
      "    Created the regularized inverter\n",
      "    Created an SSP operator (subspace dimension = 1)\n",
      "    Created the whitener using a noise covariance matrix with rank 29 (1 small eigenvalues omitted)\n",
      "Picked 30 channels from the data\n",
      "Computing inverse...\n",
      "    Eigenleads need to be weighted ...\n",
      "Processing epoch : 1 / 8\n",
      "Processing epoch : 2 / 8\n",
      "Processing epoch : 3 / 8\n",
      "Processing epoch : 4 / 8\n",
      "Processing epoch : 5 / 8\n",
      "Processing epoch : 6 / 8\n",
      "Processing epoch : 7 / 8\n",
      "Processing epoch : 8 / 8\n",
      "[done]\n",
      "Using control points [1.74540327e-11 2.01234683e-11 4.85174295e-11]\n"
     ]
    }
   ],
   "source": [
    "stc = apply_inverse_epochs(epochs_left_hand, inv, lambda2, 'MNE', verbose=True)[1]\n",
    "brain = stc.plot(figure=1, initial_time=0.08, hemi='both', subjects_dir=subjects_dir, colorbar=False)\n",
    "brain.add_text(0.1, 0.9, 'MNE', 'title', font_size=14)"
   ]
  },
  {
   "cell_type": "code",
   "execution_count": null,
   "metadata": {},
   "outputs": [],
   "source": []
  },
  {
   "cell_type": "code",
   "execution_count": null,
   "metadata": {},
   "outputs": [],
   "source": []
  },
  {
   "cell_type": "markdown",
   "metadata": {},
   "source": [
    "### Смотрю как работает преобразование гильберта"
   ]
  },
  {
   "cell_type": "code",
   "execution_count": 108,
   "metadata": {},
   "outputs": [],
   "source": [
    "epochs_hilbert=epochs.copy()\n",
    "epochs_non_hilbert=epochs.copy()\n"
   ]
  },
  {
   "cell_type": "code",
   "execution_count": 109,
   "metadata": {},
   "outputs": [
    {
     "data": {
      "text/html": [
       "\n",
       "<table class=\"table table-hover\">\n",
       "    <tr>\n",
       "        <th>Number of events</th>\n",
       "        <td>79</td>\n",
       "    </tr>\n",
       "    <tr>\n",
       "        <th>Events</th>\n",
       "        <td>2: 8<br>3: 39<br>4: 8<br>5: 8<br>6: 8<br>7: 8<br></td>\n",
       "    </tr>\n",
       "    <tr>\n",
       "        <th>Time range</th>\n",
       "        <td>0.000 – 6.000 sec</td>\n",
       "    </tr>\n",
       "    <tr>\n",
       "        <th>Baseline</th>\n",
       "        <td>off</td>\n",
       "    </tr>\n",
       "</table>\n"
      ],
      "text/plain": [
       "<Epochs |  79 events (all good), 0 - 6 sec, baseline off, ~27.2 MB, data loaded,\n",
       " '2': 8\n",
       " '3': 39\n",
       " '4': 8\n",
       " '5': 8\n",
       " '6': 8\n",
       " '7': 8>"
      ]
     },
     "execution_count": 109,
     "metadata": {},
     "output_type": "execute_result"
    }
   ],
   "source": [
    "epochs_hilbert.apply_hilbert(envelope=True)"
   ]
  },
  {
   "cell_type": "code",
   "execution_count": 110,
   "metadata": {},
   "outputs": [
    {
     "data": {
      "text/plain": [
       "(79, 30, 1501)"
      ]
     },
     "execution_count": 110,
     "metadata": {},
     "output_type": "execute_result"
    }
   ],
   "source": [
    "epochs_hilbert.get_data().shape"
   ]
  },
  {
   "cell_type": "code",
   "execution_count": 106,
   "metadata": {},
   "outputs": [
    {
     "data": {
      "text/plain": [
       "(79, 30, 1501)"
      ]
     },
     "execution_count": 106,
     "metadata": {},
     "output_type": "execute_result"
    }
   ],
   "source": [
    "epochs_non_hilbert.get_data().shape"
   ]
  },
  {
   "cell_type": "code",
   "execution_count": 114,
   "metadata": {},
   "outputs": [],
   "source": [
    "%matplotlib qt5"
   ]
  },
  {
   "cell_type": "code",
   "execution_count": 115,
   "metadata": {},
   "outputs": [
    {
     "data": {
      "image/png": "[encoded data removed]",
      "text/plain": [
       "<MNEBrowseFigure size 640x480 with 4 Axes>"
      ]
     },
     "execution_count": 115,
     "metadata": {},
     "output_type": "execute_result"
    }
   ],
   "source": [
    "epochs_hilbert.plot()"
   ]
  },
  {
   "cell_type": "code",
   "execution_count": 116,
   "metadata": {},
   "outputs": [
    {
     "data": {
      "image/png": "[encoded data removed]",
      "text/plain": [
       "<MNEBrowseFigure size 640x480 with 4 Axes>"
      ]
     },
     "execution_count": 116,
     "metadata": {},
     "output_type": "execute_result"
    },
    {
     "name": "stdout",
     "output_type": "stream",
     "text": [
      "Dropped 0 epochs: \n",
      "Channels marked as bad: none\n",
      "Dropped 0 epochs: \n",
      "Channels marked as bad: none\n"
     ]
    }
   ],
   "source": [
    "epochs_non_hilbert.plot()"
   ]
  },
  {
   "cell_type": "code",
   "execution_count": null,
   "metadata": {},
   "outputs": [],
   "source": []
  },
  {
   "cell_type": "code",
   "execution_count": null,
   "metadata": {},
   "outputs": [],
   "source": []
  },
  {
   "cell_type": "markdown",
   "metadata": {},
   "source": [
    "### PSD"
   ]
  },
  {
   "cell_type": "code",
   "execution_count": 28,
   "metadata": {},
   "outputs": [],
   "source": [
    "from mne.minimum_norm import compute_source_psd_epochs"
   ]
  },
  {
   "cell_type": "code",
   "execution_count": 30,
   "metadata": {},
   "outputs": [
    {
     "data": {
      "text/plain": [
       "'C:\\\\Users\\\\CBI\\\\mne_data\\\\MNE-fsaverage-data'"
      ]
     },
     "execution_count": 30,
     "metadata": {},
     "output_type": "execute_result"
    }
   ],
   "source": [
    "subjects_dir"
   ]
  },
  {
   "cell_type": "code",
   "execution_count": 32,
   "metadata": {},
   "outputs": [
    {
     "name": "stdout",
     "output_type": "stream",
     "text": [
      "Reading labels from parcellation...\n",
      "   read 34 labels from SG02_anatomy\\SG02\\label\\lh.aparc.annot\n",
      "   read 34 labels from SG02_anatomy\\SG02\\label\\rh.aparc.annot\n"
     ]
    }
   ],
   "source": [
    "labels=mne.read_labels_from_annot(subject, \n",
    "                               parc='aparc', \n",
    "                               hemi='both', \n",
    "                               surf_name='pial', \n",
    "                               annot_fname=None, \n",
    "                               regexp=None, \n",
    "                               subjects_dir='SG02_anatomy', \n",
    "                               #sort=True, \n",
    "\n",
    "                                  verbose=None)"
   ]
  },
  {
   "cell_type": "code",
   "execution_count": 33,
   "metadata": {},
   "outputs": [
    {
     "data": {
      "text/plain": [
       "<Label | SG02, 'precentral-lh', lh : 6684 vertices>"
      ]
     },
     "execution_count": 33,
     "metadata": {},
     "output_type": "execute_result"
    }
   ],
   "source": [
    "labels[48]"
   ]
  },
  {
   "cell_type": "code",
   "execution_count": 34,
   "metadata": {},
   "outputs": [],
   "source": [
    "#labels_to_plot=[labels[48], labels[49]]\n",
    "\n",
    "labels_to_plot=labels[44]\n",
    "labels_to_plot=labels[48]"
   ]
  },
  {
   "cell_type": "code",
   "execution_count": 35,
   "metadata": {},
   "outputs": [
    {
     "data": {
      "text/plain": [
       "<Label | SG02, 'precentral-lh', lh : 6684 vertices>"
      ]
     },
     "execution_count": 35,
     "metadata": {},
     "output_type": "execute_result"
    }
   ],
   "source": [
    "labels_to_plot"
   ]
  },
  {
   "cell_type": "code",
   "execution_count": 36,
   "metadata": {},
   "outputs": [],
   "source": [
    "epochs_psd_rest=epochs['2'].copy()\n",
    "epochs_psd_right_hand=epochs['7'].copy()\n",
    "epochs_psd_left_hand=epochs['6'].copy()"
   ]
  },
  {
   "cell_type": "code",
   "execution_count": 37,
   "metadata": {},
   "outputs": [],
   "source": [
    "bandwidth = 4"
   ]
  },
  {
   "cell_type": "code",
   "execution_count": 38,
   "metadata": {},
   "outputs": [
    {
     "data": {
      "text/html": [
       "\n",
       "<table class=\"table table-hover\">\n",
       "    <tr>\n",
       "        <th>Number of events</th>\n",
       "        <td>8</td>\n",
       "    </tr>\n",
       "    <tr>\n",
       "        <th>Events</th>\n",
       "        <td>2: 8<br></td>\n",
       "    </tr>\n",
       "    <tr>\n",
       "        <th>Time range</th>\n",
       "        <td>0.000 – 6.000 sec</td>\n",
       "    </tr>\n",
       "    <tr>\n",
       "        <th>Baseline</th>\n",
       "        <td>off</td>\n",
       "    </tr>\n",
       "</table>\n"
      ],
      "text/plain": [
       "<Epochs |  8 events (all good), 0 - 6 sec, baseline off, ~2.8 MB, data loaded,\n",
       " '2': 8>"
      ]
     },
     "execution_count": 38,
     "metadata": {},
     "output_type": "execute_result"
    }
   ],
   "source": [
    "epochs_psd_rest"
   ]
  },
  {
   "cell_type": "code",
   "execution_count": 39,
   "metadata": {},
   "outputs": [
    {
     "name": "stdout",
     "output_type": "stream",
     "text": [
      "Considering frequencies 3 ... 30 Hz\n",
      "Preparing the inverse operator for use...\n",
      "    Scaled noise and source covariance from nave = 1 to nave = 1\n",
      "    Created the regularized inverter\n",
      "    Created an SSP operator (subspace dimension = 1)\n",
      "    Created the whitener using a noise covariance matrix with rank 29 (1 small eigenvalues omitted)\n",
      "Picked 30 channels from the data\n",
      "Computing inverse...\n",
      "    Eigenleads need to be weighted ...\n",
      "Reducing data rank 30 -> 29\n",
      "Using 23 tapers with bandwidth 4.0 Hz on 8 epochs\n"
     ]
    },
    {
     "data": {
      "application/vnd.jupyter.widget-view+json": {
       "model_id": "f455baaedf4b4de9b64ffe8f73862085",
       "version_major": 2,
       "version_minor": 0
      },
      "text/plain": [
       "HBox(children=(FloatProgress(value=0.0, max=8.0), HTML(value='')))"
      ]
     },
     "metadata": {},
     "output_type": "display_data"
    },
    {
     "name": "stdout",
     "output_type": "stream",
     "text": [
      "\n"
     ]
    }
   ],
   "source": [
    "\n",
    "stcs = compute_source_psd_epochs(epochs_psd_rest, inv,\n",
    "                                 lambda2=lambda2,\n",
    "                                 method='MNE', fmin=3, fmax=30,\n",
    "                                 bandwidth=bandwidth, label=labels_to_plot,\n",
    "                                 return_generator=True, verbose=True)\n",
    "\n",
    "# compute average PSD over the first 10 epochs\n",
    "psd_avg = 0.\n",
    "for i, stc in enumerate(stcs):\n",
    "    psd_avg += stc.data\n",
    "psd_avg /= len(epochs_psd_rest)\n",
    "freqs = stc.times  # the frequencies are stored here\n",
    "stc.data = psd_avg  # overwrite the last epoch's data with the average"
   ]
  },
  {
   "cell_type": "code",
   "execution_count": 337,
   "metadata": {},
   "outputs": [],
   "source": [
    "brain = stc.plot(initial_time=10., hemi='lh', views='lat',  # 10 HZ\n",
    "                 clim=dict(kind='value', lims=(20, 40, 60)),\n",
    "                 smoothing_steps=3, subjects_dir=subjects_dir)\n",
    "brain.add_label(labels_to_plot, borders=True, color='k')"
   ]
  },
  {
   "cell_type": "code",
   "execution_count": null,
   "metadata": {},
   "outputs": [],
   "source": []
  },
  {
   "cell_type": "code",
   "execution_count": 338,
   "metadata": {},
   "outputs": [
    {
     "data": {
      "text/plain": [
       "(674, 162)"
      ]
     },
     "execution_count": 338,
     "metadata": {},
     "output_type": "execute_result"
    }
   ],
   "source": [
    "psd_avg.shape"
   ]
  },
  {
   "cell_type": "code",
   "execution_count": 339,
   "metadata": {},
   "outputs": [
    {
     "data": {
      "text/plain": [
       "(8, 30, 1501)"
      ]
     },
     "execution_count": 339,
     "metadata": {},
     "output_type": "execute_result"
    }
   ],
   "source": [
    "epochs_psd_right_hand.get_data().shape"
   ]
  },
  {
   "cell_type": "code",
   "execution_count": 340,
   "metadata": {},
   "outputs": [
    {
     "name": "stdout",
     "output_type": "stream",
     "text": [
      "Considering frequencies 3 ... 30 Hz\n",
      "Preparing the inverse operator for use...\n",
      "    Scaled noise and source covariance from nave = 1 to nave = 1\n",
      "    Created the regularized inverter\n",
      "    Created an SSP operator (subspace dimension = 1)\n",
      "    Created the whitener using a noise covariance matrix with rank 29 (1 small eigenvalues omitted)\n",
      "Picked 30 channels from the data\n",
      "Computing inverse...\n",
      "    Eigenleads need to be weighted ...\n",
      "Reducing data rank 30 -> 29\n",
      "Using 23 tapers with bandwidth 4.0 Hz on 8 epochs\n"
     ]
    },
    {
     "data": {
      "application/vnd.jupyter.widget-view+json": {
       "model_id": "9e7d156cc1ae498faa8ac5c5d50a9ce7",
       "version_major": 2,
       "version_minor": 0
      },
      "text/plain": [
       "HBox(children=(FloatProgress(value=0.0, max=8.0), HTML(value='')))"
      ]
     },
     "metadata": {},
     "output_type": "display_data"
    },
    {
     "name": "stdout",
     "output_type": "stream",
     "text": [
      "\n"
     ]
    }
   ],
   "source": [
    "\n",
    "stcs = compute_source_psd_epochs(epochs_psd_right_hand, inv,\n",
    "                                 lambda2=lambda2,\n",
    "                                 method='MNE', fmin=3, fmax=30,\n",
    "                                 bandwidth=bandwidth, label=labels_to_plot,\n",
    "                                 return_generator=True, verbose=True)\n",
    "\n",
    "# compute average PSD over the first 10 epochs\n",
    "psd_avg = 0.\n",
    "for i, stc in enumerate(stcs):\n",
    "    psd_avg += stc.data\n",
    "psd_avg /= len(epochs_psd_right_hand)\n",
    "freqs = stc.times  # the frequencies are stored here\n",
    "stc.data = psd_avg  # overwrite the last epoch's data with the average"
   ]
  },
  {
   "cell_type": "code",
   "execution_count": 341,
   "metadata": {},
   "outputs": [],
   "source": [
    "brain = stc.plot(initial_time=10., hemi='lh', views='lat',  # 10 HZ\n",
    "                 clim=dict(kind='value', lims=(20, 40, 60)),\n",
    "                 smoothing_steps=3, subjects_dir=subjects_dir)\n",
    "brain.add_label(labels_to_plot, borders=True, color='k')"
   ]
  },
  {
   "cell_type": "code",
   "execution_count": null,
   "metadata": {},
   "outputs": [],
   "source": []
  },
  {
   "cell_type": "code",
   "execution_count": null,
   "metadata": {},
   "outputs": [],
   "source": []
  },
  {
   "cell_type": "code",
   "execution_count": 342,
   "metadata": {},
   "outputs": [
    {
     "name": "stdout",
     "output_type": "stream",
     "text": [
      "Considering frequencies 3 ... 30 Hz\n",
      "Preparing the inverse operator for use...\n",
      "    Scaled noise and source covariance from nave = 1 to nave = 1\n",
      "    Created the regularized inverter\n",
      "    Created an SSP operator (subspace dimension = 1)\n",
      "    Created the whitener using a noise covariance matrix with rank 29 (1 small eigenvalues omitted)\n",
      "Picked 30 channels from the data\n",
      "Computing inverse...\n",
      "    Eigenleads need to be weighted ...\n",
      "Reducing data rank 30 -> 29\n",
      "Using 23 tapers with bandwidth 4.0 Hz on 8 epochs\n"
     ]
    },
    {
     "data": {
      "application/vnd.jupyter.widget-view+json": {
       "model_id": "6c17fc0f57d1452d868df53e63f341a8",
       "version_major": 2,
       "version_minor": 0
      },
      "text/plain": [
       "HBox(children=(FloatProgress(value=0.0, max=8.0), HTML(value='')))"
      ]
     },
     "metadata": {},
     "output_type": "display_data"
    },
    {
     "name": "stdout",
     "output_type": "stream",
     "text": [
      "\n"
     ]
    }
   ],
   "source": [
    "\n",
    "stcs = compute_source_psd_epochs(epochs_psd_left_hand, inv,\n",
    "                                 lambda2=lambda2,\n",
    "                                 method='MNE', fmin=3, fmax=30,\n",
    "                                 bandwidth=bandwidth, label=labels_to_plot,\n",
    "                                 return_generator=True, verbose=True)\n",
    "\n",
    "# compute average PSD over the first 10 epochs\n",
    "psd_avg = 0.\n",
    "for i, stc in enumerate(stcs):\n",
    "    psd_avg += stc.data\n",
    "psd_avg /= len(epochs_psd_right_hand)\n",
    "freqs = stc.times  # the frequencies are stored here\n",
    "stc.data = psd_avg  # overwrite the last epoch's data with the average"
   ]
  },
  {
   "cell_type": "code",
   "execution_count": 343,
   "metadata": {},
   "outputs": [],
   "source": [
    "brain = stc.plot(initial_time=10., hemi='lh', views='lat',  # 10 HZ\n",
    "                 clim=dict(kind='value', lims=(20, 40, 60)),\n",
    "                 smoothing_steps=3, subjects_dir=subjects_dir)\n",
    "brain.add_label(labels_to_plot, borders=True, color='k')"
   ]
  },
  {
   "cell_type": "code",
   "execution_count": 344,
   "metadata": {},
   "outputs": [
    {
     "data": {
      "text/plain": [
       "Text(0, 0.5, 'Power Spectral Density')"
      ]
     },
     "execution_count": 344,
     "metadata": {},
     "output_type": "execute_result"
    }
   ],
   "source": []
  },
  {
   "cell_type": "markdown",
   "metadata": {},
   "source": [
    "### Как меняет спектрограмма при разных значениях лямбды"
   ]
  },
  {
   "cell_type": "code",
   "execution_count": 60,
   "metadata": {},
   "outputs": [
    {
     "data": {
      "text/plain": [
       "<Label | SG02, 'postcentral-rh', rh : 5499 vertices>"
      ]
     },
     "execution_count": 60,
     "metadata": {},
     "output_type": "execute_result"
    }
   ],
   "source": [
    "labels_to_plot=labels[45]\n",
    "labels_to_plot"
   ]
  },
  {
   "cell_type": "code",
   "execution_count": 61,
   "metadata": {
    "scrolled": false
   },
   "outputs": [
    {
     "name": "stdout",
     "output_type": "stream",
     "text": [
      "Considering frequencies 3 ... 30 Hz\n",
      "Preparing the inverse operator for use...\n",
      "    Scaled noise and source covariance from nave = 1 to nave = 1\n",
      "    Created the regularized inverter\n",
      "    Created an SSP operator (subspace dimension = 1)\n",
      "    Created the whitener using a noise covariance matrix with rank 29 (1 small eigenvalues omitted)\n",
      "Picked 30 channels from the data\n",
      "Computing inverse...\n",
      "    Eigenleads need to be weighted ...\n",
      "Reducing data rank 30 -> 29\n",
      "Using 23 tapers with bandwidth 4.0 Hz on 8 epochs\n"
     ]
    },
    {
     "data": {
      "application/vnd.jupyter.widget-view+json": {
       "model_id": "70c884f3109d463a8eafef7d3a743332",
       "version_major": 2,
       "version_minor": 0
      },
      "text/plain": [
       "HBox(children=(FloatProgress(value=0.0, max=8.0), HTML(value='')))"
      ]
     },
     "metadata": {},
     "output_type": "display_data"
    },
    {
     "name": "stdout",
     "output_type": "stream",
     "text": [
      "\n",
      "Considering frequencies 3 ... 30 Hz\n",
      "Preparing the inverse operator for use...\n",
      "    Scaled noise and source covariance from nave = 1 to nave = 1\n",
      "    Created the regularized inverter\n",
      "    Created an SSP operator (subspace dimension = 1)\n",
      "    Created the whitener using a noise covariance matrix with rank 29 (1 small eigenvalues omitted)\n",
      "Picked 30 channels from the data\n",
      "Computing inverse...\n",
      "    Eigenleads need to be weighted ...\n",
      "Reducing data rank 30 -> 29\n",
      "Using 23 tapers with bandwidth 4.0 Hz on 8 epochs\n"
     ]
    },
    {
     "data": {
      "application/vnd.jupyter.widget-view+json": {
       "model_id": "2171c03dcacc455d9f076e8827ca4037",
       "version_major": 2,
       "version_minor": 0
      },
      "text/plain": [
       "HBox(children=(FloatProgress(value=0.0, max=8.0), HTML(value='')))"
      ]
     },
     "metadata": {},
     "output_type": "display_data"
    },
    {
     "name": "stdout",
     "output_type": "stream",
     "text": [
      "\n",
      "Considering frequencies 3 ... 30 Hz\n",
      "Preparing the inverse operator for use...\n",
      "    Scaled noise and source covariance from nave = 1 to nave = 1\n",
      "    Created the regularized inverter\n",
      "    Created an SSP operator (subspace dimension = 1)\n",
      "    Created the whitener using a noise covariance matrix with rank 29 (1 small eigenvalues omitted)\n",
      "Picked 30 channels from the data\n",
      "Computing inverse...\n",
      "    Eigenleads need to be weighted ...\n",
      "Reducing data rank 30 -> 29\n",
      "Using 23 tapers with bandwidth 4.0 Hz on 8 epochs\n"
     ]
    },
    {
     "data": {
      "application/vnd.jupyter.widget-view+json": {
       "model_id": "eaee423f7e724e28a04449dfb9244943",
       "version_major": 2,
       "version_minor": 0
      },
      "text/plain": [
       "HBox(children=(FloatProgress(value=0.0, max=8.0), HTML(value='')))"
      ]
     },
     "metadata": {},
     "output_type": "display_data"
    },
    {
     "name": "stdout",
     "output_type": "stream",
     "text": [
      "\n",
      "Considering frequencies 3 ... 30 Hz\n",
      "Preparing the inverse operator for use...\n",
      "    Scaled noise and source covariance from nave = 1 to nave = 1\n",
      "    Created the regularized inverter\n",
      "    Created an SSP operator (subspace dimension = 1)\n",
      "    Created the whitener using a noise covariance matrix with rank 29 (1 small eigenvalues omitted)\n",
      "Picked 30 channels from the data\n",
      "Computing inverse...\n",
      "    Eigenleads need to be weighted ...\n",
      "Reducing data rank 30 -> 29\n",
      "Using 23 tapers with bandwidth 4.0 Hz on 8 epochs\n"
     ]
    },
    {
     "data": {
      "application/vnd.jupyter.widget-view+json": {
       "model_id": "cf010af016df4764b47cba130e71cc64",
       "version_major": 2,
       "version_minor": 0
      },
      "text/plain": [
       "HBox(children=(FloatProgress(value=0.0, max=8.0), HTML(value='')))"
      ]
     },
     "metadata": {},
     "output_type": "display_data"
    },
    {
     "name": "stdout",
     "output_type": "stream",
     "text": [
      "\n",
      "Considering frequencies 3 ... 30 Hz\n",
      "Preparing the inverse operator for use...\n",
      "    Scaled noise and source covariance from nave = 1 to nave = 1\n",
      "    Created the regularized inverter\n",
      "    Created an SSP operator (subspace dimension = 1)\n",
      "    Created the whitener using a noise covariance matrix with rank 29 (1 small eigenvalues omitted)\n",
      "Picked 30 channels from the data\n",
      "Computing inverse...\n",
      "    Eigenleads need to be weighted ...\n",
      "Reducing data rank 30 -> 29\n",
      "Using 23 tapers with bandwidth 4.0 Hz on 8 epochs\n"
     ]
    },
    {
     "data": {
      "application/vnd.jupyter.widget-view+json": {
       "model_id": "494f8dd822e54de98ce36c20b63b79ba",
       "version_major": 2,
       "version_minor": 0
      },
      "text/plain": [
       "HBox(children=(FloatProgress(value=0.0, max=8.0), HTML(value='')))"
      ]
     },
     "metadata": {},
     "output_type": "display_data"
    },
    {
     "name": "stdout",
     "output_type": "stream",
     "text": [
      "\n"
     ]
    },
    {
     "data": {
      "text/plain": [
       "Text(0.5, 1.0, 'a')"
      ]
     },
     "execution_count": 61,
     "metadata": {},
     "output_type": "execute_result"
    }
   ],
   "source": [
    "fig, ax = plt.subplots()\n",
    "\n",
    "lambdas=[0.001,0.01,0.05,0.1,0.4]\n",
    "\n",
    "for i in lambdas:\n",
    "    lambda2=i\n",
    "    stcs = compute_source_psd_epochs(epochs_psd_rest, inv,\n",
    "                                     lambda2=lambda2,\n",
    "                                     method='MNE', fmin=3, fmax=30,\n",
    "                                     bandwidth=bandwidth, label=labels_to_plot,\n",
    "                                     return_generator=True, verbose=True)\n",
    "\n",
    "    # compute average PSD over the first 10 epochs\n",
    "    psd_avg = 0.\n",
    "    for i, stc in enumerate(stcs):\n",
    "        psd_avg += stc.data\n",
    "    psd_avg /= len(epochs_psd_right_hand)\n",
    "    freqs = stc.times  # the frequencies are stored here\n",
    "    stc.data = psd_avg  # overwrite the last epoch's data with the average\n",
    "    \n",
    "    \n",
    "    ax.plot(freqs, psd_avg.mean(axis=0),label=str(lambda2))\n",
    "    \n",
    "ax.set_xlabel('Freq (Hz)')\n",
    "ax.set_xlim(stc.times[[0, -1]])\n",
    "ax.set_ylabel('Power Spectral Density')\n",
    "ax.legend()\n",
    "ax.set_title('a')"
   ]
  },
  {
   "cell_type": "code",
   "execution_count": 62,
   "metadata": {},
   "outputs": [
    {
     "data": {
      "text/plain": [
       "<Label | SG02, 'postcentral-rh', rh : 5499 vertices>"
      ]
     },
     "execution_count": 62,
     "metadata": {},
     "output_type": "execute_result"
    }
   ],
   "source": [
    "labels_to_plot"
   ]
  },
  {
   "cell_type": "code",
   "execution_count": 63,
   "metadata": {},
   "outputs": [
    {
     "data": {
      "text/plain": [
       "<Label | SG02, 'precentral-rh', rh : 6328 vertices>"
      ]
     },
     "execution_count": 63,
     "metadata": {},
     "output_type": "execute_result"
    }
   ],
   "source": [
    "labels_to_plot=labels[49]\n",
    "labels_to_plot"
   ]
  },
  {
   "cell_type": "code",
   "execution_count": 52,
   "metadata": {},
   "outputs": [],
   "source": [
    "%matplotlib qt5"
   ]
  },
  {
   "cell_type": "code",
   "execution_count": 64,
   "metadata": {},
   "outputs": [
    {
     "name": "stdout",
     "output_type": "stream",
     "text": [
      "Considering frequencies 3 ... 30 Hz\n",
      "Preparing the inverse operator for use...\n",
      "    Scaled noise and source covariance from nave = 1 to nave = 1\n",
      "    Created the regularized inverter\n",
      "    Created an SSP operator (subspace dimension = 1)\n",
      "    Created the whitener using a noise covariance matrix with rank 29 (1 small eigenvalues omitted)\n",
      "Picked 30 channels from the data\n",
      "Computing inverse...\n",
      "    Eigenleads need to be weighted ...\n",
      "Reducing data rank 30 -> 29\n",
      "Using 23 tapers with bandwidth 4.0 Hz on 8 epochs\n"
     ]
    },
    {
     "data": {
      "application/vnd.jupyter.widget-view+json": {
       "model_id": "2f882115edc1414d845bd6eb965faab0",
       "version_major": 2,
       "version_minor": 0
      },
      "text/plain": [
       "HBox(children=(FloatProgress(value=0.0, max=8.0), HTML(value='')))"
      ]
     },
     "metadata": {},
     "output_type": "display_data"
    },
    {
     "name": "stdout",
     "output_type": "stream",
     "text": [
      "\n",
      "3.966669095938144e-16\n",
      "Considering frequencies 3 ... 30 Hz\n",
      "Preparing the inverse operator for use...\n",
      "    Scaled noise and source covariance from nave = 1 to nave = 1\n",
      "    Created the regularized inverter\n",
      "    Created an SSP operator (subspace dimension = 1)\n",
      "    Created the whitener using a noise covariance matrix with rank 29 (1 small eigenvalues omitted)\n",
      "Picked 30 channels from the data\n",
      "Computing inverse...\n",
      "    Eigenleads need to be weighted ...\n",
      "Reducing data rank 30 -> 29\n",
      "Using 23 tapers with bandwidth 4.0 Hz on 8 epochs\n"
     ]
    },
    {
     "data": {
      "application/vnd.jupyter.widget-view+json": {
       "model_id": "9da72f776541404b95c3421dd498f569",
       "version_major": 2,
       "version_minor": 0
      },
      "text/plain": [
       "HBox(children=(FloatProgress(value=0.0, max=8.0), HTML(value='')))"
      ]
     },
     "metadata": {},
     "output_type": "display_data"
    },
    {
     "name": "stdout",
     "output_type": "stream",
     "text": [
      "\n",
      "2.0464936754944817e-16\n",
      "Considering frequencies 3 ... 30 Hz\n",
      "Preparing the inverse operator for use...\n",
      "    Scaled noise and source covariance from nave = 1 to nave = 1\n",
      "    Created the regularized inverter\n",
      "    Created an SSP operator (subspace dimension = 1)\n",
      "    Created the whitener using a noise covariance matrix with rank 29 (1 small eigenvalues omitted)\n",
      "Picked 30 channels from the data\n",
      "Computing inverse...\n",
      "    Eigenleads need to be weighted ...\n",
      "Reducing data rank 30 -> 29\n",
      "Using 23 tapers with bandwidth 4.0 Hz on 8 epochs\n"
     ]
    },
    {
     "data": {
      "application/vnd.jupyter.widget-view+json": {
       "model_id": "d5f17b78614844099d023de1da56876a",
       "version_major": 2,
       "version_minor": 0
      },
      "text/plain": [
       "HBox(children=(FloatProgress(value=0.0, max=8.0), HTML(value='')))"
      ]
     },
     "metadata": {},
     "output_type": "display_data"
    },
    {
     "name": "stdout",
     "output_type": "stream",
     "text": [
      "\n",
      "9.178322937612644e-17\n",
      "Considering frequencies 3 ... 30 Hz\n",
      "Preparing the inverse operator for use...\n",
      "    Scaled noise and source covariance from nave = 1 to nave = 1\n",
      "    Created the regularized inverter\n",
      "    Created an SSP operator (subspace dimension = 1)\n",
      "    Created the whitener using a noise covariance matrix with rank 29 (1 small eigenvalues omitted)\n",
      "Picked 30 channels from the data\n",
      "Computing inverse...\n",
      "    Eigenleads need to be weighted ...\n",
      "Reducing data rank 30 -> 29\n",
      "Using 23 tapers with bandwidth 4.0 Hz on 8 epochs\n"
     ]
    },
    {
     "data": {
      "application/vnd.jupyter.widget-view+json": {
       "model_id": "7c6b190dd3bf4af88ffd6271584462d4",
       "version_major": 2,
       "version_minor": 0
      },
      "text/plain": [
       "HBox(children=(FloatProgress(value=0.0, max=8.0), HTML(value='')))"
      ]
     },
     "metadata": {},
     "output_type": "display_data"
    },
    {
     "name": "stdout",
     "output_type": "stream",
     "text": [
      "\n",
      "6.264768969208696e-17\n",
      "Considering frequencies 3 ... 30 Hz\n",
      "Preparing the inverse operator for use...\n",
      "    Scaled noise and source covariance from nave = 1 to nave = 1\n",
      "    Created the regularized inverter\n",
      "    Created an SSP operator (subspace dimension = 1)\n",
      "    Created the whitener using a noise covariance matrix with rank 29 (1 small eigenvalues omitted)\n",
      "Picked 30 channels from the data\n",
      "Computing inverse...\n",
      "    Eigenleads need to be weighted ...\n",
      "Reducing data rank 30 -> 29\n",
      "Using 23 tapers with bandwidth 4.0 Hz on 8 epochs\n"
     ]
    },
    {
     "data": {
      "application/vnd.jupyter.widget-view+json": {
       "model_id": "d676ee88476644178a20a176a32e08f2",
       "version_major": 2,
       "version_minor": 0
      },
      "text/plain": [
       "HBox(children=(FloatProgress(value=0.0, max=8.0), HTML(value='')))"
      ]
     },
     "metadata": {},
     "output_type": "display_data"
    },
    {
     "name": "stdout",
     "output_type": "stream",
     "text": [
      "\n",
      "2.9843626508114557e-17\n"
     ]
    },
    {
     "data": {
      "text/plain": [
       "Text(0.5, 1.0, 'a')"
      ]
     },
     "execution_count": 64,
     "metadata": {},
     "output_type": "execute_result"
    }
   ],
   "source": [
    "\n",
    "lambdas=[0.001,0.01,0.05,0.1,0.4]\n",
    "\n",
    "for i in lambdas:\n",
    "    lambda2=i\n",
    "    stcs = compute_source_psd_epochs(epochs_psd_rest, inv,\n",
    "                                     lambda2=lambda2,\n",
    "                                     method='MNE', fmin=3, fmax=30,\n",
    "                                     bandwidth=bandwidth, label=labels_to_plot,\n",
    "                                     return_generator=True, verbose=True)\n",
    "\n",
    "    # compute average PSD over the first 10 epochs\n",
    "    psd_avg = 0.\n",
    "    for i, stc in enumerate(stcs):\n",
    "        psd_avg += stc.data\n",
    "    psd_avg /= len(epochs_psd_right_hand)\n",
    "    freqs = stc.times  # the frequencies are stored here\n",
    "    stc.data = psd_avg  # overwrite the last epoch's data with the average\n",
    "    print(np.sum(stc.data))\n",
    "    \n",
    "    ax.plot(freqs, psd_avg.mean(axis=0),label=str(lambda2))\n",
    "    \n",
    "ax.set_xlabel('Freq (Hz)')\n",
    "ax.set_xlim(stc.times[[0, -1]])\n",
    "ax.set_ylabel('Power Spectral Density')\n",
    "ax.legend()\n",
    "plt.show()\n",
    "ax.set_title('a')"
   ]
  },
  {
   "cell_type": "code",
   "execution_count": 59,
   "metadata": {},
   "outputs": [],
   "source": [
    "fig.show()"
   ]
  },
  {
   "cell_type": "code",
   "execution_count": 54,
   "metadata": {},
   "outputs": [
    {
     "name": "stdout",
     "output_type": "stream",
     "text": [
      "Considering frequencies 3 ... 30 Hz\n",
      "Preparing the inverse operator for use...\n",
      "    Scaled noise and source covariance from nave = 1 to nave = 1\n",
      "    Created the regularized inverter\n",
      "    Created an SSP operator (subspace dimension = 1)\n",
      "    Created the whitener using a noise covariance matrix with rank 29 (1 small eigenvalues omitted)\n",
      "    Computing noise-normalization factors (sLORETA)...\n",
      "[done]\n",
      "Picked 30 channels from the data\n",
      "Computing inverse...\n",
      "    Eigenleads need to be weighted ...\n",
      "Reducing data rank 30 -> 29\n",
      "Using 23 tapers with bandwidth 4.0 Hz on 8 epochs\n"
     ]
    },
    {
     "data": {
      "application/vnd.jupyter.widget-view+json": {
       "model_id": "a6e3c977edab4d5786e05ae79e160605",
       "version_major": 2,
       "version_minor": 0
      },
      "text/plain": [
       "HBox(children=(FloatProgress(value=0.0, max=8.0), HTML(value='')))"
      ]
     },
     "metadata": {},
     "output_type": "display_data"
    },
    {
     "name": "stdout",
     "output_type": "stream",
     "text": [
      "\n",
      "Considering frequencies 3 ... 30 Hz\n",
      "Preparing the inverse operator for use...\n",
      "    Scaled noise and source covariance from nave = 1 to nave = 1\n",
      "    Created the regularized inverter\n",
      "    Created an SSP operator (subspace dimension = 1)\n",
      "    Created the whitener using a noise covariance matrix with rank 29 (1 small eigenvalues omitted)\n",
      "    Computing noise-normalization factors (sLORETA)...\n",
      "[done]\n",
      "Picked 30 channels from the data\n",
      "Computing inverse...\n",
      "    Eigenleads need to be weighted ...\n",
      "Reducing data rank 30 -> 29\n",
      "Using 23 tapers with bandwidth 4.0 Hz on 8 epochs\n"
     ]
    },
    {
     "data": {
      "application/vnd.jupyter.widget-view+json": {
       "model_id": "bf616604064d4008ab03b5095db10730",
       "version_major": 2,
       "version_minor": 0
      },
      "text/plain": [
       "HBox(children=(FloatProgress(value=0.0, max=8.0), HTML(value='')))"
      ]
     },
     "metadata": {},
     "output_type": "display_data"
    },
    {
     "name": "stdout",
     "output_type": "stream",
     "text": [
      "\n",
      "Considering frequencies 3 ... 30 Hz\n",
      "Preparing the inverse operator for use...\n",
      "    Scaled noise and source covariance from nave = 1 to nave = 1\n",
      "    Created the regularized inverter\n",
      "    Created an SSP operator (subspace dimension = 1)\n",
      "    Created the whitener using a noise covariance matrix with rank 29 (1 small eigenvalues omitted)\n",
      "    Computing noise-normalization factors (sLORETA)...\n",
      "[done]\n",
      "Picked 30 channels from the data\n",
      "Computing inverse...\n",
      "    Eigenleads need to be weighted ...\n",
      "Reducing data rank 30 -> 29\n",
      "Using 23 tapers with bandwidth 4.0 Hz on 8 epochs\n"
     ]
    },
    {
     "data": {
      "application/vnd.jupyter.widget-view+json": {
       "model_id": "9fe5c50068dc442e9da924df22d00a85",
       "version_major": 2,
       "version_minor": 0
      },
      "text/plain": [
       "HBox(children=(FloatProgress(value=0.0, max=8.0), HTML(value='')))"
      ]
     },
     "metadata": {},
     "output_type": "display_data"
    },
    {
     "name": "stdout",
     "output_type": "stream",
     "text": [
      "\n",
      "Considering frequencies 3 ... 30 Hz\n",
      "Preparing the inverse operator for use...\n",
      "    Scaled noise and source covariance from nave = 1 to nave = 1\n",
      "    Created the regularized inverter\n",
      "    Created an SSP operator (subspace dimension = 1)\n",
      "    Created the whitener using a noise covariance matrix with rank 29 (1 small eigenvalues omitted)\n",
      "    Computing noise-normalization factors (sLORETA)...\n",
      "[done]\n",
      "Picked 30 channels from the data\n",
      "Computing inverse...\n",
      "    Eigenleads need to be weighted ...\n",
      "Reducing data rank 30 -> 29\n",
      "Using 23 tapers with bandwidth 4.0 Hz on 8 epochs\n"
     ]
    },
    {
     "data": {
      "application/vnd.jupyter.widget-view+json": {
       "model_id": "4893342abfbc497e8f375561d681fd58",
       "version_major": 2,
       "version_minor": 0
      },
      "text/plain": [
       "HBox(children=(FloatProgress(value=0.0, max=8.0), HTML(value='')))"
      ]
     },
     "metadata": {},
     "output_type": "display_data"
    },
    {
     "name": "stdout",
     "output_type": "stream",
     "text": [
      "\n",
      "Considering frequencies 3 ... 30 Hz\n",
      "Preparing the inverse operator for use...\n",
      "    Scaled noise and source covariance from nave = 1 to nave = 1\n",
      "    Created the regularized inverter\n",
      "    Created an SSP operator (subspace dimension = 1)\n",
      "    Created the whitener using a noise covariance matrix with rank 29 (1 small eigenvalues omitted)\n",
      "    Computing noise-normalization factors (sLORETA)...\n",
      "[done]\n",
      "Picked 30 channels from the data\n",
      "Computing inverse...\n",
      "    Eigenleads need to be weighted ...\n",
      "Reducing data rank 30 -> 29\n",
      "Using 23 tapers with bandwidth 4.0 Hz on 8 epochs\n"
     ]
    },
    {
     "data": {
      "application/vnd.jupyter.widget-view+json": {
       "model_id": "82ab9d47785a424c9b9572db5110fb4f",
       "version_major": 2,
       "version_minor": 0
      },
      "text/plain": [
       "HBox(children=(FloatProgress(value=0.0, max=8.0), HTML(value='')))"
      ]
     },
     "metadata": {},
     "output_type": "display_data"
    },
    {
     "name": "stdout",
     "output_type": "stream",
     "text": [
      "\n"
     ]
    },
    {
     "data": {
      "text/plain": [
       "<matplotlib.legend.Legend at 0x23b2455b280>"
      ]
     },
     "execution_count": 54,
     "metadata": {},
     "output_type": "execute_result"
    }
   ],
   "source": [
    "fig, ax = plt.subplots()\n",
    "\n",
    "lambdas=[0.001,0.01,0.05,0.1,0.4]\n",
    "\n",
    "for i in lambdas:\n",
    "    lambda2=i\n",
    "    stcs = compute_source_psd_epochs(epochs_psd_left_hand, inv,\n",
    "                                     lambda2=lambda2,\n",
    "                                     method='sLORETA', fmin=3, fmax=30,\n",
    "                                     bandwidth=bandwidth, label=labels_to_plot,\n",
    "                                     return_generator=True, verbose=True)\n",
    "\n",
    "    # compute average PSD over the first 10 epochs\n",
    "    psd_avg = 0.\n",
    "    for i, stc in enumerate(stcs):\n",
    "        psd_avg += stc.data\n",
    "    psd_avg /= len(epochs_psd_right_hand)\n",
    "    freqs = stc.times  # the frequencies are stored here\n",
    "    stc.data = psd_avg  # overwrite the last epoch's data with the average\n",
    "    \n",
    "    \n",
    "    ax.plot(freqs, psd_avg.mean(axis=0),label=str(lambda2)+' sLORETA')\n",
    "    \n",
    "ax.set_xlabel('Freq (Hz)')\n",
    "ax.set_xlim(stc.times[[0, -1]])\n",
    "ax.set_ylabel('Power Spectral Density')\n",
    "ax.legend()"
   ]
  },
  {
   "cell_type": "code",
   "execution_count": null,
   "metadata": {},
   "outputs": [],
   "source": []
  },
  {
   "cell_type": "markdown",
   "metadata": {},
   "source": [
    "### Решить обартную задачу в области и с преобразованием гильберта"
   ]
  },
  {
   "cell_type": "code",
   "execution_count": 413,
   "metadata": {},
   "outputs": [
    {
     "name": "stdout",
     "output_type": "stream",
     "text": [
      "Setting up band-pass filter from 8 - 12 Hz\n",
      "\n",
      "FIR filter parameters\n",
      "---------------------\n",
      "Designing a one-pass, zero-phase, non-causal bandpass filter:\n",
      "- Windowed time-domain design (firwin) method\n",
      "- Hamming window with 0.0194 passband ripple and 53 dB stopband attenuation\n",
      "- Lower passband edge: 8.00\n",
      "- Lower transition bandwidth: 2.00 Hz (-6 dB cutoff frequency: 7.00 Hz)\n",
      "- Upper passband edge: 12.00 Hz\n",
      "- Upper transition bandwidth: 3.00 Hz (-6 dB cutoff frequency: 13.50 Hz)\n",
      "- Filter length: 413 samples (1.652 sec)\n",
      "\n"
     ]
    },
    {
     "data": {
      "text/html": [
       "\n",
       "<table class=\"table table-hover\">\n",
       "    <tr>\n",
       "        <th>Number of events</th>\n",
       "        <td>79</td>\n",
       "    </tr>\n",
       "    <tr>\n",
       "        <th>Events</th>\n",
       "        <td>2: 8<br>3: 39<br>4: 8<br>5: 8<br>6: 8<br>7: 8<br></td>\n",
       "    </tr>\n",
       "    <tr>\n",
       "        <th>Time range</th>\n",
       "        <td>0.000 – 6.000 sec</td>\n",
       "    </tr>\n",
       "    <tr>\n",
       "        <th>Baseline</th>\n",
       "        <td>off</td>\n",
       "    </tr>\n",
       "</table>\n"
      ],
      "text/plain": [
       "<Epochs |  79 events (all good), 0 - 6 sec, baseline off, ~27.2 MB, data loaded,\n",
       " '2': 8\n",
       " '3': 39\n",
       " '4': 8\n",
       " '5': 8\n",
       " '6': 8\n",
       " '7': 8>"
      ]
     },
     "execution_count": 413,
     "metadata": {},
     "output_type": "execute_result"
    }
   ],
   "source": [
    "epochs_hilbert=epochs.copy()\n",
    "epochs_non_hilbert=epochs.copy()\n",
    "epochs_hilbert.filter(8,12)\n",
    "\n",
    "\n",
    "\n"
   ]
  },
  {
   "cell_type": "code",
   "execution_count": 420,
   "metadata": {},
   "outputs": [
    {
     "data": {
      "text/html": [
       "\n",
       "<table class=\"table table-hover\">\n",
       "    <tr>\n",
       "        <th>Number of events</th>\n",
       "        <td>79</td>\n",
       "    </tr>\n",
       "    <tr>\n",
       "        <th>Events</th>\n",
       "        <td>2: 8<br>3: 39<br>4: 8<br>5: 8<br>6: 8<br>7: 8<br></td>\n",
       "    </tr>\n",
       "    <tr>\n",
       "        <th>Time range</th>\n",
       "        <td>0.000 – 6.000 sec</td>\n",
       "    </tr>\n",
       "    <tr>\n",
       "        <th>Baseline</th>\n",
       "        <td>off</td>\n",
       "    </tr>\n",
       "</table>\n"
      ],
      "text/plain": [
       "<Epochs |  79 events (all good), 0 - 6 sec, baseline off, ~54.3 MB, data loaded,\n",
       " '2': 8\n",
       " '3': 39\n",
       " '4': 8\n",
       " '5': 8\n",
       " '6': 8\n",
       " '7': 8>"
      ]
     },
     "execution_count": 420,
     "metadata": {},
     "output_type": "execute_result"
    }
   ],
   "source": [
    "epochs_hilbert.apply_hilbert()"
   ]
  },
  {
   "cell_type": "code",
   "execution_count": 430,
   "metadata": {
    "scrolled": true
   },
   "outputs": [
    {
     "name": "stdout",
     "output_type": "stream",
     "text": [
      "Preparing the inverse operator for use...\n",
      "    Scaled noise and source covariance from nave = 1 to nave = 1\n",
      "    Created the regularized inverter\n",
      "    Created an SSP operator (subspace dimension = 1)\n",
      "    Created the whitener using a noise covariance matrix with rank 29 (1 small eigenvalues omitted)\n",
      "Picked 30 channels from the data\n",
      "Computing inverse...\n",
      "    Eigenleads need to be weighted ...\n",
      "Processing epoch : 1 / 79\n",
      "Processing epoch : 2 / 79\n",
      "Processing epoch : 3 / 79\n",
      "Processing epoch : 4 / 79\n",
      "Processing epoch : 5 / 79\n",
      "Processing epoch : 6 / 79\n",
      "Processing epoch : 7 / 79\n",
      "Processing epoch : 8 / 79\n",
      "Processing epoch : 9 / 79\n",
      "Processing epoch : 10 / 79\n",
      "Processing epoch : 11 / 79\n",
      "Processing epoch : 12 / 79\n",
      "Processing epoch : 13 / 79\n",
      "Processing epoch : 14 / 79\n",
      "Processing epoch : 15 / 79\n",
      "Processing epoch : 16 / 79\n",
      "Processing epoch : 17 / 79\n",
      "Processing epoch : 18 / 79\n",
      "Processing epoch : 19 / 79\n",
      "Processing epoch : 20 / 79\n",
      "Processing epoch : 21 / 79\n",
      "Processing epoch : 22 / 79\n",
      "Processing epoch : 23 / 79\n",
      "Processing epoch : 24 / 79\n",
      "Processing epoch : 25 / 79\n",
      "Processing epoch : 26 / 79\n",
      "Processing epoch : 27 / 79\n",
      "Processing epoch : 28 / 79\n",
      "Processing epoch : 29 / 79\n",
      "Processing epoch : 30 / 79\n",
      "Processing epoch : 31 / 79\n",
      "Processing epoch : 32 / 79\n",
      "Processing epoch : 33 / 79\n",
      "Processing epoch : 34 / 79\n",
      "Processing epoch : 35 / 79\n",
      "Processing epoch : 36 / 79\n",
      "Processing epoch : 37 / 79\n",
      "Processing epoch : 38 / 79\n",
      "Processing epoch : 39 / 79\n",
      "Processing epoch : 40 / 79\n",
      "Processing epoch : 41 / 79\n",
      "Processing epoch : 42 / 79\n",
      "Processing epoch : 43 / 79\n",
      "Processing epoch : 44 / 79\n",
      "Processing epoch : 45 / 79\n",
      "Processing epoch : 46 / 79\n",
      "Processing epoch : 47 / 79\n",
      "Processing epoch : 48 / 79\n",
      "Processing epoch : 49 / 79\n",
      "Processing epoch : 50 / 79\n",
      "Processing epoch : 51 / 79\n",
      "Processing epoch : 52 / 79\n",
      "Processing epoch : 53 / 79\n",
      "Processing epoch : 54 / 79\n",
      "Processing epoch : 55 / 79\n",
      "Processing epoch : 56 / 79\n",
      "Processing epoch : 57 / 79\n",
      "Processing epoch : 58 / 79\n",
      "Processing epoch : 59 / 79\n",
      "Processing epoch : 60 / 79\n",
      "Processing epoch : 61 / 79\n",
      "Processing epoch : 62 / 79\n",
      "Processing epoch : 63 / 79\n",
      "Processing epoch : 64 / 79\n",
      "Processing epoch : 65 / 79\n",
      "Processing epoch : 66 / 79\n",
      "Processing epoch : 67 / 79\n",
      "Processing epoch : 68 / 79\n",
      "Processing epoch : 69 / 79\n",
      "Processing epoch : 70 / 79\n",
      "Processing epoch : 71 / 79\n",
      "Processing epoch : 72 / 79\n",
      "Processing epoch : 73 / 79\n",
      "Processing epoch : 74 / 79\n",
      "Processing epoch : 75 / 79\n",
      "Processing epoch : 76 / 79\n",
      "Processing epoch : 77 / 79\n",
      "Processing epoch : 78 / 79\n",
      "Processing epoch : 79 / 79\n",
      "[done]\n"
     ]
    }
   ],
   "source": [
    "stcs = apply_inverse_epochs(epochs_hilbert, inv, lambda2=1. / 9., method= 'MNE', label=labels_to_plot)\n"
   ]
  },
  {
   "cell_type": "code",
   "execution_count": 431,
   "metadata": {},
   "outputs": [
    {
     "name": "stdout",
     "output_type": "stream",
     "text": [
      "Preparing the inverse operator for use...\n",
      "    Scaled noise and source covariance from nave = 1 to nave = 1\n",
      "    Created the regularized inverter\n",
      "    Created an SSP operator (subspace dimension = 1)\n",
      "    Created the whitener using a noise covariance matrix with rank 29 (1 small eigenvalues omitted)\n",
      "Applying inverse to raw...\n",
      "    Picked 30 channels from the data\n",
      "    Computing inverse...\n",
      "    Eigenleads need to be weighted ...\n",
      "[done]\n"
     ]
    }
   ],
   "source": [
    "stcs = apply_inverse_raw(raw, inv, lambda2=1. / 9., method= 'MNE', label=labels_to_plot)"
   ]
  },
  {
   "cell_type": "code",
   "execution_count": 432,
   "metadata": {},
   "outputs": [
    {
     "data": {
      "text/html": [
       "\n",
       "\n",
       "<table class=\"table table-hover\">\n",
       "    <tr>\n",
       "        <th>Measurement date</th>\n",
       "        <td>January 01, 1970  00:35:47 GMT</td>\n",
       "        \n",
       "    </tr>\n",
       "    <tr>\n",
       "        <th>Experimenter</th>\n",
       "<td>Unknown</td>\n",
       "    </tr>\n",
       "        <th>Participant</th>\n",
       "<td>Unknown</td>\n",
       "    </tr>\n",
       "    <tr>\n",
       "        <th>Digitized points</th>\n",
       "        <td>33 points</td>\n",
       "    </tr>\n",
       "    <tr>\n",
       "        <th>Good channels</th>\n",
       "        <td>0 magnetometer, 0 gradiometer,\n",
       "            and 30 EEG channels</td>\n",
       "    </tr>\n",
       "    <tr>\n",
       "        <th>Bad channels</th>\n",
       "        <td></td>\n",
       "        \n",
       "    </tr>\n",
       "    <tr>\n",
       "        <th>EOG channels</th>\n",
       "        <td>Not available</td>\n",
       "    </tr>\n",
       "    <tr>\n",
       "        <th>ECG channels</th>\n",
       "        <td>Not available</td>\n",
       "    <tr>\n",
       "        <th>Sampling frequency</th>\n",
       "        <td>250.00 Hz</td>\n",
       "    </tr>\n",
       "    <tr>\n",
       "        <th>Highpass</th>\n",
       "        <td>1.00 Hz</td>\n",
       "    </tr>\n",
       "     <tr>\n",
       "        <th>Lowpass</th>\n",
       "        <td>40.00 Hz</td>\n",
       "    </tr>\n",
       "\n",
       "    <tr>\n",
       "        <th>Filenames</th>\n",
       "        <td>SG02_motor_clean.fif</td>\n",
       "    </tr>\n",
       "    <tr>\n",
       "        <th>Duration</th>\n",
       "        <td>00:06:12 (HH:MM:SS)</td>\n",
       "    </tr>\n",
       "</table>\n"
      ],
      "text/plain": [
       "<Raw | SG02_motor_clean.fif, 30 x 93250 (373.0 s), ~21.4 MB, data loaded>"
      ]
     },
     "execution_count": 432,
     "metadata": {},
     "output_type": "execute_result"
    }
   ],
   "source": [
    "raw"
   ]
  },
  {
   "cell_type": "code",
   "execution_count": 436,
   "metadata": {},
   "outputs": [
    {
     "data": {
      "text/plain": [
       "(671, 93250)"
      ]
     },
     "execution_count": 436,
     "metadata": {},
     "output_type": "execute_result"
    }
   ],
   "source": [
    "abs(stcs.data).shape"
   ]
  },
  {
   "cell_type": "code",
   "execution_count": null,
   "metadata": {},
   "outputs": [],
   "source": [
    "stc = apply_inverse_epochs(epochs_left_hand, inv, lambda2, 'MNE', verbose=True)[1]\n"
   ]
  }
 ],
 "metadata": {
  "kernelspec": {
   "display_name": "Python 3",
   "language": "python",
   "name": "python3"
  },
  "language_info": {
   "codemirror_mode": {
    "name": "ipython",
    "version": 3
   },
   "file_extension": ".py",
   "mimetype": "text/x-python",
   "name": "python",
   "nbconvert_exporter": "python",
   "pygments_lexer": "ipython3",
   "version": "3.8.5"
  }
 },
 "nbformat": 4,
 "nbformat_minor": 4
}
