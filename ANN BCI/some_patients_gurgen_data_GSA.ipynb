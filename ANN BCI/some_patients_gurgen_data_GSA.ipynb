{
 "cells": [
  {
   "cell_type": "code",
   "execution_count": 3,
   "metadata": {},
   "outputs": [],
   "source": [
    "import sys\n",
    "sys.path.append('../')  # noga\n",
    "import os\n",
    "import library\n",
    "import library.models_lib.band_specific_ecog\n",
    "import library.models_lib.common\n",
    "os.environ['CUDA_VISIBLE_DEVICES'] = '0'\n",
    "\n",
    "import numpy as np\n",
    "import scipy\n",
    "import scipy.io\n",
    "import scipy.signal\n",
    "import matplotlib\n",
    "import matplotlib.pyplot as plt\n",
    "from tqdm import tqdm_notebook\n",
    "\n",
    "from torch.autograd import Variable\n",
    "import torch, torch.nn as nn\n",
    "import torch.nn.functional as F\n",
    "import matplotlib.image as mpimg\n",
    "\n",
    "import scipy\n",
    "import sklearn\n",
    "import sklearn.metrics\n",
    "import math\n",
    "\n",
    "import mne\n",
    "\n",
    "import numpy as np\n",
    "import scipy\n",
    "import scipy.signal\n",
    "import random\n",
    "import scipy\n",
    "import math\n",
    "import pandas as pd\n",
    "\n",
    "import torch\n",
    "from torch.autograd import Variable\n",
    "import torch.nn as nn\n",
    "import torch.nn.functional as F\n",
    "\n",
    "import pandas\n",
    "import numpy as np\n",
    "\n",
    "from tqdm import tqdm_notebook\n",
    "from sklearn.preprocessing import StandardScaler\n",
    "\n",
    "import math\n",
    "\n",
    "import sklearn\n",
    "import sklearn.metrics\n",
    "\n",
    "import matplotlib\n",
    "import matplotlib.pyplot as plt\n",
    "\n",
    "import copy\n",
    "\n",
    "import scipy\n",
    "import scipy.signal\n",
    "\n",
    "\n",
    "\n",
    "from IPython.display import display, clear_output\n",
    "\n",
    "def downsample(X, Y, frequency, x_times):\n",
    "    assert x_times in range(13)\n",
    "    X = scipy.signal.decimate(X, x_times, axis=0)\n",
    "    Y = scipy.signal.decimate(Y, x_times, axis=0)\n",
    "    return X, Y, frequency / x_times\n",
    "\n",
    "\n",
    "def high_pass_filtering(X, frequency, cutoff_frequency):\n",
    "    b, a = scipy.signal.butter(3, cutoff_frequency * 1.0 / (frequency * 1.0 / 2), 'high')\n",
    "    for i in range(X.shape[1]):\n",
    "        X[:, i] = scipy.signal.filtfilt(b, a, X[:, i])\n",
    "    return X\n",
    "\n",
    "\n",
    "def norch_filtering(X, Y, frequency, remove_frequency):\n",
    "    QUALITY = 30\n",
    "    b, a = scipy.signal.iirnotch(remove_frequency * 1.0 / (frequency * 1.0 / 2), QUALITY)\n",
    "    for i in range(X.shape[1]):\n",
    "        X[:, i] = scipy.signal.filtfilt(b, a, X[:, i])\n",
    "    return X, Y, frequency\n",
    "\n",
    "\n",
    "def data_generator(X, Y, batch_size, shuffle=True, infinite=True):\n",
    "    assert len(X)==len(Y) or len(Y)==0\n",
    "    total_lag = lag_backward + lag_forward\n",
    "    all_batches = math.ceil((X.shape[0] )/batch_size)\n",
    "    samples_in_last_batch = (X.shape[0]) % batch_size\n",
    "    batch = 0\n",
    "    random_core = np.arange(0, X.shape[0])\n",
    "    while True:\n",
    "        if shuffle:\n",
    "            np.random.shuffle(random_core)\n",
    "        for batch in range(all_batches):       \n",
    "            batch_start = batch * batch_size\n",
    "            batch_end = (batch + 1)*batch_size\n",
    "            if batch_end >= len(random_core):\n",
    "                batch_end = None\n",
    "            batch_samples = random_core[batch_start : batch_end]\n",
    "\n",
    "            batch_x = X[[batch_samples]]\n",
    "            #batch_x = np.swapaxes(batch_x, 1, 2)\n",
    "\n",
    "            if len(Y) > 0:\n",
    "                batch_y = Y[[batch_samples]] \n",
    "                yield (batch_x, batch_y)\n",
    "            else:\n",
    "                yield batch_x\n",
    "        \n",
    "        if not infinite:\n",
    "            break"
   ]
  },
  {
   "cell_type": "code",
   "execution_count": 4,
   "metadata": {},
   "outputs": [],
   "source": [
    "DATA_FOLDER = \"/home/amplifier/common/gurasog/Subjects/SG15\"\n",
    "sorted_filenames = sorted(os.listdir(DATA_FOLDER))\n",
    "\n",
    "FREQUENCY = 250\n",
    "CHANNELS_COUNT = 32\n",
    "\n",
    "\n",
    "MARK_TO_STATUS = {\n",
    "    \"SG15\": {\n",
    "        12: 'right_hand',\n",
    "        13: 'pause',\n",
    "        14: 'left_hand',\n",
    "        15: 'right_leg',\n",
    "        16: 'left_leg',\n",
    "        17: 'rest'\n",
    "    }\n",
    "}\n",
    "\n",
    "    \n",
    "    \n",
    "\n",
    "STATUS_TO_LABEL = {\n",
    "    'left_hand': 0,\n",
    "    'right_hand': 1,\n",
    "    'left_leg': 2,\n",
    "    'right_leg': 3,\n",
    "    'pause': -1,\n",
    "    'protocol': -1,\n",
    "    'rest': 4,\n",
    "    'unknown': -1,\n",
    "}\n",
    "\n",
    "\n",
    "classes_examples_counter = {}\n",
    "\n",
    "DATA_DICT = {}\n",
    "\n",
    "\n",
    "\n",
    "def read_labels(labels_filename, statuses):\n",
    "    labels = []\n",
    "    with open(f\"{DATA_FOLDER}/{labels_filename}\") as input_file:\n",
    "        for row in input_file:\n",
    "            status = statuses.get(int(float(row.strip())), 'unknown')\n",
    "            classes_examples_counter[status] = classes_examples_counter.get(status, 0) + 1\n",
    "            labels.append(STATUS_TO_LABEL[status])\n",
    "    return np.array(labels)\n",
    "\n",
    "channel_names = []\n"
   ]
  },
  {
   "cell_type": "code",
   "execution_count": 12,
   "metadata": {},
   "outputs": [
    {
     "name": "stderr",
     "output_type": "stream",
     "text": [
      "<ipython-input-12-c2034533edc6>:5: RuntimeWarning: This filename (/home/amplifier/common/gurasog/Subjects/SG15/SG15_motor_all.fif) does not conform to MNE naming conventions. All raw files should end with raw.fif, raw_sss.fif, raw_tsss.fif, raw.fif.gz, raw_sss.fif.gz, raw_tsss.fif.gz or _meg.fif\n",
      "  fif_data = mne.io.read_raw_fif(f\"{DATA_FOLDER}/{data_filename}\", preload=True, verbose=0)\n"
     ]
    },
    {
     "name": "stdout",
     "output_type": "stream",
     "text": [
      "SG15 16.5 minutes 10.6 real minutes\n",
      "\n",
      "unknown 0.5 minutes\n",
      "left_leg 2.1 minutes\n",
      "pause 5.3 minutes\n",
      "left_hand 2.1 minutes\n",
      "rest 2.1 minutes\n",
      "right_leg 2.1 minutes\n",
      "right_hand 2.1 minutes\n"
     ]
    }
   ],
   "source": [
    "data_filename='SG15_motor_all.fif'\n",
    "labels_filename='SG15_motor_all_marks.csv'\n",
    "patient='SG15'\n",
    "\n",
    "fif_data = mne.io.read_raw_fif(f\"{DATA_FOLDER}/{data_filename}\", preload=True, verbose=0)\n",
    "data = fif_data.get_data().transpose()\n",
    "channel_names.append(fif_data.ch_names)\n",
    "labels = read_labels(labels_filename, MARK_TO_STATUS[patient])\n",
    "\n",
    "assert labels.shape[0] == data.shape[0]\n",
    "assert data.shape[1] == CHANNELS_COUNT\n",
    "\n",
    "print(patient, f\"{round(data.shape[0] / FREQUENCY / 60, 1)} minutes\", f\"{round(sum(labels != -1) / FREQUENCY / 60, 1)} real minutes\")\n",
    "DATA_DICT[patient] = (data, labels)\n",
    "\n",
    "print()\n",
    "for label, count in classes_examples_counter.items():\n",
    "    print(label, f\"{round(count / FREQUENCY / 60, 1)} minutes\")\n",
    "    \n",
    "#assert len(set(list(map(lambda x: \"__\".join(x), channel_names)))) == 1\n",
    "len(set(list(map(lambda x: \"__\".join(x), channel_names))))\n",
    "channel_names = channel_names[0]"
   ]
  },
  {
   "cell_type": "code",
   "execution_count": 13,
   "metadata": {},
   "outputs": [
    {
     "data": {
      "text/plain": [
       "'SG15_motor_all_marks.csv'"
      ]
     },
     "execution_count": 13,
     "metadata": {},
     "output_type": "execute_result"
    }
   ],
   "source": [
    "labels_filename"
   ]
  },
  {
   "cell_type": "code",
   "execution_count": null,
   "metadata": {},
   "outputs": [],
   "source": []
  },
  {
   "cell_type": "code",
   "execution_count": 14,
   "metadata": {},
   "outputs": [],
   "source": [
    "def make_lag_3D(X_3D, lag_backward, lag_forward, decimate=1):\n",
    "    # TODO: probably this code can be rewritten shorter\n",
    "    assert decimate > 0\n",
    "    assert lag_backward >=0\n",
    "    assert lag_forward >=0\n",
    "\n",
    "    output_samples = X_3D.shape[0] - lag_backward - lag_forward\n",
    "    channels = X_3D.shape[1]\n",
    "    feature_per_channel = X_3D.shape[2]\n",
    "    # TODO: CHECK IF ITS VALID\n",
    "    features_backward = int(lag_backward / decimate)\n",
    "    features_forward = int(lag_forward / decimate)\n",
    "    output_features = feature_per_channel * (1 + features_forward + features_backward)\n",
    "\n",
    "    X_output_3D = np.zeros((output_samples, channels, output_features))\n",
    "    feature_index = 0\n",
    "    for time_shift in range(decimate, lag_backward + decimate, decimate):\n",
    "        feature_slice = slice(feature_index, feature_index + feature_per_channel)\n",
    "        X_output_3D[:, :, feature_slice] = X_3D[lag_backward - time_shift:-lag_forward - time_shift]\n",
    "        feature_index += feature_per_channel\n",
    "\n",
    "    feature_slice = slice(feature_index, feature_index + feature_per_channel)\n",
    "    X_output_3D[:, :, feature_slice] = X_3D[lag_backward:-lag_forward if lag_forward > 0 else None]  # cetntral point\n",
    "    feature_index += feature_per_channel\n",
    "\n",
    "    for time_shift in range(decimate, lag_forward + decimate, decimate):\n",
    "        feature_slice = slice(feature_index, feature_index + feature_per_channel)\n",
    "        X_output_3D[:, :, feature_slice] = X_3D[lag_backward + time_shift:-lag_forward + time_shift if lag_forward - time_shift > 0 else None]\n",
    "        feature_index += feature_per_channel\n",
    "    assert feature_index == output_features\n",
    "    return X_output_3D\n",
    "\n",
    "\n",
    "LAG_BACKWARD = 250\n",
    "LAG_FOREWARD = 250\n",
    "\n",
    "\n",
    "def prepare_dataset(patients_indexes):\n",
    "    X = []\n",
    "    Y = []\n",
    "    for patient in patients_indexes:\n",
    "        x = None\n",
    "        y = None\n",
    "        if patient == 0:\n",
    "            hjhjhjh=0\n",
    "            #data = scipy.io.loadmat(\"//home/amplifier/common/pet67/ossadtchi-ml-test-bench/paper/1.mat\")\n",
    "            #RIGHT_PAD = 1000\n",
    "            #x = data['data'][:30].transpose()[:-RIGHT_PAD]\n",
    "            #y = data['data'][30][:-RIGHT_PAD]\n",
    "        else:\n",
    "            x, y = DATA_DICT[f\"SG{patient}\"]\n",
    "        x = sklearn.preprocessing.scale(x)\n",
    "        X.append(x)\n",
    "        Y.append(y)\n",
    "\n",
    "    X = np.concatenate(X, axis=0)\n",
    "    Y = np.concatenate(Y, axis=0)\n",
    "\n",
    "\n",
    "    X = make_lag_3D(X[:, :, None], LAG_BACKWARD, LAG_FOREWARD, 1)\n",
    "    Y = Y[LAG_BACKWARD:-LAG_FOREWARD if LAG_FOREWARD > 0 else None]\n",
    "    \n",
    "    def all_equal(array):\n",
    "        labels_set = set(array.tolist())\n",
    "        return len(labels_set) == 1 and -1 not in labels_set\n",
    "\n",
    "\n",
    "    good_indexes = []\n",
    "    for i in range(LAG_BACKWARD + 1, Y.shape[0] - LAG_FOREWARD - 1):\n",
    "        if all_equal(Y[i - LAG_BACKWARD - 1:i + LAG_FOREWARD + 1]):\n",
    "            good_indexes.append(i)\n",
    "\n",
    "    X = X[good_indexes]\n",
    "    Y = Y[good_indexes]\n",
    "    \n",
    "    assert X.shape[0] == Y.shape[0], f\"{X.shape[0]} != {Y.shape[0]}\"\n",
    "    \n",
    "    return X, Y.reshape((-1, 1))\n",
    "\n",
    "\n",
    "# patient 1: 0.5\n",
    "# patient 2: 0.4\n",
    "# patient 3: 0.4\n",
    "# patient 4: 0.25\n",
    "# patient 5: 0.4\n",
    "# patient 6: 0.35\n"
   ]
  },
  {
   "cell_type": "code",
   "execution_count": 15,
   "metadata": {},
   "outputs": [],
   "source": [
    "from sklearn.model_selection import train_test_split"
   ]
  },
  {
   "cell_type": "code",
   "execution_count": 16,
   "metadata": {},
   "outputs": [],
   "source": [
    "\n",
    "#X_train, Y_train = prepare_dataset([15])\n",
    "#X_test, Y_test = prepare_dataset([15])\n",
    "\n",
    "X, Y = prepare_dataset([15])\n"
   ]
  },
  {
   "cell_type": "code",
   "execution_count": 17,
   "metadata": {},
   "outputs": [],
   "source": [
    "\n",
    "X_train, X_test, Y_train, Y_test = train_test_split( X, Y, test_size=0.33, random_state=42)"
   ]
  },
  {
   "cell_type": "code",
   "execution_count": 18,
   "metadata": {},
   "outputs": [
    {
     "data": {
      "text/plain": [
       "(71704, 32, 501)"
      ]
     },
     "execution_count": 18,
     "metadata": {},
     "output_type": "execute_result"
    }
   ],
   "source": [
    "X_train.shape"
   ]
  },
  {
   "cell_type": "code",
   "execution_count": 19,
   "metadata": {},
   "outputs": [
    {
     "data": {
      "text/plain": [
       "(35317, 32, 501)"
      ]
     },
     "execution_count": 19,
     "metadata": {},
     "output_type": "execute_result"
    }
   ],
   "source": [
    "X_test.shape"
   ]
  },
  {
   "cell_type": "code",
   "execution_count": 20,
   "metadata": {},
   "outputs": [
    {
     "name": "stdout",
     "output_type": "stream",
     "text": [
      "Train info\n",
      "0 0.9 minutes\n",
      "2 1.0 minutes\n",
      "3 1.0 minutes\n",
      "1 1.0 minutes\n",
      "4 1.0 minutes\n",
      "Test info\n",
      "3 0.5 minutes\n",
      "4 0.5 minutes\n",
      "0 0.5 minutes\n",
      "2 0.5 minutes\n",
      "1 0.5 minutes\n"
     ]
    }
   ],
   "source": [
    "\n",
    "# ntr = int(X_train.shape[0] * 0.7)\n",
    "\n",
    "# X_test = X_train[ntr:]\n",
    "# Y_test = Y_train[ntr:]\n",
    "\n",
    "# X_train = X_train[:ntr]\n",
    "# Y_train = Y_train[:ntr]\n",
    "\n",
    "\n",
    "def print_dataset_info(X, Y):\n",
    "    labels_conter = {}\n",
    "    for label in Y[:, 0]:\n",
    "        labels_conter[label] = labels_conter.get(label, 0) + 1\n",
    "    for label, count in labels_conter.items():\n",
    "        print(label, f\"{round(count / FREQUENCY / 60, 1)} minutes\")\n",
    "        \n",
    "print(\"Train info\")\n",
    "print_dataset_info(X_train, Y_train)\n",
    "\n",
    "print(\"Test info\")\n",
    "print_dataset_info(X_test, Y_test)"
   ]
  },
  {
   "cell_type": "code",
   "execution_count": 21,
   "metadata": {},
   "outputs": [],
   "source": [
    "# BEST_CHANNELS = [17, 12, 18, 25,  4, 13, 21, 14, 22, 27]\n",
    "# X_train = X_train[:, BEST_CHANNELS]\n",
    "# X_test = X_test[:, BEST_CHANNELS]"
   ]
  },
  {
   "cell_type": "code",
   "execution_count": 22,
   "metadata": {},
   "outputs": [
    {
     "data": {
      "image/png": "[encoded data removed]",
      "text/plain": [
       "<Figure size 1152x144 with 1 Axes>"
      ]
     },
     "metadata": {
      "needs_background": "light"
     },
     "output_type": "display_data"
    },
    {
     "data": {
      "image/png": "[encoded data removed]",
      "text/plain": [
       "<Figure size 1152x144 with 1 Axes>"
      ]
     },
     "metadata": {
      "needs_background": "light"
     },
     "output_type": "display_data"
    }
   ],
   "source": [
    "plt.figure(figsize=(16, 2))\n",
    "plt.plot(X_train[:, :, 250])\n",
    "plt.show()\n",
    "\n",
    "plt.figure(figsize=(16, 2))\n",
    "plt.plot(Y_train[:, :])\n",
    "plt.show()"
   ]
  },
  {
   "cell_type": "code",
   "execution_count": 46,
   "metadata": {},
   "outputs": [],
   "source": [
    "import torch\n",
    "from torch.autograd import Variable\n",
    "import torch.nn as nn\n",
    "import torch.nn.functional as F\n",
    "\n",
    "\n",
    "class envelope_detector(nn.Module):\n",
    "    def __init__(self, in_channels, channels_per_channel):\n",
    "        super(self.__class__,self).__init__()\n",
    "        self.FILTERING_SIZE = 100\n",
    "        self.ENVELOPE_SIZE = 50\n",
    "        self.CHANNELS_PER_CHANNEL = channels_per_channel\n",
    "        self.OUTPUT_CHANNELS = self.CHANNELS_PER_CHANNEL * in_channels\n",
    "        self.conv_filtering = nn.Conv1d(in_channels, self.OUTPUT_CHANNELS, bias=False, kernel_size=self.FILTERING_SIZE, groups=in_channels)\n",
    "        self.conv_envelope = nn.Conv1d(self.OUTPUT_CHANNELS, self.OUTPUT_CHANNELS, kernel_size=self.ENVELOPE_SIZE, groups=self.OUTPUT_CHANNELS)\n",
    "        self.conv_envelope.requires_grad = False\n",
    "        self.pre_envelope_batchnorm = torch.nn.BatchNorm1d(self.OUTPUT_CHANNELS, affine=False) \n",
    "        self.relu = torch.nn.ReLU()\n",
    "        self.intermidiate = None\n",
    "        \n",
    "        \n",
    "    def forward(self, x):\n",
    "        x = self.conv_filtering(x)\n",
    "        x = self.pre_envelope_batchnorm(x)\n",
    "        #x = self.relu(x)\n",
    "        x = torch.abs(x)\n",
    "        x = self.conv_envelope(x)\n",
    "        return x\n",
    "\n",
    "\n",
    "class simple_net(nn.Module):\n",
    "    def __init__(self, in_channels, output_channels, lag_backward, lag_forward):\n",
    "        super(self.__class__,self).__init__()\n",
    "        self.ICA_CHANNELS = 5\n",
    "\n",
    "        self.total_input_channels = self.ICA_CHANNELS\n",
    "        self.lag_backward = lag_backward\n",
    "        self.lag_forward = lag_forward\n",
    "\n",
    "        self.final_out_features = 180\n",
    "\n",
    "        self.ica = nn.Conv1d(32, self.ICA_CHANNELS, 1)\n",
    "\n",
    "        self.detector = envelope_detector(self.total_input_channels, 1)\n",
    "        self.features_batchnorm = torch.nn.BatchNorm1d(self.final_out_features, affine=False)\n",
    "        self.unmixed_batchnorm = torch.nn.BatchNorm1d(self.total_input_channels, affine=False)\n",
    "\n",
    "        self.wights_second = nn.Linear(self.final_out_features, output_channels)\n",
    "\n",
    "    def forward(self, inputs):\n",
    "        all_inputs = self.ica(inputs)\n",
    "\n",
    "        self.fuck_channels = all_inputs.cpu().data.numpy()\n",
    "        all_inputs = self.unmixed_batchnorm(all_inputs)\n",
    "\n",
    "        detected_envelopes = self.detector(all_inputs)\n",
    "\n",
    "        features  = detected_envelopes[:, :, ::10].contiguous()\n",
    "        features = features.view(features.size(0), -1)\n",
    "        features = self.features_batchnorm(features)\n",
    "        self.pre_out = features.cpu().data.numpy()\n",
    "        output = self.wights_second(features)\n",
    "        return output\n"
   ]
  },
  {
   "cell_type": "code",
   "execution_count": null,
   "metadata": {},
   "outputs": [],
   "source": []
  },
  {
   "cell_type": "code",
   "execution_count": 47,
   "metadata": {},
   "outputs": [
    {
     "ename": "SyntaxError",
     "evalue": "can't assign to operator (<ipython-input-47-618c6b2b101a>, line 1)",
     "output_type": "error",
     "traceback": [
      "\u001b[0;36m  File \u001b[0;32m\"<ipython-input-47-618c6b2b101a>\"\u001b[0;36m, line \u001b[0;32m1\u001b[0m\n\u001b[0;31m    tensorboard --logdir=ossadtchi/runs\u001b[0m\n\u001b[0m                                       ^\u001b[0m\n\u001b[0;31mSyntaxError\u001b[0m\u001b[0;31m:\u001b[0m can't assign to operator\n"
     ]
    }
   ],
   "source": [
    " tensorboard --logdir=ossadtchi/runs"
   ]
  },
  {
   "cell_type": "code",
   "execution_count": 50,
   "metadata": {},
   "outputs": [
    {
     "data": {
      "text/plain": [
       "simple_net(\n",
       "  (ica): Conv1d(32, 5, kernel_size=(1,), stride=(1,))\n",
       "  (detector): envelope_detector(\n",
       "    (conv_filtering): Conv1d(5, 5, kernel_size=(100,), stride=(1,), groups=5, bias=False)\n",
       "    (conv_envelope): Conv1d(5, 5, kernel_size=(50,), stride=(1,), groups=5)\n",
       "    (pre_envelope_batchnorm): BatchNorm1d(5, eps=1e-05, momentum=0.1, affine=False, track_running_stats=True)\n",
       "    (relu): ReLU()\n",
       "  )\n",
       "  (features_batchnorm): BatchNorm1d(180, eps=1e-05, momentum=0.1, affine=False, track_running_stats=True)\n",
       "  (unmixed_batchnorm): BatchNorm1d(5, eps=1e-05, momentum=0.1, affine=False, track_running_stats=True)\n",
       "  (wights_second): Linear(in_features=180, out_features=5, bias=True)\n",
       ")"
      ]
     },
     "execution_count": 50,
     "metadata": {},
     "output_type": "execute_result"
    }
   ],
   "source": [
    "model"
   ]
  },
  {
   "cell_type": "code",
   "execution_count": 59,
   "metadata": {},
   "outputs": [
    {
     "name": "stdout",
     "output_type": "stream",
     "text": [
      "Trainable params:  1825\n",
      "Total params:  1825\n"
     ]
    },
    {
     "name": "stderr",
     "output_type": "stream",
     "text": [
      "/opt/conda/lib/python3.7/site-packages/ipykernel_launcher.py:21: TqdmDeprecationWarning: This function will be removed in tqdm==5.0.0\n",
      "Please use `tqdm.notebook.tqdm` instead of `tqdm.tqdm_notebook`\n"
     ]
    },
    {
     "data": {
      "application/vnd.jupyter.widget-view+json": {
       "model_id": "80909fcb8f084bc4b378411fde6d10b0",
       "version_major": 2,
       "version_minor": 0
      },
      "text/plain": [
       "HBox(children=(FloatProgress(value=1.0, bar_style='info', max=1.0), HTML(value='')))"
      ]
     },
     "metadata": {},
     "output_type": "display_data"
    },
    {
     "ename": "KeyboardInterrupt",
     "evalue": "",
     "output_type": "error",
     "traceback": [
      "\u001b[0;31m---------------------------------------------------------------------------\u001b[0m",
      "\u001b[0;31mKeyboardInterrupt\u001b[0m                         Traceback (most recent call last)",
      "\u001b[0;32m<ipython-input-59-657650f77b8d>\u001b[0m in \u001b[0;36m<module>\u001b[0;34m\u001b[0m\n\u001b[1;32m     73\u001b[0m \u001b[0;32mwhile\u001b[0m \u001b[0;32mTrue\u001b[0m\u001b[0;34m:\u001b[0m\u001b[0;34m\u001b[0m\u001b[0;34m\u001b[0m\u001b[0m\n\u001b[1;32m     74\u001b[0m     \u001b[0mprocess_batch\u001b[0m\u001b[0;34m(\u001b[0m\u001b[0mtrain_generator\u001b[0m\u001b[0;34m,\u001b[0m \u001b[0;32mTrue\u001b[0m\u001b[0;34m)\u001b[0m\u001b[0;34m\u001b[0m\u001b[0;34m\u001b[0m\u001b[0m\n\u001b[0;32m---> 75\u001b[0;31m     \u001b[0mprocess_batch\u001b[0m\u001b[0;34m(\u001b[0m\u001b[0mtest_generator\u001b[0m\u001b[0;34m,\u001b[0m \u001b[0;32mFalse\u001b[0m\u001b[0;34m)\u001b[0m\u001b[0;34m\u001b[0m\u001b[0;34m\u001b[0m\u001b[0m\n\u001b[0m\u001b[1;32m     76\u001b[0m \u001b[0;34m\u001b[0m\u001b[0m\n\u001b[1;32m     77\u001b[0m     \u001b[0;31m# tqdm\u001b[0m\u001b[0;34m\u001b[0m\u001b[0;34m\u001b[0m\u001b[0;34m\u001b[0m\u001b[0m\n",
      "\u001b[0;32m<ipython-input-59-657650f77b8d>\u001b[0m in \u001b[0;36mprocess_batch\u001b[0;34m(generator, is_train)\u001b[0m\n\u001b[1;32m     49\u001b[0m     \u001b[0;32massert\u001b[0m \u001b[0my_batch\u001b[0m\u001b[0;34m.\u001b[0m\u001b[0mshape\u001b[0m\u001b[0;34m[\u001b[0m\u001b[0;36m1\u001b[0m\u001b[0;34m]\u001b[0m \u001b[0;34m==\u001b[0m \u001b[0;36m1\u001b[0m\u001b[0;34m\u001b[0m\u001b[0;34m\u001b[0m\u001b[0m\n\u001b[1;32m     50\u001b[0m     \u001b[0;31m#assert x_batch.shape[1] == 30\u001b[0m\u001b[0;34m\u001b[0m\u001b[0;34m\u001b[0m\u001b[0;34m\u001b[0m\u001b[0m\n\u001b[0;32m---> 51\u001b[0;31m     \u001b[0mx_batch\u001b[0m \u001b[0;34m=\u001b[0m \u001b[0mVariable\u001b[0m\u001b[0;34m(\u001b[0m\u001b[0mtorch\u001b[0m\u001b[0;34m.\u001b[0m\u001b[0mFloatTensor\u001b[0m\u001b[0;34m(\u001b[0m\u001b[0mx_batch\u001b[0m\u001b[0;34m)\u001b[0m\u001b[0;34m)\u001b[0m\u001b[0;34m.\u001b[0m\u001b[0mcuda\u001b[0m\u001b[0;34m(\u001b[0m\u001b[0;34m)\u001b[0m\u001b[0;34m\u001b[0m\u001b[0;34m\u001b[0m\u001b[0m\n\u001b[0m\u001b[1;32m     52\u001b[0m     \u001b[0my_batch\u001b[0m \u001b[0;34m=\u001b[0m \u001b[0mVariable\u001b[0m\u001b[0;34m(\u001b[0m\u001b[0mtorch\u001b[0m\u001b[0;34m.\u001b[0m\u001b[0mLongTensor\u001b[0m\u001b[0;34m(\u001b[0m\u001b[0my_batch\u001b[0m\u001b[0;34m)\u001b[0m\u001b[0;34m)\u001b[0m\u001b[0;34m.\u001b[0m\u001b[0mcuda\u001b[0m\u001b[0;34m(\u001b[0m\u001b[0;34m)\u001b[0m\u001b[0;34m\u001b[0m\u001b[0;34m\u001b[0m\u001b[0m\n\u001b[1;32m     53\u001b[0m \u001b[0;34m\u001b[0m\u001b[0m\n",
      "\u001b[0;31mKeyboardInterrupt\u001b[0m: "
     ]
    }
   ],
   "source": [
    "batch_size = 100\n",
    "lag_backward = LAG_BACKWARD\n",
    "lag_forward = LAG_FOREWARD\n",
    "\n",
    "all_labels = set(Y_train[:, 0].tolist()) | set(Y_test[:, 0].tolist())\n",
    "\n",
    "model = simple_net(X_train.shape[1], len(all_labels), lag_backward, lag_forward).cuda()\n",
    "\n",
    "\n",
    "print(\"Trainable params: \",sum(p.numel() for p in model.parameters() if p.requires_grad))\n",
    "print(\"Total params: \",sum(p.numel() for p in model.parameters() if p.requires_grad))\n",
    "loss_function = nn.CrossEntropyLoss()\n",
    "optimizer = torch.optim.Adam(model.parameters(), lr=0.0003)\n",
    "\n",
    "\n",
    "loss_history_train = []\n",
    "loss_history_test = []\n",
    "\n",
    "Y_test_sliced = Y_test[lag_backward:]\n",
    "\n",
    "pbar = tqdm_notebook()\n",
    "\n",
    "def batch_iterator(X, Y, batch_size):\n",
    "    assert X.shape[0] == Y.shape[0]\n",
    "    length = len(X)\n",
    "    for index in range(0, length, batch_size):\n",
    "        current_slice = slice(index, min(index + batch_size, length))\n",
    "        yield X[current_slice], Y[current_slice]\n",
    "        \n",
    "def random_iterator(X, Y, batch_size):\n",
    "    assert X.shape[0] == Y.shape[0]\n",
    "    length = len(X)\n",
    "    while True:\n",
    "        indexes = np.random.randint(0, length, batch_size)\n",
    "        yield X[indexes], Y[indexes]\n",
    "\n",
    "train_generator = random_iterator(X_train, Y_train, batch_size)\n",
    "test_generator = random_iterator(X_test, Y_test, batch_size)\n",
    "\n",
    "\n",
    "def process_batch(generator, is_train):\n",
    "    if is_train:\n",
    "        model.train()\n",
    "    else:\n",
    "        model.eval()\n",
    "\n",
    "    x_batch, y_batch = next(generator)\n",
    "    assert x_batch.shape[0] == y_batch.shape[0]\n",
    "    assert y_batch.shape[1] == 1\n",
    "    #assert x_batch.shape[1] == 30\n",
    "    x_batch = Variable(torch.FloatTensor(x_batch)).cuda()\n",
    "    y_batch = Variable(torch.LongTensor(y_batch)).cuda()\n",
    "\n",
    "    y_predicted = None\n",
    "    if is_train:\n",
    "        optimizer.zero_grad()\n",
    "        y_predicted = model(x_batch)\n",
    "        loss = loss_function(y_predicted, y_batch[:, 0])\n",
    "        loss.backward()\n",
    "        optimizer.step()\n",
    "    else:\n",
    "        y_predicted = model(x_batch)\n",
    "\n",
    "    assert y_predicted.shape[0] == y_batch.shape[0]\n",
    "\n",
    "    accuracy = np.mean(y_predicted.cpu().detach().numpy().argmax(axis=1) == y_batch.cpu().detach().numpy()[:, 0])\n",
    "\n",
    "    if is_train:\n",
    "        loss_history_train.append(accuracy)\n",
    "    else:\n",
    "        loss_history_test.append(accuracy)\n",
    "\n",
    "while True:\n",
    "    process_batch(train_generator, True)\n",
    "    process_batch(test_generator, False)\n",
    "\n",
    "    # tqdm\n",
    "    pbar.update(1)\n",
    "    eval_lag = min(1000, len(loss_history_train))\n",
    "    pbar.set_postfix(train=np.mean(loss_history_train[-eval_lag:]), val=np.mean(loss_history_test[-eval_lag:]))\n",
    "\n"
   ]
  },
  {
   "cell_type": "code",
   "execution_count": 60,
   "metadata": {},
   "outputs": [
    {
     "data": {
      "text/plain": [
       "simple_net(\n",
       "  (ica): Conv1d(32, 5, kernel_size=(1,), stride=(1,))\n",
       "  (detector): envelope_detector(\n",
       "    (conv_filtering): Conv1d(5, 5, kernel_size=(100,), stride=(1,), groups=5, bias=False)\n",
       "    (conv_envelope): Conv1d(5, 5, kernel_size=(50,), stride=(1,), groups=5)\n",
       "    (pre_envelope_batchnorm): BatchNorm1d(5, eps=1e-05, momentum=0.1, affine=False, track_running_stats=True)\n",
       "    (relu): ReLU()\n",
       "  )\n",
       "  (features_batchnorm): BatchNorm1d(180, eps=1e-05, momentum=0.1, affine=False, track_running_stats=True)\n",
       "  (unmixed_batchnorm): BatchNorm1d(5, eps=1e-05, momentum=0.1, affine=False, track_running_stats=True)\n",
       "  (wights_second): Linear(in_features=180, out_features=5, bias=True)\n",
       ")"
      ]
     },
     "execution_count": 60,
     "metadata": {},
     "output_type": "execute_result"
    }
   ],
   "source": [
    "model"
   ]
  },
  {
   "cell_type": "code",
   "execution_count": 61,
   "metadata": {},
   "outputs": [
    {
     "data": {
      "image/png": "[encoded data removed]",
      "text/plain": [
       "<Figure size 864x144 with 1 Axes>"
      ]
     },
     "metadata": {
      "needs_background": "light"
     },
     "output_type": "display_data"
    },
    {
     "ename": "NameError",
     "evalue": "name 'last_history' is not defined",
     "output_type": "error",
     "traceback": [
      "\u001b[0;31m---------------------------------------------------------------------------\u001b[0m",
      "\u001b[0;31mNameError\u001b[0m                                 Traceback (most recent call last)",
      "\u001b[0;32m<ipython-input-61-83a8f005634d>\u001b[0m in \u001b[0;36m<module>\u001b[0;34m\u001b[0m\n\u001b[1;32m     15\u001b[0m \u001b[0mplt\u001b[0m\u001b[0;34m.\u001b[0m\u001b[0mlegend\u001b[0m\u001b[0;34m(\u001b[0m\u001b[0;34m)\u001b[0m\u001b[0;34m\u001b[0m\u001b[0;34m\u001b[0m\u001b[0m\n\u001b[1;32m     16\u001b[0m \u001b[0mplt\u001b[0m\u001b[0;34m.\u001b[0m\u001b[0mshow\u001b[0m\u001b[0;34m(\u001b[0m\u001b[0;34m)\u001b[0m\u001b[0;34m\u001b[0m\u001b[0;34m\u001b[0m\u001b[0m\n\u001b[0;32m---> 17\u001b[0;31m \u001b[0;32mif\u001b[0m \u001b[0mnp\u001b[0m\u001b[0;34m.\u001b[0m\u001b[0many\u001b[0m\u001b[0;34m(\u001b[0m\u001b[0mlast_history\u001b[0m \u001b[0;34m!=\u001b[0m \u001b[0mloss_history_test\u001b[0m\u001b[0;34m)\u001b[0m\u001b[0;34m:\u001b[0m\u001b[0;34m\u001b[0m\u001b[0;34m\u001b[0m\u001b[0m\n\u001b[0m\u001b[1;32m     18\u001b[0m     \u001b[0mlast_history\u001b[0m \u001b[0;34m=\u001b[0m \u001b[0mloss_history_test\u001b[0m\u001b[0;34m\u001b[0m\u001b[0;34m\u001b[0m\u001b[0m\n",
      "\u001b[0;31mNameError\u001b[0m: name 'last_history' is not defined"
     ]
    }
   ],
   "source": [
    "def dummy_forward_moving_avarage(signal, window):\n",
    "    # This is slow version, you may use it for debug \n",
    "    new_signal = np.zeros(len(signal))\n",
    "    for i in range(len(signal)):\n",
    "        new_signal[i] = sum(signal[i-window if i > window else 0:i]) / window\n",
    "    return new_signal\n",
    "\n",
    "\n",
    "plt.figure(figsize=(12, 2))\n",
    "#plt.plot(dummy_forward_moving_avarage(last_history, 100)[100:], alpha=0.8, label=\"old\")\n",
    "plt.plot(dummy_forward_moving_avarage(loss_history_test, 100)[100:], alpha=0.8, label=\"test\")\n",
    "\n",
    "plt.plot(dummy_forward_moving_avarage(loss_history_train, 100)[100:], alpha=0.8, label=\"train\")\n",
    "\n",
    "plt.legend()\n",
    "plt.show()\n",
    "if np.any(last_history != loss_history_test):\n",
    "    last_history = loss_history_test"
   ]
  },
  {
   "cell_type": "code",
   "execution_count": 62,
   "metadata": {},
   "outputs": [],
   "source": [
    "batch_size = 100\n",
    "lag_backward = LAG_BACKWARD\n",
    "lag_forward = LAG_FOREWARD\n",
    "\n",
    "model_name  = \"multi_patient_net\"\n",
    "\n",
    "#DUMP_DATA = False\n",
    "#if DUMP_DATA:\n",
    "#    import pickle\n",
    "#    with open('results_data/model_' + model_name, 'wb') as dump_file:\n",
    "#        pickle.dump({\"model\": model}, dump_file)\n",
    "\n",
    "\n",
    "#LOAD_MODEL = True\n",
    "#if LOAD_MODEL:\n",
    "#    import pickle\n",
    "#    with open('results_data/model_' + model_name, 'rb') as dump_file:\n",
    "#        model = pickle.load(dump_file)[\"model\"]"
   ]
  },
  {
   "cell_type": "code",
   "execution_count": 63,
   "metadata": {},
   "outputs": [
    {
     "data": {
      "text/plain": [
       "simple_net(\n",
       "  (ica): Conv1d(32, 5, kernel_size=(1,), stride=(1,))\n",
       "  (detector): envelope_detector(\n",
       "    (conv_filtering): Conv1d(5, 5, kernel_size=(100,), stride=(1,), groups=5, bias=False)\n",
       "    (conv_envelope): Conv1d(5, 5, kernel_size=(50,), stride=(1,), groups=5)\n",
       "    (pre_envelope_batchnorm): BatchNorm1d(5, eps=1e-05, momentum=0.1, affine=False, track_running_stats=True)\n",
       "    (relu): ReLU()\n",
       "  )\n",
       "  (features_batchnorm): BatchNorm1d(180, eps=1e-05, momentum=0.1, affine=False, track_running_stats=True)\n",
       "  (unmixed_batchnorm): BatchNorm1d(5, eps=1e-05, momentum=0.1, affine=False, track_running_stats=True)\n",
       "  (wights_second): Linear(in_features=180, out_features=5, bias=True)\n",
       ")"
      ]
     },
     "execution_count": 63,
     "metadata": {},
     "output_type": "execute_result"
    }
   ],
   "source": [
    "model"
   ]
  },
  {
   "cell_type": "code",
   "execution_count": 64,
   "metadata": {},
   "outputs": [
    {
     "name": "stderr",
     "output_type": "stream",
     "text": [
      "/opt/conda/lib/python3.7/site-packages/ipykernel_launcher.py:5: TqdmDeprecationWarning: This function will be removed in tqdm==5.0.0\n",
      "Please use `tqdm.notebook.tqdm` instead of `tqdm.tqdm_notebook`\n",
      "  \"\"\"\n"
     ]
    },
    {
     "data": {
      "application/vnd.jupyter.widget-view+json": {
       "model_id": "bf7876ffd3da4df991a24dab3ef69df3",
       "version_major": 2,
       "version_minor": 0
      },
      "text/plain": [
       "HBox(children=(FloatProgress(value=1.0, bar_style='info', max=1.0), HTML(value='')))"
      ]
     },
     "metadata": {},
     "output_type": "display_data"
    },
    {
     "name": "stdout",
     "output_type": "stream",
     "text": [
      "\n",
      "Correlation   val 0.8131211597814084\n"
     ]
    }
   ],
   "source": [
    "X_unmixed = []\n",
    "X_preout = []\n",
    "\n",
    "Y_predicted = []\n",
    "for x_batch, _ in tqdm_notebook(batch_iterator(X_test, Y_test, batch_size)):\n",
    "    #### Train\n",
    "    model.eval()\n",
    "\n",
    "    x_batch = Variable(torch.FloatTensor(x_batch)).cuda()\n",
    "    y_predicted = model(x_batch).cpu().data.numpy()\n",
    "    assert x_batch.shape[0]==y_predicted.shape[0]\n",
    "    Y_predicted.append(y_predicted)\n",
    "    X_unmixed.append(model.fuck_channels)\n",
    "    X_preout.append(model.pre_out)\n",
    "    \n",
    "\n",
    "X_unmixed = np.concatenate(X_unmixed, axis = 0)\n",
    "X_unmixed = X_unmixed[:, :, -1]\n",
    "X_preout = np.concatenate(X_preout, axis=0)\n",
    "Y_predicted = np.concatenate(Y_predicted, axis = 0)\n",
    "\n",
    "print(\"Correlation   val\", np.mean(Y_predicted.argmax(axis=1) == Y_test[:, 0]))\n"
   ]
  },
  {
   "cell_type": "code",
   "execution_count": null,
   "metadata": {},
   "outputs": [],
   "source": [
    "\n"
   ]
  },
  {
   "cell_type": "code",
   "execution_count": 65,
   "metadata": {},
   "outputs": [
    {
     "data": {
      "text/plain": [
       "<AxesSubplot:>"
      ]
     },
     "execution_count": 65,
     "metadata": {},
     "output_type": "execute_result"
    },
    {
     "data": {
      "image/png": "[encoded data removed]",
      "text/plain": [
       "<Figure size 432x288 with 2 Axes>"
      ]
     },
     "metadata": {
      "needs_background": "light"
     },
     "output_type": "display_data"
    }
   ],
   "source": [
    "cm = sklearn.metrics.confusion_matrix(Y_test[:, 0], Y_predicted.argmax(axis=1))\n",
    "\n",
    "\n",
    "group_names=[\"left_hand\", \"right_hand\", \"left_leg\", \"right_leg\"]\n",
    "import seaborn as sns\n",
    "sns.heatmap(cm / np.sum(cm), annot=True, fmt='.2%', xticklabels=group_names, yticklabels=group_names, cmap='Reds')"
   ]
  },
  {
   "cell_type": "code",
   "execution_count": null,
   "metadata": {},
   "outputs": [],
   "source": []
  },
  {
   "cell_type": "code",
   "execution_count": 66,
   "metadata": {},
   "outputs": [
    {
     "name": "stdout",
     "output_type": "stream",
     "text": [
      "Correlation   val 0.8093323517752987\n"
     ]
    },
    {
     "name": "stderr",
     "output_type": "stream",
     "text": [
      "/opt/conda/lib/python3.7/site-packages/sklearn/linear_model/_logistic.py:764: ConvergenceWarning: lbfgs failed to converge (status=1):\n",
      "STOP: TOTAL NO. of ITERATIONS REACHED LIMIT.\n",
      "\n",
      "Increase the number of iterations (max_iter) or scale the data as shown in:\n",
      "    https://scikit-learn.org/stable/modules/preprocessing.html\n",
      "Please also refer to the documentation for alternative solver options:\n",
      "    https://scikit-learn.org/stable/modules/linear_model.html#logistic-regression\n",
      "  extra_warning_msg=_LOGISTIC_SOLVER_CONVERGENCE_MSG)\n"
     ]
    }
   ],
   "source": [
    "import sklearn\n",
    "import sklearn.linear_model\n",
    "\n",
    "ntr_embed = int(X_preout.shape[0] * 0.5)\n",
    "\n",
    "X_embed_train = X_preout[:ntr_embed]\n",
    "Y_embed_train = Y_test[:ntr_embed]\n",
    "\n",
    "X_embed_test = X_preout[ntr_embed:]\n",
    "Y_embed_test = Y_test[ntr_embed:]\n",
    "\n",
    "\n",
    "linear_nodel = sklearn.linear_model.LogisticRegression(random_state=67)\n",
    "linear_nodel.fit(X_embed_train, Y_embed_train[:, 0])\n",
    "Y_embed_predicted = linear_nodel.predict_proba(X_embed_test)\n",
    "\n",
    "print(\"Correlation   val\", np.mean(Y_embed_predicted.argmax(axis=1) == Y_embed_test[:, 0]))\n"
   ]
  },
  {
   "cell_type": "code",
   "execution_count": 67,
   "metadata": {},
   "outputs": [],
   "source": [
    "weights = sklearn.preprocessing.minmax_scale(np.abs(model.ica.weight[:, :, 0].cpu().detach().numpy()).transpose()).transpose()"
   ]
  },
  {
   "cell_type": "code",
   "execution_count": 73,
   "metadata": {},
   "outputs": [
    {
     "name": "stdout",
     "output_type": "stream",
     "text": [
      "Collecting mne==0.19\n",
      "  Downloading mne-0.19.0-py3-none-any.whl (6.4 MB)\n",
      "\u001b[K     |████████████████████████████████| 6.4 MB 2.5 MB/s eta 0:00:01\n",
      "\u001b[?25hRequirement already satisfied: numpy>=1.11.3 in /opt/conda/lib/python3.7/site-packages (from mne==0.19) (1.19.1)\n",
      "Requirement already satisfied: scipy>=0.17.1 in /opt/conda/lib/python3.7/site-packages (from mne==0.19) (1.5.2)\n",
      "Installing collected packages: mne\n",
      "  Attempting uninstall: mne\n",
      "    Found existing installation: mne 0.20.7\n",
      "    Uninstalling mne-0.20.7:\n",
      "      Successfully uninstalled mne-0.20.7\n",
      "Successfully installed mne-0.19.0\n",
      "Note: you may need to restart the kernel to use updated packages.\n"
     ]
    }
   ],
   "source": [
    "pip install mne==0.19"
   ]
  },
  {
   "cell_type": "code",
   "execution_count": 74,
   "metadata": {},
   "outputs": [
    {
     "data": {
      "text/plain": [
       "'0.20.7'"
      ]
     },
     "execution_count": 74,
     "metadata": {},
     "output_type": "execute_result"
    }
   ],
   "source": [
    "import mne\n",
    "mne.__version__"
   ]
  },
  {
   "cell_type": "code",
   "execution_count": 72,
   "metadata": {},
   "outputs": [
    {
     "ename": "AttributeError",
     "evalue": "'DigMontage' object has no attribute 'get_pos2d'",
     "output_type": "error",
     "traceback": [
      "\u001b[0;31m---------------------------------------------------------------------------\u001b[0m",
      "\u001b[0;31mAttributeError\u001b[0m                            Traceback (most recent call last)",
      "\u001b[0;32m<ipython-input-72-88d76f01a1e2>\u001b[0m in \u001b[0;36m<module>\u001b[0;34m\u001b[0m\n\u001b[1;32m      8\u001b[0m \u001b[0;31m#assert len(mne.channels.read_montage(MONTAGE_NAME).ch_names) == len(mne.channels.read_montage(MONTAGE_NAME).get_pos2d())\u001b[0m\u001b[0;34m\u001b[0m\u001b[0;34m\u001b[0m\u001b[0;34m\u001b[0m\u001b[0m\n\u001b[1;32m      9\u001b[0m \u001b[0;34m\u001b[0m\u001b[0m\n\u001b[0;32m---> 10\u001b[0;31m \u001b[0;32mfor\u001b[0m \u001b[0mchannel_name\u001b[0m\u001b[0;34m,\u001b[0m \u001b[0mcoord\u001b[0m \u001b[0;32min\u001b[0m \u001b[0mzip\u001b[0m\u001b[0;34m(\u001b[0m\u001b[0mmne\u001b[0m\u001b[0;34m.\u001b[0m\u001b[0mchannels\u001b[0m\u001b[0;34m.\u001b[0m\u001b[0mmake_standard_montage\u001b[0m\u001b[0;34m(\u001b[0m\u001b[0mMONTAGE_NAME\u001b[0m\u001b[0;34m)\u001b[0m\u001b[0;34m.\u001b[0m\u001b[0mch_names\u001b[0m\u001b[0;34m,\u001b[0m \u001b[0mmne\u001b[0m\u001b[0;34m.\u001b[0m\u001b[0mchannels\u001b[0m\u001b[0;34m.\u001b[0m\u001b[0mmake_standard_montage\u001b[0m\u001b[0;34m(\u001b[0m\u001b[0mMONTAGE_NAME\u001b[0m\u001b[0;34m)\u001b[0m\u001b[0;34m.\u001b[0m\u001b[0mget_pos2d\u001b[0m\u001b[0;34m(\u001b[0m\u001b[0;34m)\u001b[0m\u001b[0;34m)\u001b[0m\u001b[0;34m:\u001b[0m\u001b[0;34m\u001b[0m\u001b[0;34m\u001b[0m\u001b[0m\n\u001b[0m\u001b[1;32m     11\u001b[0m     \u001b[0;32massert\u001b[0m \u001b[0mchannel_name\u001b[0m\u001b[0;34m.\u001b[0m\u001b[0mlower\u001b[0m\u001b[0;34m(\u001b[0m\u001b[0;34m)\u001b[0m \u001b[0;32mnot\u001b[0m \u001b[0;32min\u001b[0m \u001b[0mCHANNELS_DICT\u001b[0m\u001b[0;34m\u001b[0m\u001b[0;34m\u001b[0m\u001b[0m\n\u001b[1;32m     12\u001b[0m     \u001b[0mCHANNELS_DICT\u001b[0m\u001b[0;34m[\u001b[0m\u001b[0mchannel_name\u001b[0m\u001b[0;34m.\u001b[0m\u001b[0mlower\u001b[0m\u001b[0;34m(\u001b[0m\u001b[0;34m)\u001b[0m\u001b[0;34m]\u001b[0m \u001b[0;34m=\u001b[0m \u001b[0mcoord\u001b[0m\u001b[0;34m\u001b[0m\u001b[0;34m\u001b[0m\u001b[0m\n",
      "\u001b[0;31mAttributeError\u001b[0m: 'DigMontage' object has no attribute 'get_pos2d'"
     ]
    }
   ],
   "source": [
    "import mne\n",
    "import mne.viz\n",
    "import mne.io\n",
    "\n",
    "MONTAGE_NAME = \"biosemi64\"\n",
    "CHANNELS_DICT = {}\n",
    "\n",
    "assert len(mne.channels.read_montage(MONTAGE_NAME).ch_names) == len(mne.channels.read_montage(MONTAGE_NAME).get_pos2d())\n",
    "\n",
    "for channel_name, coord in zip(mne.channels.read_montage(MONTAGE_NAME).ch_names, mne.channels.read_montage(MONTAGE_NAME).get_pos2d()):\n",
    "    assert channel_name.lower() not in CHANNELS_DICT\n",
    "    CHANNELS_DICT[channel_name.lower()] = coord\n",
    "\n",
    "\n",
    "\n",
    "import h5py\n",
    "import numpy as np\n",
    "\n",
    "CHANNELS = list(map(lambda x: str(x).lower(), channel_names))\n",
    "    \n",
    "assert len(list(set(CHANNELS))) == len(CHANNELS) == 32\n",
    "assert set(CHANNELS) - set(CHANNELS_DICT.keys()) == set()\n",
    "\n",
    "\n",
    "def get_ossagtchi_spatial_patterns(X, temproral_weights, spatial_weights):\n",
    "    patterns = np.zeros((spatial_weights.shape[0], spatial_weights.shape[1]))\n",
    "    for i in range(temproral_weights.shape[0]):\n",
    "        X_filtered = np.zeros(X.shape)\n",
    "        for j in range(X_filtered.shape[1]):\n",
    "            X_filtered[:, j] = np.convolve(X[:, j], temproral_weights[i, 0, :], mode=\"same\")\n",
    "            #print(np.convolve(X_filtered[:, j], temproral_weights[i, 0, :], mode=\"same\"))\n",
    "        patterns[:, i] = np.dot(np.cov(X_filtered, rowvar=False), spatial_weights[:, i].reshape((-1, 1)))[:, 0]\n",
    "    return patterns\n",
    "\n",
    "def get_interpretable(X, W, Y):\n",
    "    y_col = Y.shape[1]\n",
    "    return np.linalg.multi_dot([\n",
    "        np.cov(X, rowvar=False), \n",
    "        W#, \n",
    "        #np.linalg.inv(np.cov(Y, rowvar=False).reshape((y_col, y_col)))\n",
    "    ])\n",
    "\n",
    "\n",
    "\n",
    "\n",
    "interpret_ossadtchi = get_ossagtchi_spatial_patterns(\n",
    "    np.copy(X_train[:, :, 250]),\n",
    "    convs_weights,\n",
    "    np.repeat(np.copy(model.ica.weight.cpu().detach().numpy()[:, :, 0].transpose()), 1, axis=1),\n",
    ").reshape(32, 5, 1)\n",
    "\n",
    "\n",
    "interpret = get_interpretable(\n",
    "    np.copy(X_train[:, :, 250]),\n",
    "    np.copy(model.ica.weight.cpu().detach().numpy()[:, :, 0].transpose()),\n",
    "    np.copy(X_unmixed)\n",
    ")\n",
    "\n",
    "raw_weights = model.ica.weight.cpu().detach().numpy()[:, :, 0].transpose()\n",
    "\n",
    "\n",
    "####################\n",
    "\n",
    "convs_weights = list(model.detector.conv_filtering.cpu().parameters())[0].detach().numpy()\n",
    "\n",
    "COMPARISON_TOLERANCE = 10\n",
    "\n",
    "ZOOM = 250\n",
    "\n",
    "def get_freq_domain(signal, frequency):\n",
    "    n = NPERSEQ\n",
    "    ampletude = np.abs(np.fft.fft(signal,n))\n",
    "    frequencies = np.fft.fftfreq(n , 1 / frequency)\n",
    "    assert len(ampletude) == len(frequencies), f\"{len(ampletude)}!={len(frequencies)}\"\n",
    "    end = int(len(frequencies)/2)\n",
    "    return frequencies[:end], ampletude[:end]\n",
    "\n",
    "####################\n",
    "\n",
    "assert interpret_ossadtchi.shape[2] == 1\n",
    "\n",
    "\n",
    "weights = sklearn.preprocessing.minmax_scale(np.abs(model.ica.weight[:, :, 0].cpu().detach().numpy()).transpose()).transpose()\n",
    "plt.figure(figsize=(16, 2))\n",
    "plt.imshow(weights)\n",
    "plt.show()\n",
    "\n",
    "print(sorted(zip(range(30), weights.sum(axis=0)), key=lambda x: x[1], reverse=True))\n",
    "\n",
    "\n",
    "\n",
    "for i in range(interpret_ossadtchi.shape[1]):\n",
    "    for j in range(interpret_ossadtchi.shape[2]):\n",
    "        branches = raw_weights.shape[1]\n",
    "\n",
    "        FINAL_FUGURE, FINAL_AXIS = plt.subplots(1, 4, gridspec_kw={'width_ratios': [1, 1, 1, 5],'height_ratios': [1]})\n",
    "        #FINAL_FUGURE.suptitle(nammeee)\n",
    "        FINAL_FUGURE.set_figwidth(20)\n",
    "        FINAL_FUGURE.set_figheight(2)\n",
    "        plt.rc('font', family='serif', size=14)\n",
    "\n",
    "        plt.rc('ytick', labelsize=14)\n",
    "        plt.setp(FINAL_AXIS[0], ylabel=f'Branch {i}')\n",
    "            \n",
    "\n",
    "        plt.setp(FINAL_AXIS[3], xlabel='Frequency, Hz')\n",
    "\n",
    "\n",
    "        FINAL_AXIS[0].set_title(\"Weights\")\n",
    "        FINAL_AXIS[1].set_title(\"Patterns naive\")\n",
    "        FINAL_AXIS[2].set_title(\"Patterns\")\n",
    "        FINAL_AXIS[3].set_title(\"Frequency domain profiles\")\n",
    "\n",
    "        weights = convs_weights[i, j, :]\n",
    "        \n",
    "        frequencies_input, spectrum_input = scipy.signal.welch(X_unmixed[:, i], FREQUENCY, nperseg=NPERSEQ, detrend='linear')\n",
    "        frequencies_input = frequencies_input[:-1]\n",
    "        spectrum_input = spectrum_input[:-1]\n",
    "\n",
    "        frequencies, ampletude = get_freq_domain(weights, FREQUENCY)\n",
    "\n",
    "        assert len(frequencies_input) == len(frequencies), f\"{len(frequencies_input)}!={len(frequencies)}\"\n",
    "        assert(\n",
    "            list(np.round(frequencies_input, COMPARISON_TOLERANCE)) ==\\\n",
    "            list(np.round(frequencies, COMPARISON_TOLERANCE))\n",
    "        )\n",
    "\n",
    "        recovered = np.power(sklearn.preprocessing.minmax_scale(ampletude), 1) * sklearn.preprocessing.minmax_scale(spectrum_input)\n",
    "        out_spectrum = np.power(sklearn.preprocessing.minmax_scale(ampletude), 2) * sklearn.preprocessing.minmax_scale(spectrum_input)\n",
    "\n",
    "        frequencies, ampletude = get_freq_domain(weights, FREQUENCY)\n",
    "        \n",
    "        figure = FINAL_AXIS[3]\n",
    "        \n",
    "        figure.plot(frequencies_input[:ZOOM], sklearn.preprocessing.minmax_scale(spectrum_input)[:ZOOM], label='Input')\n",
    "        figure.plot(frequencies[:ZOOM], sklearn.preprocessing.minmax_scale(recovered)[:ZOOM], label='Patterns')\n",
    "        figure.plot(frequencies[:ZOOM], sklearn.preprocessing.minmax_scale(ampletude)[:ZOOM], label = 'Weights')\n",
    "        figure.plot(frequencies[:ZOOM], sklearn.preprocessing.minmax_scale(out_spectrum)[:ZOOM], label='Out')\n",
    "        figure.grid()\n",
    "        figure.legend(bbox_to_anchor=(0.8, -0.3), ncol=4)\n",
    "        \n",
    "        #\n",
    "        #plt.show()\n",
    "        \n",
    "        \n",
    "        mne.viz.plot_topomap(\n",
    "            sklearn.preprocessing.minmax_scale(np.abs(interpret_ossadtchi[:, i, j]).transpose()),\n",
    "            np.array([CHANNELS_DICT[channel] for channel in CHANNELS]),\n",
    "            axes=FINAL_AXIS[2],\n",
    "            show=False\n",
    "        )\n",
    "        \n",
    "        mne.viz.plot_topomap(\n",
    "            sklearn.preprocessing.minmax_scale(np.abs(interpret[:, i]).transpose()),\n",
    "            np.array([CHANNELS_DICT[channel] for channel in CHANNELS]),\n",
    "            axes=FINAL_AXIS[1],\n",
    "            show=False\n",
    "        )\n",
    "        mne.viz.plot_topomap(\n",
    "            sklearn.preprocessing.minmax_scale(np.abs(raw_weights[:, i]).transpose()),\n",
    "            np.array([CHANNELS_DICT[channel] for channel in CHANNELS]),\n",
    "            axes=FINAL_AXIS[0],\n",
    "            show=False\n",
    "        )\n",
    "\n",
    "FINAL_FUGURE.show()"
   ]
  },
  {
   "cell_type": "code",
   "execution_count": null,
   "metadata": {},
   "outputs": [],
   "source": []
  }
 ],
 "metadata": {
  "kernelspec": {
   "display_name": "Python 3",
   "language": "python",
   "name": "python3"
  },
  "language_info": {
   "codemirror_mode": {
    "name": "ipython",
    "version": 3
   },
   "file_extension": ".py",
   "mimetype": "text/x-python",
   "name": "python",
   "nbconvert_exporter": "python",
   "pygments_lexer": "ipython3",
   "version": "3.7.8"
  },
  "varInspector": {
   "cols": {
    "lenName": 16,
    "lenType": 16,
    "lenVar": 40
   },
   "kernels_config": {
    "python": {
     "delete_cmd_postfix": "",
     "delete_cmd_prefix": "del ",
     "library": "var_list.py",
     "varRefreshCmd": "print(var_dic_list())"
    },
    "r": {
     "delete_cmd_postfix": ") ",
     "delete_cmd_prefix": "rm(",
     "library": "var_list.r",
     "varRefreshCmd": "cat(var_dic_list()) "
    }
   },
   "types_to_exclude": [
    "module",
    "function",
    "builtin_function_or_method",
    "instance",
    "_Feature"
   ],
   "window_display": false
  }
 },
 "nbformat": 4,
 "nbformat_minor": 4
}
