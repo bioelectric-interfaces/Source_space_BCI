{
 "cells": [
  {
   "cell_type": "code",
   "execution_count": 3,
   "metadata": {},
   "outputs": [],
   "source": [
    "import sys\n",
    "sys.path.append('../')  # noga\n",
    "import os\n",
    "import library\n",
    "import library.models_lib.band_specific_ecog\n",
    "import library.models_lib.common\n",
    "os.environ['CUDA_VISIBLE_DEVICES'] = '0'\n",
    "\n",
    "import numpy as np\n",
    "import scipy\n",
    "import scipy.io\n",
    "import scipy.signal\n",
    "import matplotlib\n",
    "import matplotlib.pyplot as plt\n",
    "from tqdm import tqdm_notebook\n",
    "\n",
    "from torch.autograd import Variable\n",
    "import torch, torch.nn as nn\n",
    "import torch.nn.functional as F\n",
    "import matplotlib.image as mpimg\n",
    "\n",
    "import scipy\n",
    "import sklearn\n",
    "import sklearn.metrics\n",
    "import math\n",
    "\n",
    "import mne\n",
    "\n",
    "import numpy as np\n",
    "import scipy\n",
    "import scipy.signal\n",
    "import random\n",
    "import scipy\n",
    "import math\n",
    "import pandas as pd\n",
    "\n",
    "import torch\n",
    "from torch.autograd import Variable\n",
    "import torch.nn as nn\n",
    "import torch.nn.functional as F\n",
    "\n",
    "import pandas\n",
    "import numpy as np\n",
    "\n",
    "from tqdm import tqdm_notebook\n",
    "from sklearn.preprocessing import StandardScaler\n",
    "\n",
    "import math\n",
    "\n",
    "import sklearn\n",
    "import sklearn.metrics\n",
    "\n",
    "import matplotlib\n",
    "import matplotlib.pyplot as plt\n",
    "\n",
    "import copy\n",
    "\n",
    "import scipy\n",
    "import scipy.signal\n",
    "\n",
    "\n",
    "\n",
    "from IPython.display import display, clear_output\n",
    "\n",
    "def downsample(X, Y, frequency, x_times):\n",
    "    assert x_times in range(13)\n",
    "    X = scipy.signal.decimate(X, x_times, axis=0)\n",
    "    Y = scipy.signal.decimate(Y, x_times, axis=0)\n",
    "    return X, Y, frequency / x_times\n",
    "\n",
    "\n",
    "def high_pass_filtering(X, frequency, cutoff_frequency):\n",
    "    b, a = scipy.signal.butter(3, cutoff_frequency * 1.0 / (frequency * 1.0 / 2), 'high')\n",
    "    for i in range(X.shape[1]):\n",
    "        X[:, i] = scipy.signal.filtfilt(b, a, X[:, i])\n",
    "    return X\n",
    "\n",
    "\n",
    "def norch_filtering(X, Y, frequency, remove_frequency):\n",
    "    QUALITY = 30\n",
    "    b, a = scipy.signal.iirnotch(remove_frequency * 1.0 / (frequency * 1.0 / 2), QUALITY)\n",
    "    for i in range(X.shape[1]):\n",
    "        X[:, i] = scipy.signal.filtfilt(b, a, X[:, i])\n",
    "    return X, Y, frequency\n",
    "\n",
    "\n",
    "def data_generator(X, Y, batch_size, shuffle=True, infinite=True):\n",
    "    assert len(X)==len(Y) or len(Y)==0\n",
    "    total_lag = lag_backward + lag_forward\n",
    "    all_batches = math.ceil((X.shape[0] )/batch_size)\n",
    "    samples_in_last_batch = (X.shape[0]) % batch_size\n",
    "    batch = 0\n",
    "    random_core = np.arange(0, X.shape[0])\n",
    "    while True:\n",
    "        if shuffle:\n",
    "            np.random.shuffle(random_core)\n",
    "        for batch in range(all_batches):       \n",
    "            batch_start = batch * batch_size\n",
    "            batch_end = (batch + 1)*batch_size\n",
    "            if batch_end >= len(random_core):\n",
    "                batch_end = None\n",
    "            batch_samples = random_core[batch_start : batch_end]\n",
    "\n",
    "            batch_x = X[[batch_samples]]\n",
    "            #batch_x = np.swapaxes(batch_x, 1, 2)\n",
    "\n",
    "            if len(Y) > 0:\n",
    "                batch_y = Y[[batch_samples]] \n",
    "                yield (batch_x, batch_y)\n",
    "            else:\n",
    "                yield batch_x\n",
    "        \n",
    "        if not infinite:\n",
    "            break"
   ]
  },
  {
   "cell_type": "code",
   "execution_count": 4,
   "metadata": {},
   "outputs": [
    {
     "name": "stdout",
     "output_type": "stream",
     "text": [
      "SG01_motor_clean.fif SG01_motor_clean_marks.csv\n"
     ]
    },
    {
     "name": "stderr",
     "output_type": "stream",
     "text": [
      "<ipython-input-4-83e43efd7450>:91: RuntimeWarning: This filename (/home/amplifier/common/gurasog/Data_for_Artur/SG01_motor_clean.fif) does not conform to MNE naming conventions. All raw files should end with raw.fif, raw_sss.fif, raw_tsss.fif, raw.fif.gz, raw_sss.fif.gz or raw_tsss.fif.gz\n",
      "  data = mne.io.read_raw_fif(f\"{DATA_FOLDER}/{data_filename}\", preload=True, verbose=0).get_data().transpose()\n"
     ]
    },
    {
     "name": "stdout",
     "output_type": "stream",
     "text": [
      "SG01 7.3 minutes 3.2 real minutes\n",
      "SG02_motor_clean.fif SG02_motor_clean_marks.csv\n"
     ]
    },
    {
     "name": "stderr",
     "output_type": "stream",
     "text": [
      "<ipython-input-4-83e43efd7450>:91: RuntimeWarning: This filename (/home/amplifier/common/gurasog/Data_for_Artur/SG02_motor_clean.fif) does not conform to MNE naming conventions. All raw files should end with raw.fif, raw_sss.fif, raw_tsss.fif, raw.fif.gz, raw_sss.fif.gz or raw_tsss.fif.gz\n",
      "  data = mne.io.read_raw_fif(f\"{DATA_FOLDER}/{data_filename}\", preload=True, verbose=0).get_data().transpose()\n"
     ]
    },
    {
     "name": "stdout",
     "output_type": "stream",
     "text": [
      "SG02 6.2 minutes 3.2 real minutes\n",
      "SG03_motor_clean.fif SG03_motor_clean_marks.csv\n"
     ]
    },
    {
     "name": "stderr",
     "output_type": "stream",
     "text": [
      "<ipython-input-4-83e43efd7450>:91: RuntimeWarning: This filename (/home/amplifier/common/gurasog/Data_for_Artur/SG03_motor_clean.fif) does not conform to MNE naming conventions. All raw files should end with raw.fif, raw_sss.fif, raw_tsss.fif, raw.fif.gz, raw_sss.fif.gz or raw_tsss.fif.gz\n",
      "  data = mne.io.read_raw_fif(f\"{DATA_FOLDER}/{data_filename}\", preload=True, verbose=0).get_data().transpose()\n"
     ]
    },
    {
     "name": "stdout",
     "output_type": "stream",
     "text": [
      "SG03 9.3 minutes 4.0 real minutes\n",
      "SG04_motor_clean.fif SG04_motor_clean_marks.csv\n"
     ]
    },
    {
     "name": "stderr",
     "output_type": "stream",
     "text": [
      "<ipython-input-4-83e43efd7450>:91: RuntimeWarning: This filename (/home/amplifier/common/gurasog/Data_for_Artur/SG04_motor_clean.fif) does not conform to MNE naming conventions. All raw files should end with raw.fif, raw_sss.fif, raw_tsss.fif, raw.fif.gz, raw_sss.fif.gz or raw_tsss.fif.gz\n",
      "  data = mne.io.read_raw_fif(f\"{DATA_FOLDER}/{data_filename}\", preload=True, verbose=0).get_data().transpose()\n"
     ]
    },
    {
     "name": "stdout",
     "output_type": "stream",
     "text": [
      "SG04 5.7 minutes 3.2 real minutes\n",
      "SG05_motor_clean.fif SG05_motor_clean_marks.csv\n"
     ]
    },
    {
     "name": "stderr",
     "output_type": "stream",
     "text": [
      "<ipython-input-4-83e43efd7450>:91: RuntimeWarning: This filename (/home/amplifier/common/gurasog/Data_for_Artur/SG05_motor_clean.fif) does not conform to MNE naming conventions. All raw files should end with raw.fif, raw_sss.fif, raw_tsss.fif, raw.fif.gz, raw_sss.fif.gz or raw_tsss.fif.gz\n",
      "  data = mne.io.read_raw_fif(f\"{DATA_FOLDER}/{data_filename}\", preload=True, verbose=0).get_data().transpose()\n"
     ]
    },
    {
     "name": "stdout",
     "output_type": "stream",
     "text": [
      "SG05 5.7 minutes 3.2 real minutes\n",
      "SG06_Motor_clean.fif SG06_Motor_clean_marks.csv\n"
     ]
    },
    {
     "name": "stderr",
     "output_type": "stream",
     "text": [
      "<ipython-input-4-83e43efd7450>:91: RuntimeWarning: This filename (/home/amplifier/common/gurasog/Data_for_Artur/SG06_Motor_clean.fif) does not conform to MNE naming conventions. All raw files should end with raw.fif, raw_sss.fif, raw_tsss.fif, raw.fif.gz, raw_sss.fif.gz or raw_tsss.fif.gz\n",
      "  data = mne.io.read_raw_fif(f\"{DATA_FOLDER}/{data_filename}\", preload=True, verbose=0).get_data().transpose()\n"
     ]
    },
    {
     "name": "stdout",
     "output_type": "stream",
     "text": [
      "SG06 5.7 minutes 3.2 real minutes\n",
      "\n",
      "unknown 3.4 minutes\n",
      "right_hand 4.0 minutes\n",
      "pause 11.0 minutes\n",
      "rest 5.3 minutes\n",
      "right_leg 5.3 minutes\n",
      "left_leg 5.3 minutes\n",
      "left_hand 5.3 minutes\n",
      "protocol 0.2 minutes\n"
     ]
    }
   ],
   "source": [
    "DATA_FOLDER = \"/home/amplifier/common/gurasog/Data_for_Artur\"\n",
    "sorted_filenames = sorted(os.listdir(DATA_FOLDER))\n",
    "\n",
    "FREQUENCY = 250\n",
    "CHANNELS_COUNT = 30\n",
    "\n",
    "\n",
    "MARK_TO_STATUS = {\n",
    "    \"SG01\": {\n",
    "        4: 'right_hand',\n",
    "        5: 'pause',\n",
    "        6: 'rest',\n",
    "        7: 'right_leg',\n",
    "        8: 'left_leg',\n",
    "        9: 'left_hand'\n",
    "    },\n",
    "    \"SG02\": {\n",
    "        1: 'protocol',\n",
    "        2: 'rest',\n",
    "        3: 'pause',\n",
    "        4: 'left_leg',\n",
    "        5: 'right_leg',\n",
    "        6: 'left_hand',\n",
    "        7: 'right_hand',\n",
    "    },\n",
    "    \"SG03\": {\n",
    "        1: 'left_hand',\n",
    "        2: 'pause',\n",
    "        3: 'rest',\n",
    "        5: 'left_leg',\n",
    "        6: 'right_leg',\n",
    "        7: 'right_hand',\n",
    "    },\n",
    "    \"SG04\": {\n",
    "        2: 'right_hand',\n",
    "        3: 'pause',\n",
    "        4: 'left_leg',\n",
    "        5: 'left_hand',\n",
    "        6: 'rest',\n",
    "        7: 'right_leg',\n",
    "    },\n",
    "    \"SG05\": {\n",
    "        2: 'left_hand',\n",
    "        3: 'pause',\n",
    "        4: 'right_hand',\n",
    "        5: 'rest',\n",
    "        6: 'right_leg',\n",
    "        7: 'left_leg',\n",
    "    },\n",
    "    \"SG06\": {\n",
    "        1: 'rest',\n",
    "        2: 'pause',\n",
    "        3: 'left_hand',\n",
    "        4: 'left_leg',\n",
    "        5: 'right_leg',\n",
    "        6: 'right_hand',\n",
    "    }, \n",
    "}\n",
    "\n",
    "\n",
    "STATUS_TO_LABEL = {\n",
    "    'left_hand': 0,\n",
    "    'right_hand': 1,\n",
    "    'left_leg': 2,\n",
    "    'right_leg': 3,\n",
    "    'pause': -1,\n",
    "    'protocol': -1,\n",
    "    'rest': -1,\n",
    "    'unknown': -1,\n",
    "}\n",
    "\n",
    "\n",
    "classes_examples_counter = {}\n",
    "\n",
    "DATA_DICT = {}\n",
    "\n",
    "def read_labels(labels_filename, statuses):\n",
    "    labels = []\n",
    "    with open(f\"{DATA_FOLDER}/{labels_filename}\") as input_file:\n",
    "        for row in input_file:\n",
    "            status = statuses.get(int(float(row.strip())), 'unknown')\n",
    "            classes_examples_counter[status] = classes_examples_counter.get(status, 0) + 1\n",
    "            labels.append(STATUS_TO_LABEL[status])\n",
    "    return np.array(labels)\n",
    "\n",
    "for data_filename, labels_filename in zip(sorted_filenames[::2], sorted_filenames[1::2]):\n",
    "    print(data_filename, labels_filename)\n",
    "    assert data_filename.split(\"_\")[0] == labels_filename.split(\"_\")[0]\n",
    "    patient = data_filename.split(\"_\")[0]\n",
    "    \n",
    "    data = mne.io.read_raw_fif(f\"{DATA_FOLDER}/{data_filename}\", preload=True, verbose=0).get_data().transpose()\n",
    "    labels = read_labels(labels_filename, MARK_TO_STATUS[patient])\n",
    "\n",
    "    assert labels.shape[0] == data.shape[0]\n",
    "    assert data.shape[1] == CHANNELS_COUNT\n",
    "    \n",
    "    print(patient, f\"{round(data.shape[0] / FREQUENCY / 60, 1)} minutes\", f\"{round(sum(labels != -1) / FREQUENCY / 60, 1)} real minutes\")\n",
    "\n",
    "    DATA_DICT[patient] = (data, labels)\n",
    "\n",
    "print()\n",
    "for label, count in classes_examples_counter.items():\n",
    "    print(label, f\"{round(count / FREQUENCY / 60, 1)} minutes\")"
   ]
  },
  {
   "cell_type": "code",
   "execution_count": 34,
   "metadata": {},
   "outputs": [
    {
     "data": {
      "text/plain": [
       "9.952599999999999"
      ]
     },
     "execution_count": 34,
     "metadata": {},
     "output_type": "execute_result"
    }
   ],
   "source": [
    "X_train.shape[0] / 250 / 60"
   ]
  },
  {
   "cell_type": "code",
   "execution_count": 5,
   "metadata": {},
   "outputs": [],
   "source": [
    "def make_lag_3D(X_3D, lag_backward, lag_forward, decimate=1):\n",
    "    # TODO: probably this code can be rewritten shorter\n",
    "    assert decimate > 0\n",
    "    assert lag_backward >=0\n",
    "    assert lag_forward >=0\n",
    "\n",
    "    output_samples = X_3D.shape[0] - lag_backward - lag_forward\n",
    "    channels = X_3D.shape[1]\n",
    "    feature_per_channel = X_3D.shape[2]\n",
    "    # TODO: CHECK IF ITS VALID\n",
    "    features_backward = int(lag_backward / decimate)\n",
    "    features_forward = int(lag_forward / decimate)\n",
    "    output_features = feature_per_channel * (1 + features_forward + features_backward)\n",
    "\n",
    "    X_output_3D = np.zeros((output_samples, channels, output_features))\n",
    "    feature_index = 0\n",
    "    for time_shift in range(decimate, lag_backward + decimate, decimate):\n",
    "        feature_slice = slice(feature_index, feature_index + feature_per_channel)\n",
    "        X_output_3D[:, :, feature_slice] = X_3D[lag_backward - time_shift:-lag_forward - time_shift]\n",
    "        feature_index += feature_per_channel\n",
    "\n",
    "    feature_slice = slice(feature_index, feature_index + feature_per_channel)\n",
    "    X_output_3D[:, :, feature_slice] = X_3D[lag_backward:-lag_forward if lag_forward > 0 else None]  # cetntral point\n",
    "    feature_index += feature_per_channel\n",
    "\n",
    "    for time_shift in range(decimate, lag_forward + decimate, decimate):\n",
    "        feature_slice = slice(feature_index, feature_index + feature_per_channel)\n",
    "        X_output_3D[:, :, feature_slice] = X_3D[lag_backward + time_shift:-lag_forward + time_shift if lag_forward - time_shift > 0 else None]\n",
    "        feature_index += feature_per_channel\n",
    "    assert feature_index == output_features\n",
    "    return X_output_3D\n",
    "\n",
    "\n",
    "LAG_BACKWARD = 250\n",
    "LAG_FOREWARD = 250\n",
    "\n",
    "\n",
    "def prepare_dataset(patients_indexes):\n",
    "    X = []\n",
    "    Y = []\n",
    "    for patient in patients_indexes:\n",
    "        x = None\n",
    "        y = None\n",
    "        if patient == 0:\n",
    "            data = scipy.io.loadmat(\"//home/amplifier/common/pet67/ossadtchi-ml-test-bench/paper/1.mat\")\n",
    "            RIGHT_PAD = 1000\n",
    "            x = data['data'][:30].transpose()[:-RIGHT_PAD]\n",
    "            y = data['data'][30][:-RIGHT_PAD]\n",
    "        else:\n",
    "            x, y = DATA_DICT[f\"SG0{patient}\"]\n",
    "        x = sklearn.preprocessing.scale(x)\n",
    "        X.append(x)\n",
    "        Y.append(y)\n",
    "\n",
    "    X = np.concatenate(X, axis=0)\n",
    "    Y = np.concatenate(Y, axis=0)\n",
    "\n",
    "\n",
    "    X = make_lag_3D(X[:, :, None], LAG_BACKWARD, LAG_FOREWARD, 1)\n",
    "    Y = Y[LAG_BACKWARD:-LAG_FOREWARD if LAG_FOREWARD > 0 else None]\n",
    "    \n",
    "    def all_equal(array):\n",
    "        labels_set = set(array.tolist())\n",
    "        return len(labels_set) == 1 and -1 not in labels_set\n",
    "\n",
    "\n",
    "    good_indexes = []\n",
    "    for i in range(LAG_BACKWARD + 1, Y.shape[0] - LAG_FOREWARD - 1):\n",
    "        if all_equal(Y[i - LAG_BACKWARD - 1:i + LAG_FOREWARD + 1]):\n",
    "            good_indexes.append(i)\n",
    "\n",
    "    X = X[good_indexes]\n",
    "    Y = Y[good_indexes]\n",
    "    \n",
    "    assert X.shape[0] == Y.shape[0], f\"{X.shape[0]} != {Y.shape[0]}\"\n",
    "    \n",
    "    return X, Y.reshape((-1, 1))\n",
    "\n",
    "\n",
    "# patient 1: 0.5\n",
    "# patient 2: 0.4\n",
    "# patient 3: 0.4\n",
    "# patient 4: 0.25\n",
    "# patient 5: 0.4\n",
    "# patient 6: 0.35\n",
    "\n",
    "X_train, Y_train = prepare_dataset([2, 3, 5, 6])\n",
    "X_test, Y_test = prepare_dataset([1])\n",
    "\n",
    "# ntr = int(X_train.shape[0] * 0.5)\n",
    "\n",
    "# X_test = X_train[ntr:]\n",
    "# Y_test = Y_train[ntr:]\n",
    "\n",
    "# X_train = X_train[:ntr]\n",
    "# Y_train = Y_train[:ntr]\n",
    "\n"
   ]
  },
  {
   "cell_type": "code",
   "execution_count": null,
   "metadata": {},
   "outputs": [],
   "source": []
  },
  {
   "cell_type": "code",
   "execution_count": 6,
   "metadata": {},
   "outputs": [
    {
     "data": {
      "image/png": "[encoded data removed]",
      "text/plain": [
       "<Figure size 1152x144 with 1 Axes>"
      ]
     },
     "metadata": {
      "needs_background": "light"
     },
     "output_type": "display_data"
    },
    {
     "data": {
      "image/png": "[encoded data removed]",
      "text/plain": [
       "<Figure size 1152x144 with 1 Axes>"
      ]
     },
     "metadata": {
      "needs_background": "light"
     },
     "output_type": "display_data"
    }
   ],
   "source": [
    "plt.figure(figsize=(16, 2))\n",
    "plt.plot(X_train[:, :, 250])\n",
    "plt.show()\n",
    "\n",
    "plt.figure(figsize=(16, 2))\n",
    "plt.plot(Y_train[:, :])\n",
    "plt.show()"
   ]
  },
  {
   "cell_type": "code",
   "execution_count": 19,
   "metadata": {},
   "outputs": [],
   "source": [
    "import torch\n",
    "from torch.autograd import Variable\n",
    "import torch.nn as nn\n",
    "import torch.nn.functional as F\n",
    "\n",
    "\n",
    "class envelope_detector(nn.Module):\n",
    "    def __init__(self, in_channels, channels_per_channel):\n",
    "        super(self.__class__,self).__init__()\n",
    "        self.FILTERING_SIZE = 100\n",
    "        self.ENVELOPE_SIZE = 50\n",
    "        self.CHANNELS_PER_CHANNEL = channels_per_channel\n",
    "        self.OUTPUT_CHANNELS = self.CHANNELS_PER_CHANNEL * in_channels\n",
    "        self.conv_filtering = nn.Conv1d(in_channels, self.OUTPUT_CHANNELS, bias=False, kernel_size=self.FILTERING_SIZE, groups=in_channels)\n",
    "        self.conv_envelope = nn.Conv1d(self.OUTPUT_CHANNELS, self.OUTPUT_CHANNELS, kernel_size=self.ENVELOPE_SIZE, groups=self.OUTPUT_CHANNELS)\n",
    "        self.conv_envelope.requires_grad = False\n",
    "        self.pre_envelope_batchnorm = torch.nn.BatchNorm1d(self.OUTPUT_CHANNELS, affine=False) \n",
    "        self.relu = torch.nn.ReLU()\n",
    "        self.intermidiate = None\n",
    "        \n",
    "        \n",
    "    def forward(self, x):\n",
    "        x = self.conv_filtering(x)\n",
    "        x = self.pre_envelope_batchnorm(x)\n",
    "        #x = self.relu(x)\n",
    "        x = torch.abs(x)\n",
    "        x = self.conv_envelope(x)\n",
    "        return x\n",
    "\n",
    "\n",
    "class simple_net(nn.Module):\n",
    "    def __init__(self, in_channels, output_channels, lag_backward, lag_forward):\n",
    "        super(self.__class__,self).__init__()\n",
    "        self.ICA_CHANNELS = 5\n",
    "        self.CHANNELS_PER_CHANNEL = 1\n",
    "\n",
    "        self.total_input_channels = self.ICA_CHANNELS\n",
    "        self.lag_backward = lag_backward\n",
    "        self.lag_forward = lag_forward\n",
    "\n",
    "        self.final_out_features = 180\n",
    "\n",
    "        self.ica = nn.Conv1d(in_channels, self.ICA_CHANNELS, 1)\n",
    "\n",
    "        self.detector = envelope_detector(self.total_input_channels, self.CHANNELS_PER_CHANNEL)\n",
    "        self.features_batchnorm = torch.nn.BatchNorm1d(self.final_out_features, affine=False)\n",
    "        self.unmixed_batchnorm = torch.nn.BatchNorm1d(self.total_input_channels, affine=False)\n",
    "\n",
    "        self.wights_second = nn.Linear(self.final_out_features, output_channels)\n",
    "\n",
    "    def forward(self, inputs):\n",
    "        all_inputs = self.ica(inputs)\n",
    "        self.fuck_channels = all_inputs.cpu().data.numpy()\n",
    "        all_inputs = self.unmixed_batchnorm(all_inputs)\n",
    "\n",
    "        detected_envelopes = self.detector(all_inputs)\n",
    "\n",
    "        features  = detected_envelopes[:, :, ::10].contiguous()\n",
    "        features = features.view(features.size(0), -1)\n",
    "        features = self.features_batchnorm(features)\n",
    "        self.pre_out = features.cpu().data.numpy()\n",
    "        output = self.wights_second(features)\n",
    "        return output\n"
   ]
  },
  {
   "cell_type": "code",
   "execution_count": 21,
   "metadata": {},
   "outputs": [
    {
     "name": "stdout",
     "output_type": "stream",
     "text": [
      "Trainable params:  1815\n",
      "Total params:  1815\n"
     ]
    },
    {
     "data": {
      "application/vnd.jupyter.widget-view+json": {
       "model_id": "6a9956e79fe44ead8b0f639f8f1865f3",
       "version_major": 2,
       "version_minor": 0
      },
      "text/plain": [
       "HBox(children=(IntProgress(value=1, bar_style='info', max=1), HTML(value='')))"
      ]
     },
     "metadata": {},
     "output_type": "display_data"
    },
    {
     "ename": "KeyboardInterrupt",
     "evalue": "",
     "output_type": "error",
     "traceback": [
      "\u001b[0;31m---------------------------------------------------------------------------\u001b[0m",
      "\u001b[0;31mKeyboardInterrupt\u001b[0m                         Traceback (most recent call last)",
      "\u001b[0;32m<ipython-input-21-6546c7d6d359>\u001b[0m in \u001b[0;36m<module>\u001b[0;34m\u001b[0m\n\u001b[1;32m     71\u001b[0m \u001b[0;34m\u001b[0m\u001b[0m\n\u001b[1;32m     72\u001b[0m \u001b[0;32mwhile\u001b[0m \u001b[0;32mTrue\u001b[0m\u001b[0;34m:\u001b[0m\u001b[0;34m\u001b[0m\u001b[0m\n\u001b[0;32m---> 73\u001b[0;31m     \u001b[0mprocess_batch\u001b[0m\u001b[0;34m(\u001b[0m\u001b[0mtrain_generator\u001b[0m\u001b[0;34m,\u001b[0m \u001b[0;32mTrue\u001b[0m\u001b[0;34m)\u001b[0m\u001b[0;34m\u001b[0m\u001b[0m\n\u001b[0m\u001b[1;32m     74\u001b[0m     \u001b[0mprocess_batch\u001b[0m\u001b[0;34m(\u001b[0m\u001b[0mtest_generator\u001b[0m\u001b[0;34m,\u001b[0m \u001b[0;32mFalse\u001b[0m\u001b[0;34m)\u001b[0m\u001b[0;34m\u001b[0m\u001b[0m\n\u001b[1;32m     75\u001b[0m \u001b[0;34m\u001b[0m\u001b[0m\n",
      "\u001b[0;32m<ipython-input-21-6546c7d6d359>\u001b[0m in \u001b[0;36mprocess_batch\u001b[0;34m(generator, is_train)\u001b[0m\n\u001b[1;32m     57\u001b[0m         \u001b[0mloss\u001b[0m \u001b[0;34m=\u001b[0m \u001b[0mloss_function\u001b[0m\u001b[0;34m(\u001b[0m\u001b[0my_predicted\u001b[0m\u001b[0;34m,\u001b[0m \u001b[0my_batch\u001b[0m\u001b[0;34m[\u001b[0m\u001b[0;34m:\u001b[0m\u001b[0;34m,\u001b[0m \u001b[0;36m0\u001b[0m\u001b[0;34m]\u001b[0m\u001b[0;34m)\u001b[0m\u001b[0;34m\u001b[0m\u001b[0m\n\u001b[1;32m     58\u001b[0m         \u001b[0mloss\u001b[0m\u001b[0;34m.\u001b[0m\u001b[0mbackward\u001b[0m\u001b[0;34m(\u001b[0m\u001b[0;34m)\u001b[0m\u001b[0;34m\u001b[0m\u001b[0m\n\u001b[0;32m---> 59\u001b[0;31m         \u001b[0moptimizer\u001b[0m\u001b[0;34m.\u001b[0m\u001b[0mstep\u001b[0m\u001b[0;34m(\u001b[0m\u001b[0;34m)\u001b[0m\u001b[0;34m\u001b[0m\u001b[0m\n\u001b[0m\u001b[1;32m     60\u001b[0m     \u001b[0;32melse\u001b[0m\u001b[0;34m:\u001b[0m\u001b[0;34m\u001b[0m\u001b[0m\n\u001b[1;32m     61\u001b[0m         \u001b[0my_predicted\u001b[0m \u001b[0;34m=\u001b[0m \u001b[0mmodel\u001b[0m\u001b[0;34m(\u001b[0m\u001b[0mx_batch\u001b[0m\u001b[0;34m)\u001b[0m\u001b[0;34m\u001b[0m\u001b[0m\n",
      "\u001b[0;32m/opt/conda/lib/python3.6/site-packages/torch/optim/adam.py\u001b[0m in \u001b[0;36mstep\u001b[0;34m(self, closure)\u001b[0m\n\u001b[1;32m    105\u001b[0m                 \u001b[0mstep_size\u001b[0m \u001b[0;34m=\u001b[0m \u001b[0mgroup\u001b[0m\u001b[0;34m[\u001b[0m\u001b[0;34m'lr'\u001b[0m\u001b[0;34m]\u001b[0m \u001b[0;34m*\u001b[0m \u001b[0mmath\u001b[0m\u001b[0;34m.\u001b[0m\u001b[0msqrt\u001b[0m\u001b[0;34m(\u001b[0m\u001b[0mbias_correction2\u001b[0m\u001b[0;34m)\u001b[0m \u001b[0;34m/\u001b[0m \u001b[0mbias_correction1\u001b[0m\u001b[0;34m\u001b[0m\u001b[0m\n\u001b[1;32m    106\u001b[0m \u001b[0;34m\u001b[0m\u001b[0m\n\u001b[0;32m--> 107\u001b[0;31m                 \u001b[0mp\u001b[0m\u001b[0;34m.\u001b[0m\u001b[0mdata\u001b[0m\u001b[0;34m.\u001b[0m\u001b[0maddcdiv_\u001b[0m\u001b[0;34m(\u001b[0m\u001b[0;34m-\u001b[0m\u001b[0mstep_size\u001b[0m\u001b[0;34m,\u001b[0m \u001b[0mexp_avg\u001b[0m\u001b[0;34m,\u001b[0m \u001b[0mdenom\u001b[0m\u001b[0;34m)\u001b[0m\u001b[0;34m\u001b[0m\u001b[0m\n\u001b[0m\u001b[1;32m    108\u001b[0m \u001b[0;34m\u001b[0m\u001b[0m\n\u001b[1;32m    109\u001b[0m         \u001b[0;32mreturn\u001b[0m \u001b[0mloss\u001b[0m\u001b[0;34m\u001b[0m\u001b[0m\n",
      "\u001b[0;31mKeyboardInterrupt\u001b[0m: "
     ]
    }
   ],
   "source": [
    "batch_size = 100\n",
    "lag_backward = LAG_BACKWARD\n",
    "lag_forward = LAG_FOREWARD\n",
    "\n",
    "model = simple_net(X_train.shape[1], 5, lag_backward, lag_forward).cuda()\n",
    "\n",
    "\n",
    "print(\"Trainable params: \",sum(p.numel() for p in model.parameters() if p.requires_grad))\n",
    "print(\"Total params: \",sum(p.numel() for p in model.parameters() if p.requires_grad))\n",
    "loss_function = nn.CrossEntropyLoss()\n",
    "optimizer = torch.optim.Adam(model.parameters(), lr=3e-4)\n",
    "#optimizer = torch.optim.RMSprop(model.parameters(), lr=0.001)\n",
    "\n",
    "\n",
    "loss_history_train = []\n",
    "loss_history_test = []\n",
    "\n",
    "Y_test_sliced = Y_test[lag_backward:]\n",
    "\n",
    "pbar = tqdm_notebook()\n",
    "\n",
    "def batch_iterator(X, Y, batch_size):\n",
    "    assert X.shape[0] == Y.shape[0]\n",
    "    length = len(X)\n",
    "    for index in range(0, length, batch_size):\n",
    "        current_slice = slice(index, min(index + batch_size, length))\n",
    "        yield X[current_slice], Y[current_slice]\n",
    "        \n",
    "def random_iterator(X, Y, batch_size):\n",
    "    assert X.shape[0] == Y.shape[0]\n",
    "    length = len(X)\n",
    "    while True:\n",
    "        indexes = np.random.randint(0, length, batch_size)\n",
    "        yield X[indexes], Y[indexes]\n",
    "\n",
    "train_generator = random_iterator(X_train, Y_train, batch_size)\n",
    "test_generator = random_iterator(X_test, Y_test, batch_size)\n",
    "\n",
    "\n",
    "def process_batch(generator, is_train):\n",
    "    if is_train:\n",
    "        model.train()\n",
    "    else:\n",
    "        model.eval()\n",
    "\n",
    "    x_batch, y_batch = next(generator)\n",
    "    assert x_batch.shape[0] == y_batch.shape[0]\n",
    "    assert y_batch.shape[1] == 1\n",
    "    assert x_batch.shape[1] == 30\n",
    "    x_batch = Variable(torch.FloatTensor(x_batch)).cuda()\n",
    "    y_batch = Variable(torch.LongTensor(y_batch)).cuda()\n",
    "\n",
    "    y_predicted = None\n",
    "    if is_train:\n",
    "        optimizer.zero_grad()\n",
    "        y_predicted = model(x_batch)\n",
    "        loss = loss_function(y_predicted, y_batch[:, 0])\n",
    "        loss.backward()\n",
    "        optimizer.step()\n",
    "    else:\n",
    "        y_predicted = model(x_batch)\n",
    "\n",
    "    assert y_predicted.shape[0] == y_batch.shape[0]\n",
    "\n",
    "    accuracy = np.mean(y_predicted.cpu().detach().numpy().argmax(axis=1) == y_batch.cpu().detach().numpy()[:, 0])\n",
    "\n",
    "    if is_train:\n",
    "        loss_history_train.append(accuracy)\n",
    "    else:\n",
    "        loss_history_test.append(accuracy)\n",
    "\n",
    "while True:\n",
    "    process_batch(train_generator, True)\n",
    "    process_batch(test_generator, False)\n",
    "\n",
    "    # tqdm\n",
    "    pbar.update(1)\n",
    "    eval_lag = min(1000, len(loss_history_train))\n",
    "    pbar.set_postfix(train=np.mean(loss_history_train[-eval_lag:]), val=np.mean(loss_history_test[-eval_lag:]))\n",
    "\n"
   ]
  },
  {
   "cell_type": "code",
   "execution_count": 22,
   "metadata": {},
   "outputs": [],
   "source": [
    "batch_size = 100\n",
    "lag_backward = LAG_BACKWARD\n",
    "lag_forward = LAG_FOREWARD\n",
    "\n",
    "model_name  = \"multi_patient_net\"\n",
    "\n",
    "DUMP_DATA = True\n",
    "if DUMP_DATA:\n",
    "    import pickle\n",
    "    with open('results_data/model_' + model_name, 'wb') as dump_file:\n",
    "        pickle.dump({\"model\": model}, dump_file)\n",
    "\n",
    "\n",
    "LOAD_MODEL = False\n",
    "if LOAD_MODEL:\n",
    "    import pickle\n",
    "    with open('results_data/model_' + model_name, 'rb') as dump_file:\n",
    "        model = pickle.load(dump_file)[\"model\"]"
   ]
  },
  {
   "cell_type": "code",
   "execution_count": 27,
   "metadata": {},
   "outputs": [
    {
     "data": {
      "application/vnd.jupyter.widget-view+json": {
       "model_id": "0b59d43300b04a67909799c7813471fd",
       "version_major": 2,
       "version_minor": 0
      },
      "text/plain": [
       "HBox(children=(IntProgress(value=1, bar_style='info', max=1), HTML(value='')))"
      ]
     },
     "metadata": {},
     "output_type": "display_data"
    },
    {
     "name": "stdout",
     "output_type": "stream",
     "text": [
      "Correlation   val 0.4708087339518321\n"
     ]
    }
   ],
   "source": [
    "X_unmixed = []\n",
    "X_preout = []\n",
    "\n",
    "Y_predicted = []\n",
    "for x_batch, _ in tqdm_notebook(batch_iterator(X_test, Y_test, batch_size)):\n",
    "    #### Train\n",
    "    model.eval()\n",
    "\n",
    "    x_batch = Variable(torch.FloatTensor(x_batch)).cuda()\n",
    "    y_predicted = model(x_batch).cpu().data.numpy()\n",
    "    assert x_batch.shape[0]==y_predicted.shape[0]\n",
    "    Y_predicted.append(y_predicted)\n",
    "    X_unmixed.append(model.fuck_channels)\n",
    "    X_preout.append(model.pre_out)\n",
    "    \n",
    "\n",
    "X_unmixed = np.concatenate(X_unmixed, axis = 0)\n",
    "X_unmixed = X_unmixed[:, :, -1]\n",
    "X_preout = np.concatenate(X_preout, axis=0)\n",
    "Y_predicted = np.concatenate(Y_predicted, axis = 0)\n",
    "\n",
    "print(\"Correlation   val\", np.mean(Y_predicted.argmax(axis=1) == Y_test[:, 0]))"
   ]
  },
  {
   "cell_type": "code",
   "execution_count": null,
   "metadata": {},
   "outputs": [],
   "source": []
  }
 ],
 "metadata": {
  "kernelspec": {
   "display_name": "Python 3",
   "language": "python",
   "name": "python3"
  },
  "language_info": {
   "codemirror_mode": {
    "name": "ipython",
    "version": 3
   },
   "file_extension": ".py",
   "mimetype": "text/x-python",
   "name": "python",
   "nbconvert_exporter": "python",
   "pygments_lexer": "ipython3",
   "version": "3.6.6"
  },
  "varInspector": {
   "cols": {
    "lenName": 16,
    "lenType": 16,
    "lenVar": 40
   },
   "kernels_config": {
    "python": {
     "delete_cmd_postfix": "",
     "delete_cmd_prefix": "del ",
     "library": "var_list.py",
     "varRefreshCmd": "print(var_dic_list())"
    },
    "r": {
     "delete_cmd_postfix": ") ",
     "delete_cmd_prefix": "rm(",
     "library": "var_list.r",
     "varRefreshCmd": "cat(var_dic_list()) "
    }
   },
   "types_to_exclude": [
    "module",
    "function",
    "builtin_function_or_method",
    "instance",
    "_Feature"
   ],
   "window_display": false
  }
 },
 "nbformat": 4,
 "nbformat_minor": 2
}
