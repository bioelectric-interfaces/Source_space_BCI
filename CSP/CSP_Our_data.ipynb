{
 "cells": [
  {
   "cell_type": "code",
   "execution_count": 322,
   "metadata": {},
   "outputs": [],
   "source": [
    "import numpy as np\n",
    "import matplotlib.pyplot as plt\n",
    "\n",
    "from sklearn.pipeline import Pipeline\n",
    "from sklearn.discriminant_analysis import LinearDiscriminantAnalysis\n",
    "from sklearn.model_selection import ShuffleSplit, cross_val_score\n",
    "\n",
    "from mne import Epochs, pick_types, events_from_annotations\n",
    "from mne.channels import make_standard_montage\n",
    "from mne.io import concatenate_raws, read_raw_edf\n",
    "from mne.datasets import eegbci\n",
    "from mne.decoding import CSP\n"
   ]
  },
  {
   "cell_type": "code",
   "execution_count": 323,
   "metadata": {},
   "outputs": [],
   "source": [
    "import pandas as pd\n",
    "import mne"
   ]
  },
  {
   "cell_type": "code",
   "execution_count": 324,
   "metadata": {},
   "outputs": [
    {
     "name": "stdout",
     "output_type": "stream",
     "text": [
      "0 files missing from /opt/conda/lib/python3.7/site-packages/mne/datasets/_fsaverage/root.txt in /home/amplifier/mne_data/MNE-fsaverage-data\n",
      "0 files missing from /opt/conda/lib/python3.7/site-packages/mne/datasets/_fsaverage/bem.txt in /home/amplifier/mne_data/MNE-fsaverage-data/fsaverage\n"
     ]
    }
   ],
   "source": [
    "\n",
    "import os.path as op\n",
    "\n",
    "import mne\n",
    "from mne.datasets import eegbci\n",
    "from mne.datasets import fetch_fsaverage\n",
    "\n",
    "# Download fsaverage files\n",
    "fs_dir = fetch_fsaverage(verbose=True)\n",
    "subjects_dir = op.dirname(fs_dir)\n",
    "\n",
    "# The files live in:\n",
    "subject = 'fsaverage'\n",
    "trans = 'fsaverage'  # MNE has a built-in fsaverage transformation\n",
    "src = op.join(fs_dir, 'bem', 'fsaverage-ico-5-src.fif')\n",
    "bem = op.join(fs_dir, 'bem', 'fsaverage-5120-5120-5120-bem-sol.fif')"
   ]
  },
  {
   "cell_type": "code",
   "execution_count": 325,
   "metadata": {},
   "outputs": [],
   "source": [
    "p=['SG01','SG02','SG03','SG04','SG05','SG06','SG07','SG08','SG09','SG10','SG11','SG12','SG14','SG15','SG16']"
   ]
  },
  {
   "cell_type": "code",
   "execution_count": null,
   "metadata": {},
   "outputs": [],
   "source": []
  },
  {
   "cell_type": "code",
   "execution_count": 326,
   "metadata": {},
   "outputs": [],
   "source": [
    "file_names= ['SG01_motor_clean',\n",
    "             'SG01_motor_im_clean',\n",
    "             'SG01_motor_im_arms_legs_clean',\n",
    "             \n",
    "             'SG02_motor_clean',\n",
    "             'SG02_motor_im_clean',\n",
    "             'SG02_motor_im_arms_legs_clean',\n",
    "             \n",
    "             'SG03_motor_clean',\n",
    "             'SG03_motor_im_clean',\n",
    "             'SG03_motor_im_arms_legs_clean',\n",
    "             \n",
    "             \n",
    "             'SG04_motor_clean',\n",
    "             'SG04_motor_im_clean',\n",
    "             'SG04_motor_im_arms_legs_clean',\n",
    "             \n",
    "             \n",
    "             'SG05_motor_clean',\n",
    "             'SG05_motor_im_clean',\n",
    "             'SG05_motor_im_arms_legs_clean',\n",
    "             \n",
    "             'SG06_motor_im_clean',\n",
    "             'SG06_motor_im_arms_legs_clean',\n",
    "             'SG06_motor_im_clean_2',\n",
    "             'SG06_motor_im_arms_legs_clean_2', \n",
    "             'SG06_motor_im_clean_3',\n",
    "             \n",
    "             'SG10_motor_clean',\n",
    "             'SG10_motor_im_clean',\n",
    "             #'SG10_motor_clean_2',\n",
    "             'SG10_motor_im_clean_2',\n",
    "             'SG10_motor_im_arms_legs_clean_2',\n",
    "             \n",
    "             'SG11_motor_clean',\n",
    "             'SG11_motor_im_clean',\n",
    "             'SG11_motor_im_arms_legs_clean',\n",
    "             \n",
    "             \n",
    "             'SG12_motor_clean',\n",
    "             'SG12_motor_im_clean',\n",
    "             'SG11_motor_1_clean',\n",
    "             'SG11_motor_2_clean',\n",
    "             'SG11_motor_3_clean',\n",
    "             'SG11_motor_all',\n",
    "             'SG12_motor_all',\n",
    "             'SG14_motor_all',\n",
    "             'SG15_motor_all',\n",
    "             'SG16_motor_all'\n",
    "            \n",
    "            ]#,\n",
    "             #'SG12_motor_im_arms_legs_clean',\n",
    "             #'SG12_motor_clean_2']"
   ]
  },
  {
   "cell_type": "code",
   "execution_count": 327,
   "metadata": {},
   "outputs": [],
   "source": [
    "events_dict= {\n",
    "    \n",
    "    'SG01_motor_clean': { 'Right Hand': 4,'Rest': 6, 'Right leg': 7, 'Left leg': 8, 'Left hand':9},\n",
    "    'SG01_motor_im_clean':{'Left_hand':4, 'Rest': 6, 'Right_hand': 7, 'Right_leg': 8, 'Left_leg': 9},\n",
    "    'SG01_motor_im_arms_legs_clean': {'Hands':4,'Legs':6,'Rest':7},\n",
    "    \n",
    "    'SG02_motor_clean': { 'Rest':2 , 'Left leg':4 ,  'Right leg':5, 'Left hand':6,'Right hand':7},\n",
    "    'SG02_motor_im_clean':{ 'Right_leg':2, 'Rest':4, 'Left_leg':5, 'Left_hand':6, 'Righ_hand':7},\n",
    "    'SG02_motor_im_arms_legs_clean': {'Legs':2, 'Hands':4, 'Rest':5},\n",
    "    \n",
    "    'SG03_motor_clean': { 'Left_Hand':1, 'Rest':3,'Left leg':4, 'Right leg':5,'Right hand':6},\n",
    "    'SG03_motor_im_clean':{ 'Left_hand':1,'Left_leg':3, 'Right_hand':4, 'Right_leg':5, 'Rest':6},\n",
    "    'SG03_motor_im_arms_legs_clean': {'Rest':2, 'Hands':4, 'Legs':5},\n",
    "    \n",
    "    'SG04_motor_clean': {'Right hand':2, 'Left leg':4, 'Left hand':5,'Rest':6, 'Right leg:':7},\n",
    "    'SG04_motor_im_clean': {'Left leg':2, 'Rest':4, 'Right_hand':5, 'Right_leg':6, 'Left hand:':7},\n",
    "    'SG04_motor_im_arms_legs_clean': {'Legs':2 , 'Hands':4 , 'Rest':5},\n",
    "    \n",
    "    'SG05_motor_clean': {'Left_Hand':2, 'Right_hand':4, 'Rest':5,'Right_leg':6, 'Left_leg':7},\n",
    "    'SG05_motor_im_clean': {'Left_hand':2, 'Left_leg':4, 'Right_leg':5, 'Right_hand':6, 'Rest':7},\n",
    "    'SG05_motor_im_arms_legs_clean': {'Legs':2 , 'Hands':4 , 'Rest':5},\n",
    "    \n",
    "        \n",
    "    'SG06_motor_im_clean':{'Right_leg':1, 'Left_leg':3, 'Left_hand':4, 'Rest':5, 'Right_hand':6},\n",
    "    'SG06_motor_im_arms_legs_clean': { 'Legs':2, 'Rest':4, 'Hands':5 },\n",
    "    'SG06_motor_im_clean_2': {'Rest':2, 'Right_leg':4, 'Right_hand':5,'Left_leg':6,'Left_hand':7},\n",
    "    'SG06_motor_im_arms_legs_clean_2': {'Legs':2, 'Hands':4, 'Rest':5},\n",
    "    'SG06_motor_im_clean_3': {'Rest':2, 'Left_hand':4, 'Left_leg':5,'Right_leg':6,'Right_hand':7},\n",
    "    \n",
    "    \n",
    "    'SG10_motor_clean':{'Right_Hand':2,'Left_Hand':4,'Left_Leg':5,'Rest':6,'Right_Leg':7},\n",
    "    'SG10_motor_im_clean':{'Left_Leg':2,  'Right_Hand':4, 'Rest':5, 'Left_Hand':6, 'Right_Leg':7},\n",
    "    'SG10_motor_clean_2':{'Left_Leg':2, 'Pause':3, 'Right_Leg':4, 'Right_Hand':5,'Left_Hand':6,'Rest':7},\n",
    "    'SG10_motor_im_clean_2':{ 'Left_Leg':2,  'Right_Leg':4, 'Rest':5,  'Left_Hand':6, 'Right_Hand':7},\n",
    "    'SG10_motor_im_arms_legs_clean_2': {'Rest':2, 'Legs':4, 'Hands':5},\n",
    "    \n",
    "    \n",
    "    'SG11_motor_clean': {'Right_Leg':2,'Left_Leg':4,'Rest':5,'Right_Hand':6,'Left_Hand':7},\n",
    "    'SG11_motor_im_clean':{'Left_Leg':2,  'Right_Leg':4, 'Left_Hand':5,  'Rest':6,'Right_Hand':7} ,\n",
    "    'SG11_motor_im_arms_legs_clean': {'Hands':2, 'Legs':4, 'Rest':5},\n",
    "             \n",
    "             \n",
    "    'SG12_motor_clean':{'Rest':2,'Left_Leg':4,'Left_Hand':5,'Right_Leg':6,'Right_Hand':7},\n",
    "    'SG12_motor_im_clean':{'Rest':2,'Left_Leg':4,'Left_Hand':5,'Right_Leg':6,'Right_Hand':7},\n",
    "    'SG12_motor_im_arms_legs_clean':{'Legs':2, 'Hands':4,'Rest':5},\n",
    "    'SG12_motor_clean_2': {'Right_Hand':2, 'Left_Hand':4, 'Rest':5, 'Left_Leg':6,'Right_Leg':7},\n",
    "    \n",
    "    'SG11_motor_1_clean': {'Right_Hand':12,'Left_Hand':14,'Right_Leg':15,'Left_Leg':16,'Rest':17},\n",
    "    'SG11_motor_2_clean': {'Right_Hand':12,'Left_Hand':14,'Right_Leg':15,'Left_Leg':16,'Rest':17},\n",
    "    'SG11_motor_3_clean': {'Right_Hand':12,'Left_Hand':14,'Right_Leg':15,'Left_Leg':16,'Rest':17},\n",
    "    \n",
    "    'SG11_motor_all': {'Right_Hand':12,'Left_Hand':14,'Right_Leg':15,'Left_Leg':16,'Rest':17},\n",
    "    'SG12_motor_all': {'Right_Hand':12,'Left_Hand':14,'Right_Leg':15,'Left_Leg':16,'Rest':17},\n",
    "    'SG14_motor_all': {'Right_Hand':12,'Left_Hand':14,'Right_Leg':15,'Left_Leg':16,'Rest':17},\n",
    "    'SG15_motor_all': {'Right_Hand':12,'Left_Hand':14,'Right_Leg':15,'Left_Leg':16,'Rest':17},\n",
    "    'SG16_motor_all': {'Right_Hand':12,'Left_Hand':14,'Right_Leg':15,'Left_Leg':16,'Rest':17},\n",
    "}\n",
    "    \n",
    "    "
   ]
  },
  {
   "cell_type": "code",
   "execution_count": 328,
   "metadata": {},
   "outputs": [],
   "source": [
    "from sklearn.model_selection import StratifiedShuffleSplit"
   ]
  },
  {
   "cell_type": "code",
   "execution_count": 329,
   "metadata": {},
   "outputs": [],
   "source": [
    "def events_matrix_from_list(stim_initial):\n",
    "    events_matrix=[]\n",
    "    for i in range(1,len(stim_initial)):\n",
    "        if stim_initial[i]!=stim_initial[i-1]:\n",
    "            events_matrix.append([i,0,str(int(stim_initial[i]))])\n",
    "        \n",
    "    events_matrix=np.array(events_matrix)\n",
    "    \n",
    "    return events_matrix.astype(int)"
   ]
  },
  {
   "cell_type": "code",
   "execution_count": null,
   "metadata": {},
   "outputs": [],
   "source": []
  },
  {
   "cell_type": "code",
   "execution_count": null,
   "metadata": {},
   "outputs": [],
   "source": []
  },
  {
   "cell_type": "code",
   "execution_count": 363,
   "metadata": {},
   "outputs": [
    {
     "data": {
      "text/plain": [
       "'SG16_motor_all'"
      ]
     },
     "execution_count": 363,
     "metadata": {},
     "output_type": "execute_result"
    }
   ],
   "source": [
    "file_names[36]"
   ]
  },
  {
   "cell_type": "code",
   "execution_count": 365,
   "metadata": {},
   "outputs": [
    {
     "name": "stderr",
     "output_type": "stream",
     "text": [
      "<ipython-input-365-8099ede00e54>:14: RuntimeWarning: This filename (Subjects/SG16/SG16_motor_all.fif) does not conform to MNE naming conventions. All raw files should end with raw.fif, raw_sss.fif, raw_tsss.fif, raw.fif.gz, raw_sss.fif.gz, raw_tsss.fif.gz or _meg.fif\n",
      "  raw=mne.io.read_raw_fif('Subjects/'+subject+'/'+file_name+ '.fif',preload=True)\n"
     ]
    },
    {
     "name": "stdout",
     "output_type": "stream",
     "text": [
      "Classification accuracy: 0.361111 / Chance level: 0.800000\n",
      "[ 67  26  70  47  22  41  36  29   3  52   4  77  23   8  30  24  91  40\n",
      "  98  18  83 103  48  68  34  21  60  43  92  10  94  79  51  49  88   0\n",
      "  15  19  32  89  63   2  33  95  86  28  17  39  38  20  85  12  11  16\n",
      "  75  64  57  45  25  93  82  46   1 102  54 104  27  74   7  96  55  97\n",
      "  87   9  99  69  65  78]\n",
      "[ 53  42   6  44  59  80  14  62  72   5  31  90  13  81  66  58  37 101\n",
      "  35  56  71  61  73 100  50  76  84]\n",
      "[ 42   1  66 100  46  18  50  87  63  93  17   3  53  22  74  20   5  21\n",
      "   8  43   0   6  39  84  56  71  77  34  26  40  67  15   7  13  30  25\n",
      "  96   2  65  31  61  23  44  41  29  91  59  83  68  69  51  86  90  82\n",
      "  33  28 103  92  88  64  24   9  98  70 102  81  16  97 104  48 101  85\n",
      "  47  54  78  79  27  14]\n",
      "[36 55 94 19 11 35 75 49 57 73 76 62 32 10 89 45 12 99 38 60 58 37  4 72\n",
      " 95 52 80]\n",
      "[  5   7  20  79  53  41  30  67 104  23  38   0  29  55  16  86   4  25\n",
      "  26  72  93 103  15  66  88 100  92  36  68 102  71  63  49  95  39  73\n",
      "  69  24  40  81  65  13  54  90   2  27  58  80  32  45  60  47  31  51\n",
      "  87   8  77  10  18  94  91  64  84  97  83  96  48   9  12  78  37  85\n",
      "  99  17  44  46  82  62]\n",
      "[ 61   1  98  57   6 101  33  76  56  42  21   3  70  14  74  22  19  59\n",
      "  75  28  11  34  43  89  50  52  35]\n",
      "[ 65  24  95  92  17  67  51 104  75  56  44  60  31  50  35  21  10  14\n",
      "  46  61  80  45  20  52  38  82  26  53  30   8  90  55  96  48  29  43\n",
      "  34  37  58  77  28  97  81  54  57   2  13  42  85   6  27  64  63  74\n",
      "  98  25  70  49  39  78  16  89  94  79   4  66  41  73  23  19  99  11\n",
      "  91  47  76  59  12 100]\n",
      "[ 62  40  18  86 103 102  83  71  22  87   9  93  84   0  15  32  36  69\n",
      "   3  72  68  33  88   5   7 101   1]\n"
     ]
    }
   ],
   "source": [
    "df=pd.DataFrame(columns=['time','window','bias','tasks','csp_len','subject','acc'])\n",
    "\n",
    "for i in range(36,37):\n",
    "    \n",
    "    file_name=file_names[i]\n",
    "\n",
    "    if file_name[:4] in p:\n",
    "        subject = file_name[:4]\n",
    "\n",
    "    tmin, tmax = 0., 6.\n",
    "    event_id = events_dict[file_name]\n",
    "\n",
    "\n",
    "    raw=mne.io.read_raw_fif('Subjects/'+subject+'/'+file_name+ '.fif',preload=True)\n",
    "    \n",
    "    \n",
    "    stim_initial= np.genfromtxt('Subjects/'+subject+'/'+file_name + '_marks.csv', delimiter=',')\n",
    "\n",
    "    events_matrix=events_matrix_from_list(stim_initial)\n",
    "    #raw.set_eeg_reference('average',projection=True)\n",
    "    raw.filter(7., 30., fir_design='firwin', skip_by_annotation='edge')\n",
    "    \n",
    "\n",
    "    epochs = Epochs(raw, events_matrix, event_id, tmin, tmax, proj=True,\n",
    "                    baseline=None, preload=True)\n",
    "    \n",
    "    if len(epochs)<25:\n",
    "        train_idx_s=[np.arange(6,len(epochs)),  np.concatenate([np.arange(0,6),np.arange(12,len(epochs))]),  np.concatenate([np.arange(0,12),np.arange(18,len(epochs))])  ,np.arange(0,len(epochs)-6)]\n",
    "        test_idx_s=[np.arange(0,6)           ,  np.arange(6,12)                                           ,  np.arange(12,18)                                             ,np.arange(len(epochs)-6,len(epochs))]\n",
    "\n",
    "    else:\n",
    "        train_idx_s=[np.arange(10,len(epochs)),  np.concatenate([np.arange(0,10),np.arange(20,len(epochs))]),  np.concatenate([np.arange(0,20),np.arange(30,len(epochs))])  ,np.arange(0,len(epochs)-10)]\n",
    "        test_idx_s=[np.arange(0,10)           ,  np.arange(10,20)                                           ,  np.arange(20,30)                                             ,np.arange(len(epochs)-10,len(epochs))]\n",
    "\n",
    "    \n",
    "    \n",
    "    epochs_train_tmin=0\n",
    "    epochs_train_tmax=6\n",
    "\n",
    "\n",
    "\n",
    "    epochs_train = epochs.copy().crop(tmin=epochs_train_tmin, tmax=epochs_train_tmax)\n",
    "    labels = epochs.events[:, -1] - 2\n",
    "\n",
    "    scores = []\n",
    "    epochs_data = epochs.get_data()\n",
    "    epochs_data_train = epochs_train.get_data()\n",
    "\n",
    "    #cv = ShuffleSplit(10, test_size=0.2, random_state=42)\n",
    "    #cv_split = cv.split(epochs_data_train)\n",
    "\n",
    "    # Assemble a classifier\n",
    "    lda = LinearDiscriminantAnalysis()\n",
    "    csp = CSP(n_components=4, reg=0.1, log=True, norm_trace=False)\n",
    "\n",
    "    # Use scikit-learn Pipeline with cross_val_score function\n",
    "    clf = Pipeline([('CSP', csp), ('LDA', lda)])\n",
    "    scores = cross_val_score(clf, epochs_data_train, labels, cv=cv, n_jobs=1)\n",
    "\n",
    "    # Printing the results\n",
    "    class_balance = np.mean(labels == labels[0])\n",
    "    class_balance = max(class_balance, 1. - class_balance)\n",
    "    print(\"Classification accuracy: %f / Chance level: %f\" % (np.mean(scores),\n",
    "                                                              class_balance))\n",
    "\n",
    "\n",
    "    # plot CSP patterns estimated on full data for visualization\n",
    "    #csp.fit_transform(epochs_data, labels)\n",
    "\n",
    "    #csp.plot_patterns(epochs.info, ch_type='eeg', units='Patterns (AU)', size=1.5)\n",
    "\n",
    "\n",
    "    window=2\n",
    "    step=0.05\n",
    "\n",
    "    sfreq = raw.info['sfreq']\n",
    "    w_length = int(sfreq * window)   # running classifier: window length\n",
    "    w_step = int(sfreq * step)  # running classifier: window step size\n",
    "    w_start = np.arange(0, epochs_data.shape[2] - w_length, w_step)\n",
    "\n",
    "    scores_windows = []\n",
    "\n",
    "    w_times = (w_start + w_length / 2.) / sfreq + epochs.tmin\n",
    "    \n",
    "    if i in (0,3,6,12,24,27):\n",
    "        task='ME'\n",
    "    \n",
    "    elif i in (1,4,7,13,25,28):\n",
    "        task='MI'\n",
    "    \n",
    "    elif i in (2,5,8,14,26):\n",
    "        task='MI_Hands_Feet'\n",
    "    \n",
    "    \n",
    "    cv = StratifiedShuffleSplit(4, test_size=0.25, random_state=43)\n",
    "    cv_split = cv.split(epochs_data_train,labels)\n",
    "\n",
    "    \n",
    "    for train_idx, test_idx in cv_split:\n",
    "    #for tr_ind in range(len(train_idx_s)):\n",
    "        \n",
    "        #train_idx=train_idx_s[tr_ind]\n",
    "        #test_idx=test_idx_s[tr_ind]  \n",
    "        print(train_idx)\n",
    "        print(test_idx)\n",
    "        \n",
    "        y_train, y_test = labels[train_idx], labels[test_idx]\n",
    "\n",
    "        X_train = csp.fit_transform(epochs_data_train[train_idx], y_train)\n",
    "        X_test = csp.transform(epochs_data_train[test_idx])\n",
    "\n",
    "        # fit classifier\n",
    "        lda.fit(X_train, y_train)\n",
    "\n",
    "        # running classifier: test classifier on sliding window\n",
    "        score_this_window = []\n",
    "        for k in range(len(w_start)):\n",
    "            n=w_start[k]\n",
    "            X_test = csp.transform(epochs_data[test_idx][:, :, n:(n + w_length)])\n",
    "            score_this_window.append(lda.score(X_test, y_test))\n",
    "            \n",
    "            \n",
    "                \n",
    "            \n",
    "            one_row=[w_times[k],window,step,task, str(epochs_train_tmin)+' '+str(epochs_train_tmax),subject,lda.score(X_test, y_test)]\n",
    "            ind=len(df)\n",
    "            df.loc[ind]=one_row\n",
    "\n",
    "        \n",
    "\n",
    "        scores_windows.append(score_this_window)\n",
    "    #np.save('CSP_results/CSP_results'+str(i), np.array(scores_windows))\n",
    "    \n",
    "#df.to_pickle('CSP_results_our_data_SG12.pkl') "
   ]
  },
  {
   "cell_type": "code",
   "execution_count": 367,
   "metadata": {},
   "outputs": [],
   "source": [
    "np.save('Individual_accuracy/CSP_SG16.npy', np.array(scores_windows))"
   ]
  },
  {
   "cell_type": "code",
   "execution_count": 316,
   "metadata": {},
   "outputs": [
    {
     "data": {
      "text/plain": [
       "78"
      ]
     },
     "execution_count": 316,
     "metadata": {},
     "output_type": "execute_result"
    }
   ],
   "source": [
    "\n",
    "len(train_idx)"
   ]
  },
  {
   "cell_type": "code",
   "execution_count": 317,
   "metadata": {},
   "outputs": [
    {
     "data": {
      "text/plain": [
       "(27, 32, 500)"
      ]
     },
     "execution_count": 317,
     "metadata": {},
     "output_type": "execute_result"
    }
   ],
   "source": [
    "epochs_data[test_idx][:, :, n:(n + w_length)].shape"
   ]
  },
  {
   "cell_type": "code",
   "execution_count": 366,
   "metadata": {},
   "outputs": [
    {
     "data": {
      "text/plain": [
       "[<matplotlib.lines.Line2D at 0x7f6badf51d10>]"
      ]
     },
     "execution_count": 366,
     "metadata": {},
     "output_type": "execute_result"
    },
    {
     "data": {
      "image/png": "[encoded data removed]",
      "text/plain": [
       "<Figure size 432x288 with 1 Axes>"
      ]
     },
     "metadata": {
      "needs_background": "light"
     },
     "output_type": "display_data"
    }
   ],
   "source": [
    "plt.plot(w_times, np.mean(np.array(scores_windows),0))"
   ]
  },
  {
   "cell_type": "code",
   "execution_count": null,
   "metadata": {},
   "outputs": [],
   "source": []
  },
  {
   "cell_type": "code",
   "execution_count": 182,
   "metadata": {},
   "outputs": [],
   "source": [
    "df_analysis=df[df['time']<4]"
   ]
  },
  {
   "cell_type": "code",
   "execution_count": 183,
   "metadata": {},
   "outputs": [
    {
     "data": {
      "text/html": [
       "<div>\n",
       "<style scoped>\n",
       "    .dataframe tbody tr th:only-of-type {\n",
       "        vertical-align: middle;\n",
       "    }\n",
       "\n",
       "    .dataframe tbody tr th {\n",
       "        vertical-align: top;\n",
       "    }\n",
       "\n",
       "    .dataframe thead th {\n",
       "        text-align: right;\n",
       "    }\n",
       "</style>\n",
       "<table border=\"1\" class=\"dataframe\">\n",
       "  <thead>\n",
       "    <tr style=\"text-align: right;\">\n",
       "      <th></th>\n",
       "      <th>time</th>\n",
       "      <th>bias</th>\n",
       "      <th>acc</th>\n",
       "    </tr>\n",
       "    <tr>\n",
       "      <th>tasks</th>\n",
       "      <th></th>\n",
       "      <th></th>\n",
       "      <th></th>\n",
       "    </tr>\n",
       "  </thead>\n",
       "  <tbody>\n",
       "    <tr>\n",
       "      <th>ME</th>\n",
       "      <td>2.488</td>\n",
       "      <td>0.05</td>\n",
       "      <td>0.344048</td>\n",
       "    </tr>\n",
       "    <tr>\n",
       "      <th>MI</th>\n",
       "      <td>2.488</td>\n",
       "      <td>0.05</td>\n",
       "      <td>0.243254</td>\n",
       "    </tr>\n",
       "  </tbody>\n",
       "</table>\n",
       "</div>"
      ],
      "text/plain": [
       "        time  bias       acc\n",
       "tasks                       \n",
       "ME     2.488  0.05  0.344048\n",
       "MI     2.488  0.05  0.243254"
      ]
     },
     "execution_count": 183,
     "metadata": {},
     "output_type": "execute_result"
    }
   ],
   "source": [
    "df_analysis.groupby('tasks').mean()"
   ]
  },
  {
   "cell_type": "code",
   "execution_count": 181,
   "metadata": {},
   "outputs": [
    {
     "data": {
      "text/html": [
       "<div>\n",
       "<style scoped>\n",
       "    .dataframe tbody tr th:only-of-type {\n",
       "        vertical-align: middle;\n",
       "    }\n",
       "\n",
       "    .dataframe tbody tr th {\n",
       "        vertical-align: top;\n",
       "    }\n",
       "\n",
       "    .dataframe thead th {\n",
       "        text-align: right;\n",
       "    }\n",
       "</style>\n",
       "<table border=\"1\" class=\"dataframe\">\n",
       "  <thead>\n",
       "    <tr style=\"text-align: right;\">\n",
       "      <th></th>\n",
       "      <th>time</th>\n",
       "      <th>bias</th>\n",
       "      <th>acc</th>\n",
       "    </tr>\n",
       "    <tr>\n",
       "      <th>tasks</th>\n",
       "      <th></th>\n",
       "      <th></th>\n",
       "      <th></th>\n",
       "    </tr>\n",
       "  </thead>\n",
       "  <tbody>\n",
       "    <tr>\n",
       "      <th>ME</th>\n",
       "      <td>2.488</td>\n",
       "      <td>0.05</td>\n",
       "      <td>0.293651</td>\n",
       "    </tr>\n",
       "  </tbody>\n",
       "</table>\n",
       "</div>"
      ],
      "text/plain": [
       "        time  bias       acc\n",
       "tasks                       \n",
       "ME     2.488  0.05  0.293651"
      ]
     },
     "execution_count": 181,
     "metadata": {},
     "output_type": "execute_result"
    }
   ],
   "source": [
    "df_analysis.groupby('tasks').mean()"
   ]
  },
  {
   "cell_type": "code",
   "execution_count": 79,
   "metadata": {},
   "outputs": [
    {
     "data": {
      "text/plain": [
       "[array([0, 1, 2, 3, 4, 5]),\n",
       " array([ 6,  7,  8,  9, 10, 11]),\n",
       " array([12, 13, 14, 15, 16, 17]),\n",
       " array([18, 19, 20, 21, 22, 23])]"
      ]
     },
     "execution_count": 79,
     "metadata": {},
     "output_type": "execute_result"
    }
   ],
   "source": [
    "test_idx_s"
   ]
  },
  {
   "cell_type": "code",
   "execution_count": null,
   "metadata": {},
   "outputs": [],
   "source": []
  },
  {
   "cell_type": "code",
   "execution_count": null,
   "metadata": {
    "collapsed": true,
    "jupyter": {
     "outputs_hidden": true
    }
   },
   "outputs": [],
   "source": []
  },
  {
   "cell_type": "code",
   "execution_count": 80,
   "metadata": {},
   "outputs": [
    {
     "data": {
      "image/png": "[encoded data removed]",
      "text/plain": [
       "<Figure size 432x288 with 1 Axes>"
      ]
     },
     "metadata": {
      "needs_background": "light"
     },
     "output_type": "display_data"
    }
   ],
   "source": [
    "plt.figure()\n",
    "plt.plot(w_times,np.mean(scores_windows, 0), label='Score')\n",
    "plt.axvline(0, linestyle='--', color='k', label='Onset')\n",
    "plt.axhline(0.33, linestyle='-', color='k', label='Chance')\n",
    "plt.xlabel('time (s)')\n",
    "plt.ylabel('classification accuracy')\n",
    "plt.title('Classification score over time')\n",
    "plt.legend(loc='lower right')\n",
    "plt.show()\n",
    "\n",
    "np.save('CSP_results/CSP_results'+str(i), np.array(scores_windows))"
   ]
  },
  {
   "cell_type": "code",
   "execution_count": null,
   "metadata": {},
   "outputs": [],
   "source": []
  },
  {
   "cell_type": "code",
   "execution_count": null,
   "metadata": {},
   "outputs": [],
   "source": []
  },
  {
   "cell_type": "raw",
   "metadata": {},
   "source": [
    "\n",
    "for i in range(0,_len(file_names)):\n",
    "\n",
    "\n",
    "    file_name=file_names[i]\n",
    "    \n",
    "    if file_name[:4] in p:\n",
    "        subject = file_name[:4]\n",
    "        \n",
    "    tmin, tmax = -1., 4.\n",
    "    event_id = events_dict[file_name]\n",
    "    \n",
    "    \n",
    "    raw=mne.io.read_raw_fif(raw_file_nm+ '.fif',preload=True)\n",
    "    stim_initial= np.genfromtxt(raw_file_nm + '_marks.csv', delimiter=',')\n",
    "    \n",
    "    events_matrix=events_matrix_from_list(stim_initial)\n",
    "    \n",
    "    epochs = Epochs(raw, events_matrix, event_id, tmin, tmax, proj=True, picks=picks,\n",
    "                    baseline=None, preload=True)\n",
    "    \n",
    "    \n",
    "    \n",
    "    epochs_train_tmin=1\n",
    "    epochs_train_tmax=2\n",
    "    \n",
    "    epochs_train = epochs.copy().crop(tmin=1., tmax=2.)\n",
    "    \n",
    "    \n",
    "    \n",
    "    labels = epochs.events[:, -1] - 2\n",
    "    \n",
    "    scores = []\n",
    "    epochs_data = epochs.get_data()\n",
    "    epochs_data_train = epochs_train.get_data()\n",
    "    \n",
    "    cv = ShuffleSplit(10, test_size=0.2, random_state=42)\n",
    "    cv_split = cv.split(epochs_data_train)\n",
    "    \n",
    "    # Assemble a classifier\n",
    "    lda = LinearDiscriminantAnalysis()\n",
    "    csp = CSP(n_components=4, reg=None, log=True, norm_trace=False)\n",
    "    \n",
    "    # Use scikit-learn Pipeline with cross_val_score function\n",
    "    clf = Pipeline([('CSP', csp), ('LDA', lda)])\n",
    "    scores = cross_val_score(clf, epochs_data_train, labels, cv=cv, n_jobs=1)\n",
    "    \n",
    "    # Printing the results\n",
    "    class_balance = np.mean(labels == labels[0])\n",
    "    class_balance = max(class_balance, 1. - class_balance)\n",
    "    print(\"Classification accuracy: %f / Chance level: %f\" % (np.mean(scores),\n",
    "                                                              class_balance))\n",
    "    \n",
    "    # plot CSP patterns estimated on full data for visualization\n",
    "    csp.fit_transform(epochs_data, labels)\n",
    "    \n",
    "    csp.plot_patterns(epochs.info, ch_type='eeg', units='Patterns (AU)', size=1.5)\n",
    "    \n",
    "    \n",
    "    window=2\n",
    "    step=0.2\n",
    "    \n",
    "    sfreq = raw.info['sfreq']\n",
    "    w_length = int(sfreq * window)   # running classifier: window length\n",
    "    w_step = int(sfreq * 0.2)  # running classifier: window step size\n",
    "    w_start = np.arange(0, epochs_data.shape[2] - w_length, w_step)\n",
    "    \n",
    "    scores_windows = []\n",
    "    \n",
    "    w_times = (w_start + w_length / 2.) / sfreq + epochs.tmin\n",
    "    for train_idx, test_idx in cv_split:\n",
    "        y_train, y_test = labels[train_idx], labels[test_idx]\n",
    "    \n",
    "        X_train = csp.fit_transform(epochs_data_train[train_idx], y_train)\n",
    "        X_test = csp.transform(epochs_data_train[test_idx])\n",
    "    \n",
    "        # fit classifier\n",
    "        lda.fit(X_train, y_train)\n",
    "    \n",
    "        # running classifier: test classifier on sliding window\n",
    "        score_this_window = []\n",
    "        for k in range(len(w_start)):\n",
    "            n=w_start[k]\n",
    "            X_test = csp.transform(epochs_data[test_idx][:, :, n:(n + w_length)])\n",
    "            score_this_window.append(lda.score(X_test, y_test))\n",
    "            \n",
    "            one_row=[w_times[k],window,step,'MI_Hands', str(epochs_train_tmin)+' '+str(epochs_train_tmax),lda.score(X_test, y_test)]\n",
    "            ind=len(df)\n",
    "            df.loc[ind]=one_row\n",
    "\n",
    "            print(aaaa)\n",
    "            \n",
    "        scores_windows.append(score_this_window)\n",
    "    \n",
    "    # Plot scores over time\n",
    "    w_times = (w_start + w_length / 2.) / sfreq + epochs.tmin\n",
    "    \n",
    "    plt.figure()\n",
    "    plt.plot(w_times, np.mean(scores_windows, 0), label='Score')\n",
    "    plt.axvline(0, linestyle='--', color='k', label='Onset')\n",
    "    plt.axhline(0.5, linestyle='-', color='k', label='Chance')\n",
    "    plt.xlabel('time (s)')\n",
    "    plt.ylabel('classification accuracy')\n",
    "    plt.title('Classification score over time')\n",
    "    plt.legend(loc='lower right')\n",
    "    plt.show()\n",
    "    \n",
    "    np.save('CSP_results/CSP_results'+str(i), np.array(scores_windows))\n",
    "\n",
    "    df.iloc"
   ]
  },
  {
   "cell_type": "code",
   "execution_count": 81,
   "metadata": {},
   "outputs": [],
   "source": []
  },
  {
   "cell_type": "markdown",
   "metadata": {},
   "source": [
    "# Много измерений"
   ]
  },
  {
   "cell_type": "raw",
   "metadata": {
    "jupyter": {
     "outputs_hidden": true
    }
   },
   "source": [
    "df=pd.DataFrame(columns=['time','window','bias','tasks','csp_len','subject','acc'])\n",
    "windows=[2]#[0.5,1,2]\n",
    "bias=[0.1]#,0.2]\n",
    "\n",
    "\n",
    "for w in windows:\n",
    "    \n",
    "    for b in bias:\n",
    "        \n",
    "        for i in range(1,20):\n",
    "\n",
    "\n",
    "            subject = i\n",
    "\n",
    "            tmin, tmax = -1., 4.\n",
    "            event_id = dict(hands=2, feet=3)\n",
    "\n",
    "            runs = [6, 10, 14]  # motor imagery: hands vs feet\n",
    "\n",
    "\n",
    "            raw_fnames = eegbci.load_data(subject, runs)\n",
    "            raw = concatenate_raws([read_raw_edf(f, preload=True) for f in raw_fnames])\n",
    "            raw.rename_channels(lambda x: x.strip('.'))\n",
    "            raw.rename_channels(lambda x: x.replace('Cp','CP'))\n",
    "            raw.rename_channels(lambda x: x.replace('Fc','FC'))\n",
    "            raw.rename_channels(lambda x: x.replace('Af','AF'))\n",
    "            raw.rename_channels(lambda x: x.replace('Ft','FT'))\n",
    "            raw.rename_channels(lambda x: x.replace('Tp','TP'))\n",
    "            raw.rename_channels(lambda x: x.replace('Po','PO'))\n",
    "\n",
    "\n",
    "            montage = make_standard_montage('standard_1005')\n",
    "            raw.set_montage(montage)\n",
    "\n",
    "            raw.rename_channels(lambda x: x.strip('.'))\n",
    "\n",
    "\n",
    "            raw.filter(7., 30., fir_design='firwin', skip_by_annotation='edge')\n",
    "\n",
    "            events, _ = events_from_annotations(raw, event_id=dict(T1=2, T2=3))\n",
    "\n",
    "            picks = pick_types(raw.info, meg=False, eeg=True, stim=False, eog=False,\n",
    "                               exclude='bads')\n",
    "\n",
    "\n",
    "\n",
    "            epochs = Epochs(raw, events, event_id, tmin, tmax, proj=True, picks=picks,\n",
    "                            baseline=None, preload=True)\n",
    "\n",
    "            epochs_train_tmin=1\n",
    "            epochs_train_tmax=2\n",
    "\n",
    "            epochs_train = epochs.copy().crop(tmin=1., tmax=2.)\n",
    "\n",
    "\n",
    "\n",
    "            labels = epochs.events[:, -1] - 2\n",
    "\n",
    "            scores = []\n",
    "            epochs_data = epochs.get_data()\n",
    "            epochs_data_train = epochs_train.get_data()\n",
    "\n",
    "            cv = ShuffleSplit(10, test_size=0.2, random_state=42)\n",
    "            cv_split = cv.split(epochs_data_train)\n",
    "\n",
    "            # Assemble a classifier\n",
    "            lda = LinearDiscriminantAnalysis()\n",
    "            csp = CSP(n_components=4, reg=None, log=True, norm_trace=False)\n",
    "\n",
    "            # Use scikit-learn Pipeline with cross_val_score function\n",
    "            clf = Pipeline([('CSP', csp), ('LDA', lda)])\n",
    "            scores = cross_val_score(clf, epochs_data_train, labels, cv=cv, n_jobs=1)\n",
    "\n",
    "            # Printing the results\n",
    "            class_balance = np.mean(labels == labels[0])\n",
    "            class_balance = max(class_balance, 1. - class_balance)\n",
    "            print(\"Classification accuracy: %f / Chance level: %f\" % (np.mean(scores),\n",
    "                                                                      class_balance))\n",
    "\n",
    "            # plot CSP patterns estimated on full data for visualization\n",
    "            csp.fit_transform(epochs_data, labels)\n",
    "\n",
    "            csp.plot_patterns(epochs.info, ch_type='eeg', units='Patterns (AU)', size=1.5)\n",
    "\n",
    "\n",
    "            window=w\n",
    "            step=b\n",
    "\n",
    "            sfreq = raw.info['sfreq']\n",
    "            w_length = int(sfreq * window)   # running classifier: window length\n",
    "            w_step = int(sfreq * step)  # running classifier: window step size\n",
    "            w_start = np.arange(0, epochs_data.shape[2] - w_length, w_step)\n",
    "\n",
    "            scores_windows = []\n",
    "\n",
    "            w_times = (w_start + w_length / 2.) / sfreq + epochs.tmin\n",
    "            for train_idx, test_idx in cv_split:\n",
    "                y_train, y_test = labels[train_idx], labels[test_idx]\n",
    "\n",
    "                X_train = csp.fit_transform(epochs_data_train[train_idx], y_train)\n",
    "                X_test = csp.transform(epochs_data_train[test_idx])\n",
    "\n",
    "                # fit classifier\n",
    "                lda.fit(X_train, y_train)\n",
    "\n",
    "                # running classifier: test classifier on sliding window\n",
    "                score_this_window = []\n",
    "                for k in range(len(w_start)):\n",
    "                    n=w_start[k]\n",
    "                    X_test = csp.transform(epochs_data[test_idx][:, :, n:(n + w_length)])\n",
    "                    score_this_window.append(lda.score(X_test, y_test))\n",
    "\n",
    "                    one_row=[w_times[k],window,step,'MI_Hands', str(epochs_train_tmin)+' '+str(epochs_train_tmax),i,lda.score(X_test, y_test)]\n",
    "                    ind=len(df)\n",
    "                    df.loc[ind]=one_row\n",
    "\n",
    "                    \n",
    "\n",
    "                scores_windows.append(score_this_window)\n",
    "\n",
    "            # Plot scores over time\n",
    "            w_times = (w_start + w_length / 2.) / sfreq + epochs.tmin\n",
    "\n",
    "            plt.figure()\n",
    "            plt.plot(w_times, np.mean(scores_windows, 0), label='Score')\n",
    "            plt.axvline(0, linestyle='--', color='k', label='Onset')\n",
    "            plt.axhline(0.5, linestyle='-', color='k', label='Chance')\n",
    "            plt.xlabel('time (s)')\n",
    "            plt.ylabel('classification accuracy')\n",
    "            plt.title('Classification score over time')\n",
    "            plt.legend(loc='lower right')\n",
    "            plt.show()\n",
    "\n",
    "            np.save('CSP_results/CSP_results'+str(i), np.array(scores_windows))\n",
    "\n",
    "            df.iloc"
   ]
  },
  {
   "cell_type": "code",
   "execution_count": null,
   "metadata": {},
   "outputs": [],
   "source": []
  },
  {
   "cell_type": "code",
   "execution_count": null,
   "metadata": {},
   "outputs": [],
   "source": []
  },
  {
   "cell_type": "code",
   "execution_count": null,
   "metadata": {},
   "outputs": [],
   "source": [
    "file_names[i]"
   ]
  },
  {
   "cell_type": "code",
   "execution_count": 82,
   "metadata": {},
   "outputs": [
    {
     "data": {
      "image/png": "[encoded data removed]",
      "text/plain": [
       "<Figure size 1080x720 with 1 Axes>"
      ]
     },
     "metadata": {
      "needs_background": "light"
     },
     "output_type": "display_data"
    }
   ],
   "source": [
    "plt.figure(figsize=(15,10))\n",
    "for i in range(3,6):\n",
    "    \n",
    "    scores_windows=np.load('CSP_results/CSP_results'+str(i)+'.npy')\n",
    "    \n",
    "\n",
    "    plt.plot(w_times,np.mean(scores_windows, 0), label=file_names[i])\n",
    "    \n",
    "    \n",
    "plt.axvline(0, linestyle='--', color='k', label='Onset')\n",
    "plt.axhline(0.2, linestyle='-', color='k', label='Chance')\n",
    "plt.axhline(0.33, linestyle='-', color='k', label='Chance')\n",
    "plt.xlabel('time (s)')\n",
    "plt.ylabel('classification accuracy')\n",
    "plt.title('Classification score over time')\n",
    "plt.legend(loc='lower right')\n",
    "\n",
    "plt.show()"
   ]
  },
  {
   "cell_type": "code",
   "execution_count": 126,
   "metadata": {},
   "outputs": [
    {
     "data": {
      "text/plain": [
       "(1, 46)"
      ]
     },
     "execution_count": 126,
     "metadata": {},
     "output_type": "execute_result"
    }
   ],
   "source": [
    "scores_windows.shape"
   ]
  },
  {
   "cell_type": "code",
   "execution_count": null,
   "metadata": {},
   "outputs": [],
   "source": []
  }
 ],
 "metadata": {
  "kernelspec": {
   "display_name": "Python 3",
   "language": "python",
   "name": "python3"
  },
  "language_info": {
   "codemirror_mode": {
    "name": "ipython",
    "version": 3
   },
   "file_extension": ".py",
   "mimetype": "text/x-python",
   "name": "python",
   "nbconvert_exporter": "python",
   "pygments_lexer": "ipython3",
   "version": "3.7.8"
  }
 },
 "nbformat": 4,
 "nbformat_minor": 4
}
