{
 "cells": [
  {
   "cell_type": "code",
   "execution_count": 19,
   "metadata": {},
   "outputs": [],
   "source": [
    "import mne\n",
    "import numpy as np\n",
    "import matplotlib.pyplot as plt"
   ]
  },
  {
   "cell_type": "code",
   "execution_count": 30,
   "metadata": {},
   "outputs": [],
   "source": [
    "subject = 'SG16'\n"
   ]
  },
  {
   "cell_type": "code",
   "execution_count": 31,
   "metadata": {},
   "outputs": [
    {
     "name": "stdout",
     "output_type": "stream",
     "text": [
      "Opening raw data file Subjects/SG16/SG16_motor_1_clean.fif...\n",
      "    Range : 0 ... 82342 =      0.000 ...   329.368 secs\n",
      "Ready.\n",
      "Reading 0 ... 82342  =      0.000 ...   329.368 secs...\n"
     ]
    },
    {
     "name": "stderr",
     "output_type": "stream",
     "text": [
      "<ipython-input-31-593781f5d6c0>:2: RuntimeWarning: This filename (Subjects/SG16/SG16_motor_1_clean.fif) does not conform to MNE naming conventions. All raw files should end with raw.fif, raw_sss.fif, raw_tsss.fif, raw.fif.gz, raw_sss.fif.gz, raw_tsss.fif.gz or _meg.fif\n",
      "  raw_1=mne.io.read_raw_fif('Subjects/'+subject+'/'+file_name+ '.fif',preload=True)\n"
     ]
    }
   ],
   "source": [
    "file_name='SG16_motor_1_clean'\n",
    "raw_1=mne.io.read_raw_fif('Subjects/'+subject+'/'+file_name+ '.fif',preload=True)\n",
    "stim_initial_1= np.genfromtxt('Subjects/'+subject+'/'+file_name + '_marks.csv', delimiter=',')\n"
   ]
  },
  {
   "cell_type": "code",
   "execution_count": 32,
   "metadata": {},
   "outputs": [
    {
     "name": "stdout",
     "output_type": "stream",
     "text": [
      "Opening raw data file Subjects/SG16/SG16_motor_2_clean.fif...\n",
      "    Range : 0 ... 82418 =      0.000 ...   329.672 secs\n",
      "Ready.\n",
      "Reading 0 ... 82418  =      0.000 ...   329.672 secs...\n"
     ]
    },
    {
     "name": "stderr",
     "output_type": "stream",
     "text": [
      "<ipython-input-32-9f04cea8e625>:2: RuntimeWarning: This filename (Subjects/SG16/SG16_motor_2_clean.fif) does not conform to MNE naming conventions. All raw files should end with raw.fif, raw_sss.fif, raw_tsss.fif, raw.fif.gz, raw_sss.fif.gz, raw_tsss.fif.gz or _meg.fif\n",
      "  raw_2=mne.io.read_raw_fif('Subjects/'+subject+'/'+file_name+ '.fif',preload=True)\n"
     ]
    }
   ],
   "source": [
    "file_name='SG16_motor_2_clean'\n",
    "raw_2=mne.io.read_raw_fif('Subjects/'+subject+'/'+file_name+ '.fif',preload=True)\n",
    "stim_initial_2= np.genfromtxt('Subjects/'+subject+'/'+file_name + '_marks.csv', delimiter=',')\n"
   ]
  },
  {
   "cell_type": "code",
   "execution_count": 33,
   "metadata": {},
   "outputs": [
    {
     "name": "stdout",
     "output_type": "stream",
     "text": [
      "Opening raw data file Subjects/SG16/SG16_motor_3_clean.fif...\n",
      "    Range : 0 ... 82399 =      0.000 ...   329.596 secs\n",
      "Ready.\n",
      "Reading 0 ... 82399  =      0.000 ...   329.596 secs...\n"
     ]
    },
    {
     "name": "stderr",
     "output_type": "stream",
     "text": [
      "<ipython-input-33-494fe255dedd>:2: RuntimeWarning: This filename (Subjects/SG16/SG16_motor_3_clean.fif) does not conform to MNE naming conventions. All raw files should end with raw.fif, raw_sss.fif, raw_tsss.fif, raw.fif.gz, raw_sss.fif.gz, raw_tsss.fif.gz or _meg.fif\n",
      "  raw_3=mne.io.read_raw_fif('Subjects/'+subject+'/'+file_name+ '.fif',preload=True)\n"
     ]
    }
   ],
   "source": [
    "file_name='SG16_motor_3_clean'\n",
    "raw_3=mne.io.read_raw_fif('Subjects/'+subject+'/'+file_name+ '.fif',preload=True)\n",
    "stim_initial_3= np.genfromtxt('Subjects/'+subject+'/'+file_name + '_marks.csv', delimiter=',')\n"
   ]
  },
  {
   "cell_type": "code",
   "execution_count": 34,
   "metadata": {},
   "outputs": [],
   "source": [
    "raw=mne.concatenate_raws([raw_1,raw_2,raw_3])"
   ]
  },
  {
   "cell_type": "code",
   "execution_count": 35,
   "metadata": {},
   "outputs": [],
   "source": [
    "stim_initial=np.concatenate([stim_initial_1,stim_initial_2,stim_initial_3])"
   ]
  },
  {
   "cell_type": "code",
   "execution_count": 36,
   "metadata": {},
   "outputs": [
    {
     "data": {
      "text/plain": [
       "[<matplotlib.lines.Line2D at 0x7fb075500910>]"
      ]
     },
     "execution_count": 36,
     "metadata": {},
     "output_type": "execute_result"
    },
    {
     "data": {
      "image/png": "[encoded data removed]",
      "text/plain": [
       "<Figure size 432x288 with 1 Axes>"
      ]
     },
     "metadata": {
      "needs_background": "light"
     },
     "output_type": "display_data"
    }
   ],
   "source": [
    "plt.plot(stim_initial)"
   ]
  },
  {
   "cell_type": "code",
   "execution_count": 37,
   "metadata": {},
   "outputs": [
    {
     "name": "stdout",
     "output_type": "stream",
     "text": [
      "Writing /home/amplifier/common/gurasog/Subjects/SG16/SG16_motor_all.fif\n"
     ]
    },
    {
     "name": "stderr",
     "output_type": "stream",
     "text": [
      "<ipython-input-37-90bb4c88d40a>:1: RuntimeWarning: This filename (/home/amplifier/common/gurasog/Subjects/SG16/SG16_motor_all.fif) does not conform to MNE naming conventions. All raw files should end with raw.fif, raw_sss.fif, raw_tsss.fif, raw.fif.gz, raw_sss.fif.gz, raw_tsss.fif.gz or _meg.fif\n",
      "  raw.save('Subjects/'+subject+'/SG16_motor_all.fif')\n"
     ]
    },
    {
     "name": "stdout",
     "output_type": "stream",
     "text": [
      "Closing /home/amplifier/common/gurasog/Subjects/SG16/SG16_motor_all.fif [done]\n"
     ]
    }
   ],
   "source": [
    "raw.save('Subjects/'+subject+'/SG16_motor_all.fif')"
   ]
  },
  {
   "cell_type": "code",
   "execution_count": 38,
   "metadata": {},
   "outputs": [],
   "source": [
    "np.savetxt('Subjects/'+subject+'/SG16_motor_all_marks.csv',stim_initial)"
   ]
  },
  {
   "cell_type": "code",
   "execution_count": null,
   "metadata": {},
   "outputs": [],
   "source": []
  }
 ],
 "metadata": {
  "kernelspec": {
   "display_name": "Python 3",
   "language": "python",
   "name": "python3"
  },
  "language_info": {
   "codemirror_mode": {
    "name": "ipython",
    "version": 3
   },
   "file_extension": ".py",
   "mimetype": "text/x-python",
   "name": "python",
   "nbconvert_exporter": "python",
   "pygments_lexer": "ipython3",
   "version": "3.7.8"
  }
 },
 "nbformat": 4,
 "nbformat_minor": 4
}
